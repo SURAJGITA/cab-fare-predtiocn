{
 "cells": [
  {
   "cell_type": "code",
   "execution_count": 1,
   "metadata": {},
   "outputs": [
    {
     "name": "stderr",
     "output_type": "stream",
     "text": [
      "Using TensorFlow backend.\n"
     ]
    }
   ],
   "source": [
    "#IMPORT ALL NEEDED LIBRARIES\n",
    "import pandas as pd\n",
    "from os import *\n",
    "import numpy as np\n",
    "import matplotlib.pyplot as plt\n",
    "import seaborn as sns\n",
    "from fancyimpute import KNN\n",
    "from geopy.distance import geodesic\n",
    "from geopy.distance import great_circle\n",
    "from sklearn import linear_model\n",
    "from sklearn.model_selection import train_test_split\n",
    "import statsmodels.api as sm\n",
    "from sklearn.tree import DecisionTreeRegressor\n",
    "from sklearn.ensemble import RandomForestRegressor"
   ]
  },
  {
   "cell_type": "code",
   "execution_count": 2,
   "metadata": {},
   "outputs": [],
   "source": [
    "%matplotlib inline"
   ]
  },
  {
   "cell_type": "code",
   "execution_count": 3,
   "metadata": {},
   "outputs": [],
   "source": [
    "#IMPORT CSV FILE AND CONVERT THE REQUIRED DATA TYPES\n",
    "getcwd()\n",
    "train_cab=pd.read_csv('C:\\\\Users\\\\My guest\\\\Desktop\\\\cab project\\\\train_cab.csv')\n",
    "test_cab = pd.read_csv('C:\\\\Users\\\\My guest\\\\Desktop\\\\cab project\\\\test.csv')"
   ]
  },
  {
   "cell_type": "code",
   "execution_count": 4,
   "metadata": {},
   "outputs": [
    {
     "data": {
      "text/html": [
       "<div>\n",
       "<style scoped>\n",
       "    .dataframe tbody tr th:only-of-type {\n",
       "        vertical-align: middle;\n",
       "    }\n",
       "\n",
       "    .dataframe tbody tr th {\n",
       "        vertical-align: top;\n",
       "    }\n",
       "\n",
       "    .dataframe thead th {\n",
       "        text-align: right;\n",
       "    }\n",
       "</style>\n",
       "<table border=\"1\" class=\"dataframe\">\n",
       "  <thead>\n",
       "    <tr style=\"text-align: right;\">\n",
       "      <th></th>\n",
       "      <th>fare_amount</th>\n",
       "      <th>pickup_datetime</th>\n",
       "      <th>pickup_longitude</th>\n",
       "      <th>pickup_latitude</th>\n",
       "      <th>dropoff_longitude</th>\n",
       "      <th>dropoff_latitude</th>\n",
       "      <th>passenger_count</th>\n",
       "    </tr>\n",
       "  </thead>\n",
       "  <tbody>\n",
       "    <tr>\n",
       "      <th>0</th>\n",
       "      <td>4.5</td>\n",
       "      <td>2009-06-15 17:26:21 UTC</td>\n",
       "      <td>-73.844311</td>\n",
       "      <td>40.721319</td>\n",
       "      <td>-73.841610</td>\n",
       "      <td>40.712278</td>\n",
       "      <td>1.0</td>\n",
       "    </tr>\n",
       "    <tr>\n",
       "      <th>1</th>\n",
       "      <td>16.9</td>\n",
       "      <td>2010-01-05 16:52:16 UTC</td>\n",
       "      <td>-74.016048</td>\n",
       "      <td>40.711303</td>\n",
       "      <td>-73.979268</td>\n",
       "      <td>40.782004</td>\n",
       "      <td>1.0</td>\n",
       "    </tr>\n",
       "    <tr>\n",
       "      <th>2</th>\n",
       "      <td>5.7</td>\n",
       "      <td>2011-08-18 00:35:00 UTC</td>\n",
       "      <td>-73.982738</td>\n",
       "      <td>40.761270</td>\n",
       "      <td>-73.991242</td>\n",
       "      <td>40.750562</td>\n",
       "      <td>2.0</td>\n",
       "    </tr>\n",
       "    <tr>\n",
       "      <th>3</th>\n",
       "      <td>7.7</td>\n",
       "      <td>2012-04-21 04:30:42 UTC</td>\n",
       "      <td>-73.987130</td>\n",
       "      <td>40.733143</td>\n",
       "      <td>-73.991567</td>\n",
       "      <td>40.758092</td>\n",
       "      <td>1.0</td>\n",
       "    </tr>\n",
       "    <tr>\n",
       "      <th>4</th>\n",
       "      <td>5.3</td>\n",
       "      <td>2010-03-09 07:51:00 UTC</td>\n",
       "      <td>-73.968095</td>\n",
       "      <td>40.768008</td>\n",
       "      <td>-73.956655</td>\n",
       "      <td>40.783762</td>\n",
       "      <td>1.0</td>\n",
       "    </tr>\n",
       "  </tbody>\n",
       "</table>\n",
       "</div>"
      ],
      "text/plain": [
       "  fare_amount          pickup_datetime  pickup_longitude  pickup_latitude  \\\n",
       "0         4.5  2009-06-15 17:26:21 UTC        -73.844311        40.721319   \n",
       "1        16.9  2010-01-05 16:52:16 UTC        -74.016048        40.711303   \n",
       "2         5.7  2011-08-18 00:35:00 UTC        -73.982738        40.761270   \n",
       "3         7.7  2012-04-21 04:30:42 UTC        -73.987130        40.733143   \n",
       "4         5.3  2010-03-09 07:51:00 UTC        -73.968095        40.768008   \n",
       "\n",
       "   dropoff_longitude  dropoff_latitude  passenger_count  \n",
       "0         -73.841610         40.712278              1.0  \n",
       "1         -73.979268         40.782004              1.0  \n",
       "2         -73.991242         40.750562              2.0  \n",
       "3         -73.991567         40.758092              1.0  \n",
       "4         -73.956655         40.783762              1.0  "
      ]
     },
     "execution_count": 4,
     "metadata": {},
     "output_type": "execute_result"
    }
   ],
   "source": [
    "#GET THE FEEL OF THE DATA\n",
    "train_cab.head()"
   ]
  },
  {
   "cell_type": "code",
   "execution_count": 5,
   "metadata": {},
   "outputs": [
    {
     "data": {
      "text/html": [
       "<div>\n",
       "<style scoped>\n",
       "    .dataframe tbody tr th:only-of-type {\n",
       "        vertical-align: middle;\n",
       "    }\n",
       "\n",
       "    .dataframe tbody tr th {\n",
       "        vertical-align: top;\n",
       "    }\n",
       "\n",
       "    .dataframe thead th {\n",
       "        text-align: right;\n",
       "    }\n",
       "</style>\n",
       "<table border=\"1\" class=\"dataframe\">\n",
       "  <thead>\n",
       "    <tr style=\"text-align: right;\">\n",
       "      <th></th>\n",
       "      <th>pickup_longitude</th>\n",
       "      <th>pickup_latitude</th>\n",
       "      <th>dropoff_longitude</th>\n",
       "      <th>dropoff_latitude</th>\n",
       "      <th>passenger_count</th>\n",
       "    </tr>\n",
       "  </thead>\n",
       "  <tbody>\n",
       "    <tr>\n",
       "      <th>count</th>\n",
       "      <td>16067.000000</td>\n",
       "      <td>16067.000000</td>\n",
       "      <td>16067.000000</td>\n",
       "      <td>16067.000000</td>\n",
       "      <td>16012.000000</td>\n",
       "    </tr>\n",
       "    <tr>\n",
       "      <th>mean</th>\n",
       "      <td>-72.462787</td>\n",
       "      <td>39.914725</td>\n",
       "      <td>-72.462328</td>\n",
       "      <td>39.897906</td>\n",
       "      <td>2.625070</td>\n",
       "    </tr>\n",
       "    <tr>\n",
       "      <th>std</th>\n",
       "      <td>10.578384</td>\n",
       "      <td>6.826587</td>\n",
       "      <td>10.575062</td>\n",
       "      <td>6.187087</td>\n",
       "      <td>60.844122</td>\n",
       "    </tr>\n",
       "    <tr>\n",
       "      <th>min</th>\n",
       "      <td>-74.438233</td>\n",
       "      <td>-74.006893</td>\n",
       "      <td>-74.429332</td>\n",
       "      <td>-74.006377</td>\n",
       "      <td>0.000000</td>\n",
       "    </tr>\n",
       "    <tr>\n",
       "      <th>25%</th>\n",
       "      <td>-73.992156</td>\n",
       "      <td>40.734927</td>\n",
       "      <td>-73.991182</td>\n",
       "      <td>40.734651</td>\n",
       "      <td>1.000000</td>\n",
       "    </tr>\n",
       "    <tr>\n",
       "      <th>50%</th>\n",
       "      <td>-73.981698</td>\n",
       "      <td>40.752603</td>\n",
       "      <td>-73.980172</td>\n",
       "      <td>40.753567</td>\n",
       "      <td>1.000000</td>\n",
       "    </tr>\n",
       "    <tr>\n",
       "      <th>75%</th>\n",
       "      <td>-73.966838</td>\n",
       "      <td>40.767381</td>\n",
       "      <td>-73.963643</td>\n",
       "      <td>40.768013</td>\n",
       "      <td>2.000000</td>\n",
       "    </tr>\n",
       "    <tr>\n",
       "      <th>max</th>\n",
       "      <td>40.766125</td>\n",
       "      <td>401.083332</td>\n",
       "      <td>40.802437</td>\n",
       "      <td>41.366138</td>\n",
       "      <td>5345.000000</td>\n",
       "    </tr>\n",
       "  </tbody>\n",
       "</table>\n",
       "</div>"
      ],
      "text/plain": [
       "       pickup_longitude  pickup_latitude  dropoff_longitude  dropoff_latitude  \\\n",
       "count      16067.000000     16067.000000       16067.000000      16067.000000   \n",
       "mean         -72.462787        39.914725         -72.462328         39.897906   \n",
       "std           10.578384         6.826587          10.575062          6.187087   \n",
       "min          -74.438233       -74.006893         -74.429332        -74.006377   \n",
       "25%          -73.992156        40.734927         -73.991182         40.734651   \n",
       "50%          -73.981698        40.752603         -73.980172         40.753567   \n",
       "75%          -73.966838        40.767381         -73.963643         40.768013   \n",
       "max           40.766125       401.083332          40.802437         41.366138   \n",
       "\n",
       "       passenger_count  \n",
       "count     16012.000000  \n",
       "mean          2.625070  \n",
       "std          60.844122  \n",
       "min           0.000000  \n",
       "25%           1.000000  \n",
       "50%           1.000000  \n",
       "75%           2.000000  \n",
       "max        5345.000000  "
      ]
     },
     "execution_count": 5,
     "metadata": {},
     "output_type": "execute_result"
    }
   ],
   "source": [
    "train_cab.describe()"
   ]
  },
  {
   "cell_type": "code",
   "execution_count": 6,
   "metadata": {},
   "outputs": [
    {
     "name": "stdout",
     "output_type": "stream",
     "text": [
      "<class 'pandas.core.frame.DataFrame'>\n",
      "RangeIndex: 16067 entries, 0 to 16066\n",
      "Data columns (total 7 columns):\n",
      "fare_amount          16043 non-null object\n",
      "pickup_datetime      16067 non-null object\n",
      "pickup_longitude     16067 non-null float64\n",
      "pickup_latitude      16067 non-null float64\n",
      "dropoff_longitude    16067 non-null float64\n",
      "dropoff_latitude     16067 non-null float64\n",
      "passenger_count      16012 non-null float64\n",
      "dtypes: float64(5), object(2)\n",
      "memory usage: 878.7+ KB\n"
     ]
    }
   ],
   "source": [
    "train_cab.info()"
   ]
  },
  {
   "cell_type": "code",
   "execution_count": 7,
   "metadata": {},
   "outputs": [],
   "source": [
    "#Converting data types\n",
    "data=[train_cab,test_cab]\n",
    "train_cab['fare_amount']  = pd.to_numeric(train_cab['fare_amount'],errors='coerce')\n",
    "for i in data:\n",
    "    i['pickup_datetime']  = pd.to_datetime(i['pickup_datetime'],errors='coerce')\n",
    "  \n",
    "    "
   ]
  },
  {
   "cell_type": "code",
   "execution_count": 8,
   "metadata": {},
   "outputs": [
    {
     "name": "stdout",
     "output_type": "stream",
     "text": [
      "<class 'pandas.core.frame.DataFrame'>\n",
      "RangeIndex: 16067 entries, 0 to 16066\n",
      "Data columns (total 7 columns):\n",
      "fare_amount          16042 non-null float64\n",
      "pickup_datetime      16066 non-null datetime64[ns, UTC]\n",
      "pickup_longitude     16067 non-null float64\n",
      "pickup_latitude      16067 non-null float64\n",
      "dropoff_longitude    16067 non-null float64\n",
      "dropoff_latitude     16067 non-null float64\n",
      "passenger_count      16012 non-null float64\n",
      "dtypes: datetime64[ns, UTC](1), float64(6)\n",
      "memory usage: 878.7 KB\n"
     ]
    }
   ],
   "source": [
    "train_cab.info()"
   ]
  },
  {
   "cell_type": "code",
   "execution_count": 9,
   "metadata": {},
   "outputs": [
    {
     "name": "stdout",
     "output_type": "stream",
     "text": [
      "<class 'pandas.core.frame.DataFrame'>\n",
      "RangeIndex: 9914 entries, 0 to 9913\n",
      "Data columns (total 6 columns):\n",
      "pickup_datetime      9914 non-null datetime64[ns, UTC]\n",
      "pickup_longitude     9914 non-null float64\n",
      "pickup_latitude      9914 non-null float64\n",
      "dropoff_longitude    9914 non-null float64\n",
      "dropoff_latitude     9914 non-null float64\n",
      "passenger_count      9914 non-null int64\n",
      "dtypes: datetime64[ns, UTC](1), float64(4), int64(1)\n",
      "memory usage: 464.8 KB\n"
     ]
    }
   ],
   "source": [
    "test_cab.info()"
   ]
  },
  {
   "cell_type": "code",
   "execution_count": 10,
   "metadata": {},
   "outputs": [
    {
     "data": {
      "text/html": [
       "<div>\n",
       "<style scoped>\n",
       "    .dataframe tbody tr th:only-of-type {\n",
       "        vertical-align: middle;\n",
       "    }\n",
       "\n",
       "    .dataframe tbody tr th {\n",
       "        vertical-align: top;\n",
       "    }\n",
       "\n",
       "    .dataframe thead th {\n",
       "        text-align: right;\n",
       "    }\n",
       "</style>\n",
       "<table border=\"1\" class=\"dataframe\">\n",
       "  <thead>\n",
       "    <tr style=\"text-align: right;\">\n",
       "      <th></th>\n",
       "      <th>pickup_longitude</th>\n",
       "      <th>pickup_latitude</th>\n",
       "      <th>dropoff_longitude</th>\n",
       "      <th>dropoff_latitude</th>\n",
       "      <th>passenger_count</th>\n",
       "    </tr>\n",
       "  </thead>\n",
       "  <tbody>\n",
       "    <tr>\n",
       "      <th>count</th>\n",
       "      <td>9914.000000</td>\n",
       "      <td>9914.000000</td>\n",
       "      <td>9914.000000</td>\n",
       "      <td>9914.000000</td>\n",
       "      <td>9914.000000</td>\n",
       "    </tr>\n",
       "    <tr>\n",
       "      <th>mean</th>\n",
       "      <td>-73.974722</td>\n",
       "      <td>40.751041</td>\n",
       "      <td>-73.973657</td>\n",
       "      <td>40.751743</td>\n",
       "      <td>1.671273</td>\n",
       "    </tr>\n",
       "    <tr>\n",
       "      <th>std</th>\n",
       "      <td>0.042774</td>\n",
       "      <td>0.033541</td>\n",
       "      <td>0.039072</td>\n",
       "      <td>0.035435</td>\n",
       "      <td>1.278747</td>\n",
       "    </tr>\n",
       "    <tr>\n",
       "      <th>min</th>\n",
       "      <td>-74.252193</td>\n",
       "      <td>40.573143</td>\n",
       "      <td>-74.263242</td>\n",
       "      <td>40.568973</td>\n",
       "      <td>1.000000</td>\n",
       "    </tr>\n",
       "    <tr>\n",
       "      <th>25%</th>\n",
       "      <td>-73.992501</td>\n",
       "      <td>40.736125</td>\n",
       "      <td>-73.991247</td>\n",
       "      <td>40.735254</td>\n",
       "      <td>1.000000</td>\n",
       "    </tr>\n",
       "    <tr>\n",
       "      <th>50%</th>\n",
       "      <td>-73.982326</td>\n",
       "      <td>40.753051</td>\n",
       "      <td>-73.980015</td>\n",
       "      <td>40.754065</td>\n",
       "      <td>1.000000</td>\n",
       "    </tr>\n",
       "    <tr>\n",
       "      <th>75%</th>\n",
       "      <td>-73.968013</td>\n",
       "      <td>40.767113</td>\n",
       "      <td>-73.964059</td>\n",
       "      <td>40.768757</td>\n",
       "      <td>2.000000</td>\n",
       "    </tr>\n",
       "    <tr>\n",
       "      <th>max</th>\n",
       "      <td>-72.986532</td>\n",
       "      <td>41.709555</td>\n",
       "      <td>-72.990963</td>\n",
       "      <td>41.696683</td>\n",
       "      <td>6.000000</td>\n",
       "    </tr>\n",
       "  </tbody>\n",
       "</table>\n",
       "</div>"
      ],
      "text/plain": [
       "       pickup_longitude  pickup_latitude  dropoff_longitude  dropoff_latitude  \\\n",
       "count       9914.000000      9914.000000        9914.000000       9914.000000   \n",
       "mean         -73.974722        40.751041         -73.973657         40.751743   \n",
       "std            0.042774         0.033541           0.039072          0.035435   \n",
       "min          -74.252193        40.573143         -74.263242         40.568973   \n",
       "25%          -73.992501        40.736125         -73.991247         40.735254   \n",
       "50%          -73.982326        40.753051         -73.980015         40.754065   \n",
       "75%          -73.968013        40.767113         -73.964059         40.768757   \n",
       "max          -72.986532        41.709555         -72.990963         41.696683   \n",
       "\n",
       "       passenger_count  \n",
       "count      9914.000000  \n",
       "mean          1.671273  \n",
       "std           1.278747  \n",
       "min           1.000000  \n",
       "25%           1.000000  \n",
       "50%           1.000000  \n",
       "75%           2.000000  \n",
       "max           6.000000  "
      ]
     },
     "execution_count": 10,
     "metadata": {},
     "output_type": "execute_result"
    }
   ],
   "source": [
    "test_cab.describe()"
   ]
  },
  {
   "cell_type": "code",
   "execution_count": 11,
   "metadata": {},
   "outputs": [
    {
     "data": {
      "text/html": [
       "<div>\n",
       "<style scoped>\n",
       "    .dataframe tbody tr th:only-of-type {\n",
       "        vertical-align: middle;\n",
       "    }\n",
       "\n",
       "    .dataframe tbody tr th {\n",
       "        vertical-align: top;\n",
       "    }\n",
       "\n",
       "    .dataframe thead th {\n",
       "        text-align: right;\n",
       "    }\n",
       "</style>\n",
       "<table border=\"1\" class=\"dataframe\">\n",
       "  <thead>\n",
       "    <tr style=\"text-align: right;\">\n",
       "      <th></th>\n",
       "      <th>pickup_datetime</th>\n",
       "      <th>pickup_longitude</th>\n",
       "      <th>pickup_latitude</th>\n",
       "      <th>dropoff_longitude</th>\n",
       "      <th>dropoff_latitude</th>\n",
       "      <th>passenger_count</th>\n",
       "    </tr>\n",
       "  </thead>\n",
       "  <tbody>\n",
       "    <tr>\n",
       "      <th>0</th>\n",
       "      <td>2015-01-27 13:08:24+00:00</td>\n",
       "      <td>-73.973320</td>\n",
       "      <td>40.763805</td>\n",
       "      <td>-73.981430</td>\n",
       "      <td>40.743835</td>\n",
       "      <td>1</td>\n",
       "    </tr>\n",
       "    <tr>\n",
       "      <th>1</th>\n",
       "      <td>2015-01-27 13:08:24+00:00</td>\n",
       "      <td>-73.986862</td>\n",
       "      <td>40.719383</td>\n",
       "      <td>-73.998886</td>\n",
       "      <td>40.739201</td>\n",
       "      <td>1</td>\n",
       "    </tr>\n",
       "    <tr>\n",
       "      <th>2</th>\n",
       "      <td>2011-10-08 11:53:44+00:00</td>\n",
       "      <td>-73.982524</td>\n",
       "      <td>40.751260</td>\n",
       "      <td>-73.979654</td>\n",
       "      <td>40.746139</td>\n",
       "      <td>1</td>\n",
       "    </tr>\n",
       "    <tr>\n",
       "      <th>3</th>\n",
       "      <td>2012-12-01 21:12:12+00:00</td>\n",
       "      <td>-73.981160</td>\n",
       "      <td>40.767807</td>\n",
       "      <td>-73.990448</td>\n",
       "      <td>40.751635</td>\n",
       "      <td>1</td>\n",
       "    </tr>\n",
       "    <tr>\n",
       "      <th>4</th>\n",
       "      <td>2012-12-01 21:12:12+00:00</td>\n",
       "      <td>-73.966046</td>\n",
       "      <td>40.789775</td>\n",
       "      <td>-73.988565</td>\n",
       "      <td>40.744427</td>\n",
       "      <td>1</td>\n",
       "    </tr>\n",
       "  </tbody>\n",
       "</table>\n",
       "</div>"
      ],
      "text/plain": [
       "            pickup_datetime  pickup_longitude  pickup_latitude  \\\n",
       "0 2015-01-27 13:08:24+00:00        -73.973320        40.763805   \n",
       "1 2015-01-27 13:08:24+00:00        -73.986862        40.719383   \n",
       "2 2011-10-08 11:53:44+00:00        -73.982524        40.751260   \n",
       "3 2012-12-01 21:12:12+00:00        -73.981160        40.767807   \n",
       "4 2012-12-01 21:12:12+00:00        -73.966046        40.789775   \n",
       "\n",
       "   dropoff_longitude  dropoff_latitude  passenger_count  \n",
       "0         -73.981430         40.743835                1  \n",
       "1         -73.998886         40.739201                1  \n",
       "2         -73.979654         40.746139                1  \n",
       "3         -73.990448         40.751635                1  \n",
       "4         -73.988565         40.744427                1  "
      ]
     },
     "execution_count": 11,
     "metadata": {},
     "output_type": "execute_result"
    }
   ],
   "source": [
    "test_cab.head()"
   ]
  },
  {
   "cell_type": "code",
   "execution_count": 12,
   "metadata": {},
   "outputs": [
    {
     "data": {
      "text/plain": [
       "pickup_datetime      1753\n",
       "pickup_longitude     9124\n",
       "pickup_latitude      9246\n",
       "dropoff_longitude    9141\n",
       "dropoff_latitude     9360\n",
       "passenger_count         6\n",
       "dtype: int64"
      ]
     },
     "execution_count": 12,
     "metadata": {},
     "output_type": "execute_result"
    }
   ],
   "source": [
    "test_cab.nunique()"
   ]
  },
  {
   "cell_type": "code",
   "execution_count": 13,
   "metadata": {},
   "outputs": [
    {
     "data": {
      "text/plain": [
       "fare_amount            467\n",
       "pickup_datetime      16020\n",
       "pickup_longitude     13789\n",
       "pickup_latitude      14241\n",
       "dropoff_longitude    13887\n",
       "dropoff_latitude     14263\n",
       "passenger_count         27\n",
       "dtype: int64"
      ]
     },
     "execution_count": 13,
     "metadata": {},
     "output_type": "execute_result"
    }
   ],
   "source": [
    "train_cab.nunique()"
   ]
  },
  {
   "cell_type": "markdown",
   "metadata": {},
   "source": [
    "# Graphical EDA - Data Visualization"
   ]
  },
  {
   "cell_type": "code",
   "execution_count": 14,
   "metadata": {},
   "outputs": [],
   "source": [
    "# setting up the sns for plots\n",
    "sns.set(style='darkgrid',palette='Set2')"
   ]
  },
  {
   "cell_type": "code",
   "execution_count": 15,
   "metadata": {},
   "outputs": [
    {
     "name": "stderr",
     "output_type": "stream",
     "text": [
      "C:\\Users\\My guest\\Anaconda3\\lib\\site-packages\\numpy\\lib\\histograms.py:824: RuntimeWarning: invalid value encountered in greater_equal\n",
      "  keep = (tmp_a >= first_edge)\n",
      "C:\\Users\\My guest\\Anaconda3\\lib\\site-packages\\numpy\\lib\\histograms.py:825: RuntimeWarning: invalid value encountered in less_equal\n",
      "  keep &= (tmp_a <= last_edge)\n",
      "C:\\Users\\My guest\\Anaconda3\\lib\\site-packages\\statsmodels\\nonparametric\\kde.py:447: RuntimeWarning: invalid value encountered in greater\n",
      "  X = X[np.logical_and(X > clip[0], X < clip[1])] # won't work for two columns.\n",
      "C:\\Users\\My guest\\Anaconda3\\lib\\site-packages\\statsmodels\\nonparametric\\kde.py:447: RuntimeWarning: invalid value encountered in less\n",
      "  X = X[np.logical_and(X > clip[0], X < clip[1])] # won't work for two columns.\n"
     ]
    },
    {
     "data": {
      "image/png": "[encoded data removed]",
      "text/plain": [
       "<Figure size 1440x1440 with 6 Axes>"
      ]
     },
     "metadata": {},
     "output_type": "display_data"
    }
   ],
   "source": [
    "#histogram plots\n",
    "plt.figure(figsize=(20,20))\n",
    "plt.subplot(321)\n",
    "_ = sns.distplot(train_cab['fare_amount'],bins=50)\n",
    "plt.subplot(322)\n",
    "_ = sns.distplot(train_cab['pickup_longitude'],bins=50)\n",
    "plt.subplot(323)\n",
    "_ = sns.distplot(train_cab['pickup_latitude'],bins=50)\n",
    "plt.subplot(324)\n",
    "_ = sns.distplot(train_cab['dropoff_longitude'],bins=50)\n",
    "plt.subplot(325)\n",
    "_ = sns.distplot(train_cab['dropoff_latitude'],bins=50)\n",
    "plt.subplot(326)\n",
    "_ = sns.distplot(train_cab['passenger_count'],bins=50)\n",
    "plt.savefig('hist.png')\n",
    "plt.show()"
   ]
  },
  {
   "cell_type": "markdown",
   "metadata": {},
   "source": [
    "# missing value analysis in train_cab"
   ]
  },
  {
   "cell_type": "code",
   "execution_count": 16,
   "metadata": {},
   "outputs": [
    {
     "data": {
      "text/html": [
       "<div>\n",
       "<style scoped>\n",
       "    .dataframe tbody tr th:only-of-type {\n",
       "        vertical-align: middle;\n",
       "    }\n",
       "\n",
       "    .dataframe tbody tr th {\n",
       "        vertical-align: top;\n",
       "    }\n",
       "\n",
       "    .dataframe thead th {\n",
       "        text-align: right;\n",
       "    }\n",
       "</style>\n",
       "<table border=\"1\" class=\"dataframe\">\n",
       "  <thead>\n",
       "    <tr style=\"text-align: right;\">\n",
       "      <th></th>\n",
       "      <th>index</th>\n",
       "      <th>0</th>\n",
       "    </tr>\n",
       "  </thead>\n",
       "  <tbody>\n",
       "    <tr>\n",
       "      <th>0</th>\n",
       "      <td>fare_amount</td>\n",
       "      <td>25</td>\n",
       "    </tr>\n",
       "    <tr>\n",
       "      <th>1</th>\n",
       "      <td>pickup_datetime</td>\n",
       "      <td>1</td>\n",
       "    </tr>\n",
       "    <tr>\n",
       "      <th>2</th>\n",
       "      <td>pickup_longitude</td>\n",
       "      <td>0</td>\n",
       "    </tr>\n",
       "    <tr>\n",
       "      <th>3</th>\n",
       "      <td>pickup_latitude</td>\n",
       "      <td>0</td>\n",
       "    </tr>\n",
       "    <tr>\n",
       "      <th>4</th>\n",
       "      <td>dropoff_longitude</td>\n",
       "      <td>0</td>\n",
       "    </tr>\n",
       "    <tr>\n",
       "      <th>5</th>\n",
       "      <td>dropoff_latitude</td>\n",
       "      <td>0</td>\n",
       "    </tr>\n",
       "    <tr>\n",
       "      <th>6</th>\n",
       "      <td>passenger_count</td>\n",
       "      <td>55</td>\n",
       "    </tr>\n",
       "  </tbody>\n",
       "</table>\n",
       "</div>"
      ],
      "text/plain": [
       "               index   0\n",
       "0        fare_amount  25\n",
       "1    pickup_datetime   1\n",
       "2   pickup_longitude   0\n",
       "3    pickup_latitude   0\n",
       "4  dropoff_longitude   0\n",
       "5   dropoff_latitude   0\n",
       "6    passenger_count  55"
      ]
     },
     "execution_count": 16,
     "metadata": {},
     "output_type": "execute_result"
    }
   ],
   "source": [
    "#create dataframe with missing value percentage\n",
    "#counting np.nan\n",
    "missing_val=pd.DataFrame(train_cab.isnull().sum())\n",
    "#reset index\n",
    "missing_val=missing_val.reset_index()\n",
    "missing_val.to_csv('miss_val.csv',index=False)\n",
    "missing_val"
   ]
  },
  {
   "cell_type": "code",
   "execution_count": 17,
   "metadata": {},
   "outputs": [
    {
     "data": {
      "text/html": [
       "<div>\n",
       "<style scoped>\n",
       "    .dataframe tbody tr th:only-of-type {\n",
       "        vertical-align: middle;\n",
       "    }\n",
       "\n",
       "    .dataframe tbody tr th {\n",
       "        vertical-align: top;\n",
       "    }\n",
       "\n",
       "    .dataframe thead th {\n",
       "        text-align: right;\n",
       "    }\n",
       "</style>\n",
       "<table border=\"1\" class=\"dataframe\">\n",
       "  <thead>\n",
       "    <tr style=\"text-align: right;\">\n",
       "      <th></th>\n",
       "      <th>variable</th>\n",
       "      <th>missing_percent</th>\n",
       "    </tr>\n",
       "  </thead>\n",
       "  <tbody>\n",
       "    <tr>\n",
       "      <th>0</th>\n",
       "      <td>passenger_count</td>\n",
       "      <td>0.342317</td>\n",
       "    </tr>\n",
       "    <tr>\n",
       "      <th>1</th>\n",
       "      <td>fare_amount</td>\n",
       "      <td>0.155598</td>\n",
       "    </tr>\n",
       "    <tr>\n",
       "      <th>2</th>\n",
       "      <td>pickup_datetime</td>\n",
       "      <td>0.006224</td>\n",
       "    </tr>\n",
       "    <tr>\n",
       "      <th>3</th>\n",
       "      <td>pickup_longitude</td>\n",
       "      <td>0.000000</td>\n",
       "    </tr>\n",
       "    <tr>\n",
       "      <th>4</th>\n",
       "      <td>pickup_latitude</td>\n",
       "      <td>0.000000</td>\n",
       "    </tr>\n",
       "    <tr>\n",
       "      <th>5</th>\n",
       "      <td>dropoff_longitude</td>\n",
       "      <td>0.000000</td>\n",
       "    </tr>\n",
       "    <tr>\n",
       "      <th>6</th>\n",
       "      <td>dropoff_latitude</td>\n",
       "      <td>0.000000</td>\n",
       "    </tr>\n",
       "  </tbody>\n",
       "</table>\n",
       "</div>"
      ],
      "text/plain": [
       "            variable  missing_percent\n",
       "0    passenger_count         0.342317\n",
       "1        fare_amount         0.155598\n",
       "2    pickup_datetime         0.006224\n",
       "3   pickup_longitude         0.000000\n",
       "4    pickup_latitude         0.000000\n",
       "5  dropoff_longitude         0.000000\n",
       "6   dropoff_latitude         0.000000"
      ]
     },
     "execution_count": 17,
     "metadata": {},
     "output_type": "execute_result"
    }
   ],
   "source": [
    "#remane variable\n",
    "missing_val=missing_val.rename(columns={'index':'variable',0:\"missing_percent\"})\n",
    "#calculate percentage\n",
    "missing_val['missing_percent']=(missing_val['missing_percent']/len(train_cab))*100\n",
    "#descending order missing value also chane the index as regular \n",
    "missing_val=missing_val.sort_values('missing_percent',ascending=False).reset_index(drop=True)\n",
    "#missijng_val save the file in hard disk\n",
    "missing_val.to_csv('miss_per.csv',index=False)\n",
    "missing_val\n"
   ]
  },
  {
   "cell_type": "markdown",
   "metadata": {},
   "source": [
    "###Dealing with missing values in fare_amount"
   ]
  },
  {
   "cell_type": "code",
   "execution_count": 18,
   "metadata": {},
   "outputs": [
    {
     "name": "stderr",
     "output_type": "stream",
     "text": [
      "C:\\Users\\My guest\\Anaconda3\\lib\\site-packages\\ipykernel_launcher.py:7: SettingWithCopyWarning: \n",
      "A value is trying to be set on a copy of a slice from a DataFrame\n",
      "\n",
      "See the caveats in the documentation: http://pandas.pydata.org/pandas-docs/stable/indexing.html#indexing-view-versus-copy\n",
      "  import sys\n"
     ]
    },
    {
     "name": "stdout",
     "output_type": "stream",
     "text": [
      "Imputing row 1/16067 with 0 missing, elapsed time: 38.169\n",
      "Imputing row 101/16067 with 1 missing, elapsed time: 38.431\n",
      "Imputing row 201/16067 with 0 missing, elapsed time: 38.437\n",
      "Imputing row 301/16067 with 0 missing, elapsed time: 38.439\n",
      "Imputing row 401/16067 with 0 missing, elapsed time: 38.441\n",
      "Imputing row 501/16067 with 0 missing, elapsed time: 38.443\n",
      "Imputing row 601/16067 with 0 missing, elapsed time: 38.445\n",
      "Imputing row 701/16067 with 0 missing, elapsed time: 38.447\n",
      "Imputing row 801/16067 with 0 missing, elapsed time: 38.448\n",
      "Imputing row 901/16067 with 0 missing, elapsed time: 38.449\n",
      "Imputing row 1001/16067 with 0 missing, elapsed time: 38.450\n",
      "Imputing row 1101/16067 with 0 missing, elapsed time: 38.451\n",
      "Imputing row 1201/16067 with 0 missing, elapsed time: 38.451\n",
      "Imputing row 1301/16067 with 0 missing, elapsed time: 38.452\n",
      "Imputing row 1401/16067 with 1 missing, elapsed time: 38.453\n",
      "Imputing row 1501/16067 with 0 missing, elapsed time: 38.454\n",
      "Imputing row 1601/16067 with 0 missing, elapsed time: 38.455\n",
      "Imputing row 1701/16067 with 0 missing, elapsed time: 38.455\n",
      "Imputing row 1801/16067 with 0 missing, elapsed time: 38.456\n",
      "Imputing row 1901/16067 with 0 missing, elapsed time: 38.458\n",
      "Imputing row 2001/16067 with 0 missing, elapsed time: 38.459\n",
      "Imputing row 2101/16067 with 0 missing, elapsed time: 38.460\n",
      "Imputing row 2201/16067 with 0 missing, elapsed time: 38.461\n",
      "Imputing row 2301/16067 with 0 missing, elapsed time: 38.463\n",
      "Imputing row 2401/16067 with 0 missing, elapsed time: 38.464\n",
      "Imputing row 2501/16067 with 0 missing, elapsed time: 38.466\n",
      "Imputing row 2601/16067 with 0 missing, elapsed time: 38.467\n",
      "Imputing row 2701/16067 with 0 missing, elapsed time: 38.468\n",
      "Imputing row 2801/16067 with 0 missing, elapsed time: 38.470\n",
      "Imputing row 2901/16067 with 0 missing, elapsed time: 38.471\n",
      "Imputing row 3001/16067 with 0 missing, elapsed time: 38.472\n",
      "Imputing row 3101/16067 with 0 missing, elapsed time: 38.473\n",
      "Imputing row 3201/16067 with 0 missing, elapsed time: 38.475\n",
      "Imputing row 3301/16067 with 0 missing, elapsed time: 38.476\n",
      "Imputing row 3401/16067 with 0 missing, elapsed time: 38.477\n",
      "Imputing row 3501/16067 with 0 missing, elapsed time: 38.477\n",
      "Imputing row 3601/16067 with 0 missing, elapsed time: 38.478\n",
      "Imputing row 3701/16067 with 0 missing, elapsed time: 38.479\n",
      "Imputing row 3801/16067 with 0 missing, elapsed time: 38.481\n",
      "Imputing row 3901/16067 with 0 missing, elapsed time: 38.482\n",
      "Imputing row 4001/16067 with 0 missing, elapsed time: 38.482\n",
      "Imputing row 4101/16067 with 0 missing, elapsed time: 38.483\n",
      "Imputing row 4201/16067 with 0 missing, elapsed time: 38.483\n",
      "Imputing row 4301/16067 with 0 missing, elapsed time: 38.485\n",
      "Imputing row 4401/16067 with 0 missing, elapsed time: 38.485\n",
      "Imputing row 4501/16067 with 0 missing, elapsed time: 38.486\n",
      "Imputing row 4601/16067 with 0 missing, elapsed time: 38.487\n",
      "Imputing row 4701/16067 with 0 missing, elapsed time: 38.487\n",
      "Imputing row 4801/16067 with 0 missing, elapsed time: 38.488\n",
      "Imputing row 4901/16067 with 0 missing, elapsed time: 38.489\n",
      "Imputing row 5001/16067 with 0 missing, elapsed time: 38.489\n",
      "Imputing row 5101/16067 with 0 missing, elapsed time: 38.490\n",
      "Imputing row 5201/16067 with 0 missing, elapsed time: 38.492\n",
      "Imputing row 5301/16067 with 0 missing, elapsed time: 38.493\n",
      "Imputing row 5401/16067 with 0 missing, elapsed time: 38.496\n",
      "Imputing row 5501/16067 with 0 missing, elapsed time: 38.497\n",
      "Imputing row 5601/16067 with 0 missing, elapsed time: 38.498\n",
      "Imputing row 5701/16067 with 0 missing, elapsed time: 38.499\n",
      "Imputing row 5801/16067 with 0 missing, elapsed time: 38.500\n",
      "Imputing row 5901/16067 with 0 missing, elapsed time: 38.501\n",
      "Imputing row 6001/16067 with 0 missing, elapsed time: 38.501\n",
      "Imputing row 6101/16067 with 0 missing, elapsed time: 38.502\n",
      "Imputing row 6201/16067 with 0 missing, elapsed time: 38.503\n",
      "Imputing row 6301/16067 with 0 missing, elapsed time: 38.504\n",
      "Imputing row 6401/16067 with 0 missing, elapsed time: 38.505\n",
      "Imputing row 6501/16067 with 0 missing, elapsed time: 38.506\n",
      "Imputing row 6601/16067 with 0 missing, elapsed time: 38.506\n",
      "Imputing row 6701/16067 with 0 missing, elapsed time: 38.507\n",
      "Imputing row 6801/16067 with 0 missing, elapsed time: 38.508\n",
      "Imputing row 6901/16067 with 0 missing, elapsed time: 38.509\n",
      "Imputing row 7001/16067 with 0 missing, elapsed time: 38.509\n",
      "Imputing row 7101/16067 with 0 missing, elapsed time: 38.510\n",
      "Imputing row 7201/16067 with 0 missing, elapsed time: 38.511\n",
      "Imputing row 7301/16067 with 0 missing, elapsed time: 38.511\n",
      "Imputing row 7401/16067 with 0 missing, elapsed time: 38.511\n",
      "Imputing row 7501/16067 with 0 missing, elapsed time: 38.512\n",
      "Imputing row 7601/16067 with 0 missing, elapsed time: 38.512\n",
      "Imputing row 7701/16067 with 0 missing, elapsed time: 38.512\n",
      "Imputing row 7801/16067 with 0 missing, elapsed time: 38.513\n",
      "Imputing row 7901/16067 with 0 missing, elapsed time: 38.516\n",
      "Imputing row 8001/16067 with 0 missing, elapsed time: 38.516\n",
      "Imputing row 8101/16067 with 0 missing, elapsed time: 38.518\n",
      "Imputing row 8201/16067 with 0 missing, elapsed time: 38.519\n",
      "Imputing row 8301/16067 with 0 missing, elapsed time: 38.520\n",
      "Imputing row 8401/16067 with 0 missing, elapsed time: 38.520\n",
      "Imputing row 8501/16067 with 0 missing, elapsed time: 38.521\n",
      "Imputing row 8601/16067 with 0 missing, elapsed time: 38.522\n",
      "Imputing row 8701/16067 with 0 missing, elapsed time: 38.522\n",
      "Imputing row 8801/16067 with 0 missing, elapsed time: 38.522\n",
      "Imputing row 8901/16067 with 0 missing, elapsed time: 38.523\n",
      "Imputing row 9001/16067 with 0 missing, elapsed time: 38.523\n",
      "Imputing row 9101/16067 with 0 missing, elapsed time: 38.523\n",
      "Imputing row 9201/16067 with 0 missing, elapsed time: 38.524\n",
      "Imputing row 9301/16067 with 0 missing, elapsed time: 38.524\n",
      "Imputing row 9401/16067 with 0 missing, elapsed time: 38.524\n",
      "Imputing row 9501/16067 with 0 missing, elapsed time: 38.525\n",
      "Imputing row 9601/16067 with 0 missing, elapsed time: 38.526\n",
      "Imputing row 9701/16067 with 0 missing, elapsed time: 38.526\n",
      "Imputing row 9801/16067 with 0 missing, elapsed time: 38.527\n",
      "Imputing row 9901/16067 with 0 missing, elapsed time: 38.528\n",
      "Imputing row 10001/16067 with 0 missing, elapsed time: 38.529\n",
      "Imputing row 10101/16067 with 0 missing, elapsed time: 38.530\n",
      "Imputing row 10201/16067 with 0 missing, elapsed time: 38.531\n",
      "Imputing row 10301/16067 with 0 missing, elapsed time: 38.532\n",
      "Imputing row 10401/16067 with 0 missing, elapsed time: 38.532\n",
      "Imputing row 10501/16067 with 0 missing, elapsed time: 38.534\n",
      "Imputing row 10601/16067 with 0 missing, elapsed time: 38.534\n",
      "Imputing row 10701/16067 with 0 missing, elapsed time: 38.535\n",
      "Imputing row 10801/16067 with 0 missing, elapsed time: 38.536\n",
      "Imputing row 10901/16067 with 0 missing, elapsed time: 38.537\n",
      "Imputing row 11001/16067 with 0 missing, elapsed time: 38.537\n",
      "Imputing row 11101/16067 with 0 missing, elapsed time: 38.538\n",
      "Imputing row 11201/16067 with 0 missing, elapsed time: 38.539\n",
      "Imputing row 11301/16067 with 0 missing, elapsed time: 38.539\n",
      "Imputing row 11401/16067 with 0 missing, elapsed time: 38.540\n",
      "Imputing row 11501/16067 with 0 missing, elapsed time: 38.541\n",
      "Imputing row 11601/16067 with 0 missing, elapsed time: 38.542\n",
      "Imputing row 11701/16067 with 0 missing, elapsed time: 38.542\n",
      "Imputing row 11801/16067 with 0 missing, elapsed time: 38.543\n",
      "Imputing row 11901/16067 with 0 missing, elapsed time: 38.544\n",
      "Imputing row 12001/16067 with 0 missing, elapsed time: 38.545\n",
      "Imputing row 12101/16067 with 0 missing, elapsed time: 38.546\n",
      "Imputing row 12201/16067 with 0 missing, elapsed time: 38.546\n",
      "Imputing row 12301/16067 with 0 missing, elapsed time: 38.548\n",
      "Imputing row 12401/16067 with 0 missing, elapsed time: 38.548\n",
      "Imputing row 12501/16067 with 0 missing, elapsed time: 38.549\n",
      "Imputing row 12601/16067 with 0 missing, elapsed time: 38.550\n",
      "Imputing row 12701/16067 with 0 missing, elapsed time: 38.550\n",
      "Imputing row 12801/16067 with 0 missing, elapsed time: 38.551\n",
      "Imputing row 12901/16067 with 0 missing, elapsed time: 38.552\n",
      "Imputing row 13001/16067 with 0 missing, elapsed time: 38.553\n",
      "Imputing row 13101/16067 with 0 missing, elapsed time: 38.553\n",
      "Imputing row 13201/16067 with 0 missing, elapsed time: 38.554\n",
      "Imputing row 13301/16067 with 0 missing, elapsed time: 38.555\n",
      "Imputing row 13401/16067 with 0 missing, elapsed time: 38.555\n",
      "Imputing row 13501/16067 with 0 missing, elapsed time: 38.556\n",
      "Imputing row 13601/16067 with 0 missing, elapsed time: 38.557\n",
      "Imputing row 13701/16067 with 0 missing, elapsed time: 38.558\n",
      "Imputing row 13801/16067 with 0 missing, elapsed time: 38.558\n",
      "Imputing row 13901/16067 with 0 missing, elapsed time: 38.559\n",
      "Imputing row 14001/16067 with 0 missing, elapsed time: 38.560\n",
      "Imputing row 14101/16067 with 0 missing, elapsed time: 38.561\n",
      "Imputing row 14201/16067 with 0 missing, elapsed time: 38.561\n",
      "Imputing row 14301/16067 with 0 missing, elapsed time: 38.563\n",
      "Imputing row 14401/16067 with 0 missing, elapsed time: 38.563\n",
      "Imputing row 14501/16067 with 0 missing, elapsed time: 38.564\n",
      "Imputing row 14601/16067 with 0 missing, elapsed time: 38.565\n",
      "Imputing row 14701/16067 with 0 missing, elapsed time: 38.565\n",
      "Imputing row 14801/16067 with 0 missing, elapsed time: 38.566\n",
      "Imputing row 14901/16067 with 0 missing, elapsed time: 38.567\n",
      "Imputing row 15001/16067 with 0 missing, elapsed time: 38.567\n",
      "Imputing row 15101/16067 with 0 missing, elapsed time: 38.568\n",
      "Imputing row 15201/16067 with 0 missing, elapsed time: 38.569\n",
      "Imputing row 15301/16067 with 0 missing, elapsed time: 38.569\n",
      "Imputing row 15401/16067 with 0 missing, elapsed time: 38.570\n",
      "Imputing row 15501/16067 with 0 missing, elapsed time: 38.571\n",
      "Imputing row 15601/16067 with 0 missing, elapsed time: 38.572\n",
      "Imputing row 15701/16067 with 0 missing, elapsed time: 38.573\n",
      "Imputing row 15801/16067 with 0 missing, elapsed time: 38.573\n",
      "Imputing row 15901/16067 with 0 missing, elapsed time: 38.574\n",
      "Imputing row 16001/16067 with 0 missing, elapsed time: 38.575\n"
     ]
    },
    {
     "data": {
      "text/plain": [
       "10.068677622209403"
      ]
     },
     "execution_count": 18,
     "metadata": {},
     "output_type": "execute_result"
    }
   ],
   "source": [
    "# dealing with nas in 1 st column\n",
    "#actual value=10\n",
    "#mean imputation=15.015317000186862\n",
    "#median imputation=8.5\n",
    "#knn imputation=10.06867\n",
    "train_cab.fare_amount[100]\n",
    "train_cab.fare_amount[100]=np.nan\n",
    "train_cab.fare_amount.mean()\n",
    "train_cab.fare_amount.median()\n",
    "#checking knn imputation value\n",
    "cabk=train_cab.drop('pickup_datetime',axis=1)\n",
    "cabk=pd.DataFrame(KNN(k=5).fit_transform(cabk),columns=cabk.columns)\n",
    "cabk.fare_amount[100]\n"
   ]
  },
  {
   "cell_type": "code",
   "execution_count": 19,
   "metadata": {
    "scrolled": true
   },
   "outputs": [
    {
     "data": {
      "text/plain": [
       "16066"
      ]
     },
     "execution_count": 19,
     "metadata": {},
     "output_type": "execute_result"
    }
   ],
   "source": [
    "sum(cabk.fare_amount!=0)"
   ]
  },
  {
   "cell_type": "code",
   "execution_count": 20,
   "metadata": {},
   "outputs": [
    {
     "data": {
      "text/html": [
       "<div>\n",
       "<style scoped>\n",
       "    .dataframe tbody tr th:only-of-type {\n",
       "        vertical-align: middle;\n",
       "    }\n",
       "\n",
       "    .dataframe tbody tr th {\n",
       "        vertical-align: top;\n",
       "    }\n",
       "\n",
       "    .dataframe thead th {\n",
       "        text-align: right;\n",
       "    }\n",
       "</style>\n",
       "<table border=\"1\" class=\"dataframe\">\n",
       "  <thead>\n",
       "    <tr style=\"text-align: right;\">\n",
       "      <th></th>\n",
       "      <th>fare_amount</th>\n",
       "      <th>pickup_longitude</th>\n",
       "      <th>pickup_latitude</th>\n",
       "      <th>dropoff_longitude</th>\n",
       "      <th>dropoff_latitude</th>\n",
       "      <th>passenger_count</th>\n",
       "    </tr>\n",
       "  </thead>\n",
       "  <tbody>\n",
       "    <tr>\n",
       "      <th>2039</th>\n",
       "      <td>-2.90</td>\n",
       "      <td>-73.789450</td>\n",
       "      <td>40.643498</td>\n",
       "      <td>-73.788665</td>\n",
       "      <td>40.641952</td>\n",
       "      <td>1.0</td>\n",
       "    </tr>\n",
       "    <tr>\n",
       "      <th>2486</th>\n",
       "      <td>-2.50</td>\n",
       "      <td>-74.000031</td>\n",
       "      <td>40.720631</td>\n",
       "      <td>-73.999809</td>\n",
       "      <td>40.720539</td>\n",
       "      <td>1.0</td>\n",
       "    </tr>\n",
       "    <tr>\n",
       "      <th>2780</th>\n",
       "      <td>0.01</td>\n",
       "      <td>-73.939041</td>\n",
       "      <td>40.713963</td>\n",
       "      <td>-73.941673</td>\n",
       "      <td>40.713997</td>\n",
       "      <td>1.0</td>\n",
       "    </tr>\n",
       "    <tr>\n",
       "      <th>10002</th>\n",
       "      <td>0.00</td>\n",
       "      <td>-73.987115</td>\n",
       "      <td>40.738808</td>\n",
       "      <td>-74.005911</td>\n",
       "      <td>40.713960</td>\n",
       "      <td>1.0</td>\n",
       "    </tr>\n",
       "    <tr>\n",
       "      <th>13032</th>\n",
       "      <td>-3.00</td>\n",
       "      <td>-73.995062</td>\n",
       "      <td>40.740755</td>\n",
       "      <td>-73.995885</td>\n",
       "      <td>40.741357</td>\n",
       "      <td>4.0</td>\n",
       "    </tr>\n",
       "  </tbody>\n",
       "</table>\n",
       "</div>"
      ],
      "text/plain": [
       "       fare_amount  pickup_longitude  pickup_latitude  dropoff_longitude  \\\n",
       "2039         -2.90        -73.789450        40.643498         -73.788665   \n",
       "2486         -2.50        -74.000031        40.720631         -73.999809   \n",
       "2780          0.01        -73.939041        40.713963         -73.941673   \n",
       "10002         0.00        -73.987115        40.738808         -74.005911   \n",
       "13032        -3.00        -73.995062        40.740755         -73.995885   \n",
       "\n",
       "       dropoff_latitude  passenger_count  \n",
       "2039          40.641952              1.0  \n",
       "2486          40.720539              1.0  \n",
       "2780          40.713997              1.0  \n",
       "10002         40.713960              1.0  \n",
       "13032         40.741357              4.0  "
      ]
     },
     "execution_count": 20,
     "metadata": {},
     "output_type": "execute_result"
    }
   ],
   "source": [
    "cabk.loc[cabk.fare_amount<1]"
   ]
  },
  {
   "cell_type": "code",
   "execution_count": 21,
   "metadata": {},
   "outputs": [],
   "source": [
    "#knn imputation is closest to actual value so \n",
    "train_cab.fare_amount=cabk.fare_amount\n"
   ]
  },
  {
   "cell_type": "code",
   "execution_count": 22,
   "metadata": {},
   "outputs": [
    {
     "data": {
      "text/plain": [
       "10.068677622209403"
      ]
     },
     "execution_count": 22,
     "metadata": {},
     "output_type": "execute_result"
    }
   ],
   "source": [
    "#check the imputed value\n",
    "train_cab.fare_amount[100]"
   ]
  },
  {
   "cell_type": "code",
   "execution_count": 23,
   "metadata": {},
   "outputs": [
    {
     "data": {
      "text/plain": [
       "0"
      ]
     },
     "execution_count": 23,
     "metadata": {},
     "output_type": "execute_result"
    }
   ],
   "source": [
    "#check missing values left any\n",
    "train_cab.fare_amount.isna().sum()"
   ]
  },
  {
   "cell_type": "markdown",
   "metadata": {},
   "source": [
    "###Dealing with missing values in pickup_datetime column"
   ]
  },
  {
   "cell_type": "code",
   "execution_count": 24,
   "metadata": {},
   "outputs": [],
   "source": [
    "#missing val analysis for 2nd column\n",
    "train_cab.pickup_datetime.fillna(method='ffill',inplace=True)"
   ]
  },
  {
   "cell_type": "code",
   "execution_count": 25,
   "metadata": {},
   "outputs": [
    {
     "data": {
      "text/plain": [
       "0"
      ]
     },
     "execution_count": 25,
     "metadata": {},
     "output_type": "execute_result"
    }
   ],
   "source": [
    "#check it\n",
    "train_cab.pickup_datetime.isna().sum()"
   ]
  },
  {
   "cell_type": "markdown",
   "metadata": {},
   "source": [
    "## there are no missing values in pickup_longitude ,pickup_latitude,dropoff_longitude,dropoff_latitude"
   ]
  },
  {
   "cell_type": "markdown",
   "metadata": {},
   "source": [
    " ### dealing with np. nan  present in passenger_count"
   ]
  },
  {
   "cell_type": "code",
   "execution_count": 26,
   "metadata": {},
   "outputs": [
    {
     "name": "stderr",
     "output_type": "stream",
     "text": [
      "C:\\Users\\My guest\\Anaconda3\\lib\\site-packages\\ipykernel_launcher.py:7: SettingWithCopyWarning: \n",
      "A value is trying to be set on a copy of a slice from a DataFrame\n",
      "\n",
      "See the caveats in the documentation: http://pandas.pydata.org/pandas-docs/stable/indexing.html#indexing-view-versus-copy\n",
      "  import sys\n"
     ]
    },
    {
     "name": "stdout",
     "output_type": "stream",
     "text": [
      "Imputing row 1/16067 with 0 missing, elapsed time: 37.637\n",
      "Imputing row 101/16067 with 1 missing, elapsed time: 37.639\n",
      "Imputing row 201/16067 with 0 missing, elapsed time: 37.641\n",
      "Imputing row 301/16067 with 0 missing, elapsed time: 37.642\n",
      "Imputing row 401/16067 with 0 missing, elapsed time: 37.642\n",
      "Imputing row 501/16067 with 0 missing, elapsed time: 37.644\n",
      "Imputing row 601/16067 with 0 missing, elapsed time: 37.645\n",
      "Imputing row 701/16067 with 0 missing, elapsed time: 37.646\n",
      "Imputing row 801/16067 with 0 missing, elapsed time: 37.647\n",
      "Imputing row 901/16067 with 0 missing, elapsed time: 37.648\n",
      "Imputing row 1001/16067 with 0 missing, elapsed time: 37.649\n",
      "Imputing row 1101/16067 with 0 missing, elapsed time: 37.649\n",
      "Imputing row 1201/16067 with 0 missing, elapsed time: 37.649\n",
      "Imputing row 1301/16067 with 0 missing, elapsed time: 37.650\n",
      "Imputing row 1401/16067 with 1 missing, elapsed time: 37.651\n",
      "Imputing row 1501/16067 with 0 missing, elapsed time: 37.652\n",
      "Imputing row 1601/16067 with 0 missing, elapsed time: 37.652\n",
      "Imputing row 1701/16067 with 0 missing, elapsed time: 37.653\n",
      "Imputing row 1801/16067 with 0 missing, elapsed time: 37.654\n",
      "Imputing row 1901/16067 with 0 missing, elapsed time: 37.655\n",
      "Imputing row 2001/16067 with 0 missing, elapsed time: 37.655\n",
      "Imputing row 2101/16067 with 0 missing, elapsed time: 37.656\n",
      "Imputing row 2201/16067 with 0 missing, elapsed time: 37.657\n",
      "Imputing row 2301/16067 with 0 missing, elapsed time: 37.658\n",
      "Imputing row 2401/16067 with 0 missing, elapsed time: 37.658\n",
      "Imputing row 2501/16067 with 0 missing, elapsed time: 37.659\n",
      "Imputing row 2601/16067 with 0 missing, elapsed time: 37.659\n",
      "Imputing row 2701/16067 with 0 missing, elapsed time: 37.660\n",
      "Imputing row 2801/16067 with 0 missing, elapsed time: 37.660\n",
      "Imputing row 2901/16067 with 0 missing, elapsed time: 37.660\n",
      "Imputing row 3001/16067 with 0 missing, elapsed time: 37.661\n",
      "Imputing row 3101/16067 with 0 missing, elapsed time: 37.661\n",
      "Imputing row 3201/16067 with 0 missing, elapsed time: 37.662\n",
      "Imputing row 3301/16067 with 0 missing, elapsed time: 37.662\n",
      "Imputing row 3401/16067 with 0 missing, elapsed time: 37.662\n",
      "Imputing row 3501/16067 with 0 missing, elapsed time: 37.663\n",
      "Imputing row 3601/16067 with 0 missing, elapsed time: 37.663\n",
      "Imputing row 3701/16067 with 0 missing, elapsed time: 37.663\n",
      "Imputing row 3801/16067 with 0 missing, elapsed time: 37.664\n",
      "Imputing row 3901/16067 with 0 missing, elapsed time: 37.664\n",
      "Imputing row 4001/16067 with 0 missing, elapsed time: 37.664\n",
      "Imputing row 4101/16067 with 0 missing, elapsed time: 37.665\n",
      "Imputing row 4201/16067 with 0 missing, elapsed time: 37.665\n",
      "Imputing row 4301/16067 with 0 missing, elapsed time: 37.665\n",
      "Imputing row 4401/16067 with 0 missing, elapsed time: 37.666\n",
      "Imputing row 4501/16067 with 0 missing, elapsed time: 37.666\n",
      "Imputing row 4601/16067 with 0 missing, elapsed time: 37.667\n",
      "Imputing row 4701/16067 with 0 missing, elapsed time: 37.667\n",
      "Imputing row 4801/16067 with 0 missing, elapsed time: 37.667\n",
      "Imputing row 4901/16067 with 0 missing, elapsed time: 37.668\n",
      "Imputing row 5001/16067 with 0 missing, elapsed time: 37.668\n",
      "Imputing row 5101/16067 with 0 missing, elapsed time: 37.668\n",
      "Imputing row 5201/16067 with 0 missing, elapsed time: 37.669\n",
      "Imputing row 5301/16067 with 0 missing, elapsed time: 37.669\n",
      "Imputing row 5401/16067 with 0 missing, elapsed time: 37.670\n",
      "Imputing row 5501/16067 with 0 missing, elapsed time: 37.670\n",
      "Imputing row 5601/16067 with 0 missing, elapsed time: 37.670\n",
      "Imputing row 5701/16067 with 0 missing, elapsed time: 37.671\n",
      "Imputing row 5801/16067 with 0 missing, elapsed time: 37.671\n",
      "Imputing row 5901/16067 with 0 missing, elapsed time: 37.671\n",
      "Imputing row 6001/16067 with 0 missing, elapsed time: 37.672\n",
      "Imputing row 6101/16067 with 0 missing, elapsed time: 37.672\n",
      "Imputing row 6201/16067 with 0 missing, elapsed time: 37.672\n",
      "Imputing row 6301/16067 with 0 missing, elapsed time: 37.673\n",
      "Imputing row 6401/16067 with 0 missing, elapsed time: 37.673\n",
      "Imputing row 6501/16067 with 0 missing, elapsed time: 37.673\n",
      "Imputing row 6601/16067 with 0 missing, elapsed time: 37.674\n",
      "Imputing row 6701/16067 with 0 missing, elapsed time: 37.674\n",
      "Imputing row 6801/16067 with 0 missing, elapsed time: 37.675\n",
      "Imputing row 6901/16067 with 0 missing, elapsed time: 37.675\n",
      "Imputing row 7001/16067 with 0 missing, elapsed time: 37.675\n",
      "Imputing row 7101/16067 with 0 missing, elapsed time: 37.676\n",
      "Imputing row 7201/16067 with 0 missing, elapsed time: 37.676\n",
      "Imputing row 7301/16067 with 0 missing, elapsed time: 37.676\n",
      "Imputing row 7401/16067 with 0 missing, elapsed time: 37.677\n",
      "Imputing row 7501/16067 with 0 missing, elapsed time: 37.677\n",
      "Imputing row 7601/16067 with 0 missing, elapsed time: 37.677\n",
      "Imputing row 7701/16067 with 0 missing, elapsed time: 37.678\n",
      "Imputing row 7801/16067 with 0 missing, elapsed time: 37.679\n",
      "Imputing row 7901/16067 with 0 missing, elapsed time: 37.680\n",
      "Imputing row 8001/16067 with 0 missing, elapsed time: 37.681\n",
      "Imputing row 8101/16067 with 0 missing, elapsed time: 37.682\n",
      "Imputing row 8201/16067 with 0 missing, elapsed time: 37.682\n",
      "Imputing row 8301/16067 with 0 missing, elapsed time: 37.683\n",
      "Imputing row 8401/16067 with 0 missing, elapsed time: 37.684\n",
      "Imputing row 8501/16067 with 0 missing, elapsed time: 37.684\n",
      "Imputing row 8601/16067 with 0 missing, elapsed time: 37.684\n",
      "Imputing row 8701/16067 with 0 missing, elapsed time: 37.685\n",
      "Imputing row 8801/16067 with 0 missing, elapsed time: 37.685\n",
      "Imputing row 8901/16067 with 0 missing, elapsed time: 37.685\n",
      "Imputing row 9001/16067 with 0 missing, elapsed time: 37.686\n",
      "Imputing row 9101/16067 with 0 missing, elapsed time: 37.686\n",
      "Imputing row 9201/16067 with 0 missing, elapsed time: 37.686\n",
      "Imputing row 9301/16067 with 0 missing, elapsed time: 37.687\n",
      "Imputing row 9401/16067 with 0 missing, elapsed time: 37.687\n",
      "Imputing row 9501/16067 with 0 missing, elapsed time: 37.687\n",
      "Imputing row 9601/16067 with 0 missing, elapsed time: 37.688\n",
      "Imputing row 9701/16067 with 0 missing, elapsed time: 37.688\n",
      "Imputing row 9801/16067 with 0 missing, elapsed time: 37.688\n",
      "Imputing row 9901/16067 with 0 missing, elapsed time: 37.689\n",
      "Imputing row 10001/16067 with 0 missing, elapsed time: 37.689\n",
      "Imputing row 10101/16067 with 0 missing, elapsed time: 37.690\n",
      "Imputing row 10201/16067 with 0 missing, elapsed time: 37.691\n",
      "Imputing row 10301/16067 with 0 missing, elapsed time: 37.691\n",
      "Imputing row 10401/16067 with 0 missing, elapsed time: 37.692\n",
      "Imputing row 10501/16067 with 0 missing, elapsed time: 37.692\n",
      "Imputing row 10601/16067 with 0 missing, elapsed time: 37.692\n",
      "Imputing row 10701/16067 with 0 missing, elapsed time: 37.693\n",
      "Imputing row 10801/16067 with 0 missing, elapsed time: 37.693\n",
      "Imputing row 10901/16067 with 0 missing, elapsed time: 37.694\n",
      "Imputing row 11001/16067 with 0 missing, elapsed time: 37.694\n",
      "Imputing row 11101/16067 with 0 missing, elapsed time: 37.695\n",
      "Imputing row 11201/16067 with 0 missing, elapsed time: 37.695\n",
      "Imputing row 11301/16067 with 0 missing, elapsed time: 37.695\n",
      "Imputing row 11401/16067 with 0 missing, elapsed time: 37.696\n",
      "Imputing row 11501/16067 with 0 missing, elapsed time: 37.696\n",
      "Imputing row 11601/16067 with 0 missing, elapsed time: 37.696\n",
      "Imputing row 11701/16067 with 0 missing, elapsed time: 37.697\n",
      "Imputing row 11801/16067 with 0 missing, elapsed time: 37.697\n",
      "Imputing row 11901/16067 with 0 missing, elapsed time: 37.697\n",
      "Imputing row 12001/16067 with 0 missing, elapsed time: 37.698\n",
      "Imputing row 12101/16067 with 0 missing, elapsed time: 37.698\n",
      "Imputing row 12201/16067 with 0 missing, elapsed time: 37.698\n",
      "Imputing row 12301/16067 with 0 missing, elapsed time: 37.699\n",
      "Imputing row 12401/16067 with 0 missing, elapsed time: 37.699\n",
      "Imputing row 12501/16067 with 0 missing, elapsed time: 37.699\n",
      "Imputing row 12601/16067 with 0 missing, elapsed time: 37.700\n",
      "Imputing row 12701/16067 with 0 missing, elapsed time: 37.700\n",
      "Imputing row 12801/16067 with 0 missing, elapsed time: 37.701\n",
      "Imputing row 12901/16067 with 0 missing, elapsed time: 37.701\n",
      "Imputing row 13001/16067 with 0 missing, elapsed time: 37.701\n",
      "Imputing row 13101/16067 with 0 missing, elapsed time: 37.702\n",
      "Imputing row 13201/16067 with 0 missing, elapsed time: 37.702\n",
      "Imputing row 13301/16067 with 0 missing, elapsed time: 37.703\n",
      "Imputing row 13401/16067 with 0 missing, elapsed time: 37.703\n",
      "Imputing row 13501/16067 with 0 missing, elapsed time: 37.703\n",
      "Imputing row 13601/16067 with 0 missing, elapsed time: 37.704\n",
      "Imputing row 13701/16067 with 0 missing, elapsed time: 37.704\n",
      "Imputing row 13801/16067 with 0 missing, elapsed time: 37.704\n",
      "Imputing row 13901/16067 with 0 missing, elapsed time: 37.705\n",
      "Imputing row 14001/16067 with 0 missing, elapsed time: 37.705\n",
      "Imputing row 14101/16067 with 0 missing, elapsed time: 37.705\n",
      "Imputing row 14201/16067 with 0 missing, elapsed time: 37.706\n",
      "Imputing row 14301/16067 with 0 missing, elapsed time: 37.706\n",
      "Imputing row 14401/16067 with 0 missing, elapsed time: 37.706\n",
      "Imputing row 14501/16067 with 0 missing, elapsed time: 37.707\n",
      "Imputing row 14601/16067 with 0 missing, elapsed time: 37.707\n",
      "Imputing row 14701/16067 with 0 missing, elapsed time: 37.707\n",
      "Imputing row 14801/16067 with 0 missing, elapsed time: 37.708\n",
      "Imputing row 14901/16067 with 0 missing, elapsed time: 37.708\n",
      "Imputing row 15001/16067 with 0 missing, elapsed time: 37.708\n",
      "Imputing row 15101/16067 with 0 missing, elapsed time: 37.709\n",
      "Imputing row 15201/16067 with 0 missing, elapsed time: 37.709\n",
      "Imputing row 15301/16067 with 0 missing, elapsed time: 37.709\n",
      "Imputing row 15401/16067 with 0 missing, elapsed time: 37.710\n",
      "Imputing row 15501/16067 with 0 missing, elapsed time: 37.710\n",
      "Imputing row 15601/16067 with 0 missing, elapsed time: 37.710\n",
      "Imputing row 15701/16067 with 0 missing, elapsed time: 37.711\n",
      "Imputing row 15801/16067 with 0 missing, elapsed time: 37.711\n",
      "Imputing row 15901/16067 with 0 missing, elapsed time: 37.712\n",
      "Imputing row 16001/16067 with 0 missing, elapsed time: 37.712\n"
     ]
    },
    {
     "data": {
      "text/plain": [
       "1.2073240237942406"
      ]
     },
     "execution_count": 26,
     "metadata": {},
     "output_type": "execute_result"
    }
   ],
   "source": [
    "# missing val analysis for last column\n",
    "#actual value=1\n",
    "#mean imputation=2.6251714446318153\n",
    "#median imputation=1\n",
    "#knn imputation= 1.2073240237942406\n",
    "train_cab.passenger_count[100]\n",
    "train_cab.passenger_count[100]=np.nan\n",
    "train_cab.passenger_count.mean()\n",
    "train_cab.passenger_count.median()\n",
    "cabk=train_cab.drop('pickup_datetime',axis=1)\n",
    "cabk=pd.DataFrame(KNN(k=5).fit_transform(cabk),columns=cabk.columns)\n",
    "cabk.passenger_count[100]\n"
   ]
  },
  {
   "cell_type": "code",
   "execution_count": 27,
   "metadata": {},
   "outputs": [],
   "source": [
    "# so median is close to the actual value\n",
    "# median value is closet amon all method for fare_amount value\n",
    "train_cab['passenger_count']=train_cab['passenger_count'].fillna(train_cab['passenger_count'].median())"
   ]
  },
  {
   "cell_type": "code",
   "execution_count": 28,
   "metadata": {},
   "outputs": [
    {
     "data": {
      "text/plain": [
       "0"
      ]
     },
     "execution_count": 28,
     "metadata": {},
     "output_type": "execute_result"
    }
   ],
   "source": [
    "train_cab.passenger_count[100]\n",
    "train_cab.passenger_count.isna().sum()"
   ]
  },
  {
   "cell_type": "code",
   "execution_count": 29,
   "metadata": {},
   "outputs": [
    {
     "data": {
      "text/plain": [
       "fare_amount          0\n",
       "pickup_datetime      0\n",
       "pickup_longitude     0\n",
       "pickup_latitude      0\n",
       "dropoff_longitude    0\n",
       "dropoff_latitude     0\n",
       "passenger_count      0\n",
       "dtype: int64"
      ]
     },
     "execution_count": 29,
     "metadata": {},
     "output_type": "execute_result"
    }
   ],
   "source": [
    "#check for missing values in entire data set\n",
    "train_cab.isna().sum()"
   ]
  },
  {
   "cell_type": "markdown",
   "metadata": {},
   "source": [
    "###### data train_cab is free from missing values"
   ]
  },
  {
   "cell_type": "markdown",
   "metadata": {},
   "source": [
    "# OUTLIER ANALYSIS"
   ]
  },
  {
   "cell_type": "code",
   "execution_count": 30,
   "metadata": {},
   "outputs": [
    {
     "data": {
      "image/png": "[encoded data removed]",
      "text/plain": [
       "<Figure size 1440x360 with 1 Axes>"
      ]
     },
     "metadata": {},
     "output_type": "display_data"
    }
   ],
   "source": [
    "plt.figure(figsize=(20,5)) \n",
    "plt.xlim(0,100)\n",
    "sns.boxplot(x=train_cab['fare_amount'],data=train_cab,orient='h')\n",
    "plt.title('Boxplot of fare_amount')\n",
    "plt.savefig('bp of fare_amount.png')\n",
    "plt.show()"
   ]
  },
  {
   "cell_type": "code",
   "execution_count": 31,
   "metadata": {},
   "outputs": [
    {
     "data": {
      "image/png": "[encoded data removed]",
      "text/plain": [
       "<Figure size 1440x360 with 1 Axes>"
      ]
     },
     "metadata": {},
     "output_type": "display_data"
    }
   ],
   "source": [
    "plt.figure(figsize=(20,5)) \n",
    "plt.xlim(0,100)\n",
    "sns.boxplot(x=test_cab['pickup_longitude'],data=train_cab,orient='v')\n",
    "plt.title('Boxplot of test_pickup_longitude')\n",
    "plt.savefig('bp of test_pickup_longitude.png')\n",
    "plt.show()"
   ]
  },
  {
   "cell_type": "code",
   "execution_count": 32,
   "metadata": {},
   "outputs": [
    {
     "data": {
      "image/png": "[encoded data removed]",
      "text/plain": [
       "<Figure size 1440x360 with 1 Axes>"
      ]
     },
     "metadata": {},
     "output_type": "display_data"
    }
   ],
   "source": [
    "plt.figure(figsize=(20,5)) \n",
    "plt.xlim(0,100)\n",
    "sns.boxplot(x=test_cab['pickup_latitude'],data=train_cab,orient='h')\n",
    "plt.title('Boxplot of test_pickup_latitude')\n",
    "plt.savefig('bp of test_pickup_latitude.png')\n",
    "plt.show()"
   ]
  },
  {
   "cell_type": "code",
   "execution_count": 33,
   "metadata": {},
   "outputs": [
    {
     "data": {
      "image/png": "[encoded data removed]",
      "text/plain": [
       "<Figure size 1440x360 with 1 Axes>"
      ]
     },
     "metadata": {},
     "output_type": "display_data"
    }
   ],
   "source": [
    "plt.figure(figsize=(20,5)) \n",
    "plt.xlim(0,100)\n",
    "sns.boxplot(x=test_cab['dropoff_longitude'],data=train_cab,orient='v')\n",
    "plt.title('Boxplot of test_dropoff_longitude')\n",
    "plt.savefig('bp of test_dropoff_longitude.png')\n",
    "plt.show()"
   ]
  },
  {
   "cell_type": "code",
   "execution_count": 34,
   "metadata": {},
   "outputs": [
    {
     "data": {
      "image/png": "[encoded data removed]",
      "text/plain": [
       "<Figure size 1440x360 with 1 Axes>"
      ]
     },
     "metadata": {},
     "output_type": "display_data"
    }
   ],
   "source": [
    "plt.figure(figsize=(20,5)) \n",
    "plt.xlim(0,100)\n",
    "sns.boxplot(x=test_cab['dropoff_latitude'],data=train_cab,orient='v')\n",
    "plt.title('Boxplot of test_dropoff_latitude')\n",
    "plt.savefig('bp of test_dropoff_latgitude.png')\n",
    "plt.show()"
   ]
  },
  {
   "cell_type": "code",
   "execution_count": 35,
   "metadata": {},
   "outputs": [
    {
     "data": {
      "image/png": "[encoded data removed]",
      "text/plain": [
       "<Figure size 1440x360 with 1 Axes>"
      ]
     },
     "metadata": {},
     "output_type": "display_data"
    }
   ],
   "source": [
    "plt.figure(figsize=(20,5)) \n",
    "plt.xlim(0,100)\n",
    "sns.boxplot(x=train_cab['pickup_longitude'],data=train_cab,orient='v')\n",
    "plt.title('Boxplot of pickup_longitude')\n",
    "plt.savefig('bp of pickup_longitude.png')\n",
    "plt.show()"
   ]
  },
  {
   "cell_type": "code",
   "execution_count": 36,
   "metadata": {
    "scrolled": false
   },
   "outputs": [
    {
     "data": {
      "image/png": "[encoded data removed]",
      "text/plain": [
       "<Figure size 1440x360 with 1 Axes>"
      ]
     },
     "metadata": {},
     "output_type": "display_data"
    }
   ],
   "source": [
    "plt.figure(figsize=(20,5)) \n",
    "plt.xlim(0,100)\n",
    "sns.boxplot(x=train_cab['pickup_latitude'],data=train_cab,orient='v')\n",
    "plt.title('Boxplot of pickup_latitude')\n",
    "plt.savefig('bp of pickup_latitude.png')\n",
    "plt.show()"
   ]
  },
  {
   "cell_type": "code",
   "execution_count": 37,
   "metadata": {},
   "outputs": [
    {
     "data": {
      "image/png": "[encoded data removed]",
      "text/plain": [
       "<Figure size 1440x360 with 1 Axes>"
      ]
     },
     "metadata": {},
     "output_type": "display_data"
    }
   ],
   "source": [
    "plt.figure(figsize=(20,5)) \n",
    "plt.xlim(0,100)\n",
    "sns.boxplot(x=train_cab['dropoff_longitude'],data=train_cab,orient='v')\n",
    "plt.title('Boxplot of dropoff_longitude')\n",
    "plt.savefig('bp of dropoff_longitude.png')\n",
    "plt.show()"
   ]
  },
  {
   "cell_type": "code",
   "execution_count": 38,
   "metadata": {},
   "outputs": [
    {
     "data": {
      "image/png": "[encoded data removed]",
      "text/plain": [
       "<Figure size 1440x360 with 1 Axes>"
      ]
     },
     "metadata": {},
     "output_type": "display_data"
    }
   ],
   "source": [
    "plt.figure(figsize=(20,5)) \n",
    "plt.xlim(0,100)\n",
    "sns.boxplot(x=train_cab['dropoff_latitude'],data=train_cab,orient='h')\n",
    "plt.title('Boxplot of dropoff_latitude')\n",
    "#plt.savefig('bp of dropoff_latitude.png')\n",
    "plt.show()"
   ]
  },
  {
   "cell_type": "code",
   "execution_count": 39,
   "metadata": {},
   "outputs": [
    {
     "data": {
      "image/png": "[encoded data removed]",
      "text/plain": [
       "<Figure size 1440x360 with 1 Axes>"
      ]
     },
     "metadata": {},
     "output_type": "display_data"
    }
   ],
   "source": [
    "plt.figure(figsize=(20,5)) \n",
    "plt.xlim(0,100)\n",
    "sns.boxplot(x=train_cab['passenger_count'],data=train_cab,orient='h')\n",
    "plt.title('Boxplot of passenger_count')\n",
    "#plt.savefig('bp of passenger_count.png')\n",
    "plt.show()"
   ]
  },
  {
   "cell_type": "code",
   "execution_count": 40,
   "metadata": {},
   "outputs": [
    {
     "name": "stdout",
     "output_type": "stream",
     "text": [
      "12.5 6.0 6.5 0 22.25\n"
     ]
    }
   ],
   "source": [
    "#  outliers in column 1:fare_amount\n",
    "q75=np.percentile(train_cab.fare_amount,75)\n",
    "q25=np.percentile(train_cab.fare_amount,25)\n",
    "iqr=q75-q25\n",
    "min=q25-(iqr*1.5)\n",
    "#since fare_amount can not go negative so we will keep the minimum  val= 0\n",
    "min=0\n",
    "max=q75+(iqr*1.5)\n",
    "print(q75,q25,iqr,min,max)\n"
   ]
  },
  {
   "cell_type": "code",
   "execution_count": 41,
   "metadata": {},
   "outputs": [
    {
     "data": {
      "text/plain": [
       "3"
      ]
     },
     "execution_count": 41,
     "metadata": {},
     "output_type": "execute_result"
    }
   ],
   "source": [
    "len(train_cab.loc[train_cab['fare_amount'] < min])"
   ]
  },
  {
   "cell_type": "code",
   "execution_count": 42,
   "metadata": {},
   "outputs": [
    {
     "data": {
      "text/plain": [
       "1399"
      ]
     },
     "execution_count": 42,
     "metadata": {},
     "output_type": "execute_result"
    }
   ],
   "source": [
    "len(train_cab.loc[train_cab['fare_amount']>max])"
   ]
  },
  {
   "cell_type": "code",
   "execution_count": 43,
   "metadata": {},
   "outputs": [
    {
     "data": {
      "text/plain": [
       "2039    -2.9\n",
       "2486    -2.5\n",
       "13032   -3.0\n",
       "Name: fare_amount, dtype: float64"
      ]
     },
     "execution_count": 43,
     "metadata": {},
     "output_type": "execute_result"
    }
   ],
   "source": [
    "train_cab.loc[train_cab['fare_amount'] < min,'fare_amount']"
   ]
  },
  {
   "cell_type": "code",
   "execution_count": 44,
   "metadata": {},
   "outputs": [],
   "source": [
    "train_cab.loc[train_cab['fare_amount'] < min,'fare_amount'] =np.nan\n",
    "train_cab.loc[train_cab['fare_amount'] > max,'fare_amount'] =np.nan"
   ]
  },
  {
   "cell_type": "code",
   "execution_count": 45,
   "metadata": {},
   "outputs": [
    {
     "data": {
      "text/plain": [
       "Series([], Name: fare_amount, dtype: float64)"
      ]
     },
     "execution_count": 45,
     "metadata": {},
     "output_type": "execute_result"
    }
   ],
   "source": [
    "train_cab.loc[train_cab['fare_amount'] < min,'fare_amount']"
   ]
  },
  {
   "cell_type": "code",
   "execution_count": 46,
   "metadata": {},
   "outputs": [
    {
     "name": "stdout",
     "output_type": "stream",
     "text": [
      "Imputing row 1/16067 with 0 missing, elapsed time: 37.642\n",
      "Imputing row 101/16067 with 0 missing, elapsed time: 37.643\n",
      "Imputing row 201/16067 with 0 missing, elapsed time: 37.645\n",
      "Imputing row 301/16067 with 0 missing, elapsed time: 37.646\n",
      "Imputing row 401/16067 with 0 missing, elapsed time: 37.648\n",
      "Imputing row 501/16067 with 0 missing, elapsed time: 37.649\n",
      "Imputing row 601/16067 with 0 missing, elapsed time: 37.651\n",
      "Imputing row 701/16067 with 0 missing, elapsed time: 37.652\n",
      "Imputing row 801/16067 with 0 missing, elapsed time: 37.654\n",
      "Imputing row 901/16067 with 0 missing, elapsed time: 37.655\n",
      "Imputing row 1001/16067 with 0 missing, elapsed time: 37.657\n",
      "Imputing row 1101/16067 with 0 missing, elapsed time: 37.658\n",
      "Imputing row 1201/16067 with 0 missing, elapsed time: 37.660\n",
      "Imputing row 1301/16067 with 0 missing, elapsed time: 37.661\n",
      "Imputing row 1401/16067 with 0 missing, elapsed time: 37.662\n",
      "Imputing row 1501/16067 with 0 missing, elapsed time: 37.664\n",
      "Imputing row 1601/16067 with 0 missing, elapsed time: 37.665\n",
      "Imputing row 1701/16067 with 0 missing, elapsed time: 37.666\n",
      "Imputing row 1801/16067 with 0 missing, elapsed time: 37.668\n",
      "Imputing row 1901/16067 with 0 missing, elapsed time: 37.669\n",
      "Imputing row 2001/16067 with 0 missing, elapsed time: 37.670\n",
      "Imputing row 2101/16067 with 0 missing, elapsed time: 37.672\n",
      "Imputing row 2201/16067 with 0 missing, elapsed time: 37.674\n",
      "Imputing row 2301/16067 with 0 missing, elapsed time: 37.675\n",
      "Imputing row 2401/16067 with 0 missing, elapsed time: 37.676\n",
      "Imputing row 2501/16067 with 0 missing, elapsed time: 37.677\n",
      "Imputing row 2601/16067 with 0 missing, elapsed time: 37.678\n",
      "Imputing row 2701/16067 with 0 missing, elapsed time: 37.680\n",
      "Imputing row 2801/16067 with 0 missing, elapsed time: 37.681\n",
      "Imputing row 2901/16067 with 0 missing, elapsed time: 37.682\n",
      "Imputing row 3001/16067 with 1 missing, elapsed time: 37.683\n",
      "Imputing row 3101/16067 with 0 missing, elapsed time: 37.684\n",
      "Imputing row 3201/16067 with 0 missing, elapsed time: 37.685\n",
      "Imputing row 3301/16067 with 1 missing, elapsed time: 37.687\n",
      "Imputing row 3401/16067 with 0 missing, elapsed time: 37.688\n",
      "Imputing row 3501/16067 with 0 missing, elapsed time: 37.689\n",
      "Imputing row 3601/16067 with 0 missing, elapsed time: 37.690\n",
      "Imputing row 3701/16067 with 0 missing, elapsed time: 37.692\n",
      "Imputing row 3801/16067 with 0 missing, elapsed time: 37.693\n",
      "Imputing row 3901/16067 with 0 missing, elapsed time: 37.694\n",
      "Imputing row 4001/16067 with 0 missing, elapsed time: 37.695\n",
      "Imputing row 4101/16067 with 0 missing, elapsed time: 37.696\n",
      "Imputing row 4201/16067 with 0 missing, elapsed time: 37.697\n",
      "Imputing row 4301/16067 with 0 missing, elapsed time: 37.699\n",
      "Imputing row 4401/16067 with 0 missing, elapsed time: 37.700\n",
      "Imputing row 4501/16067 with 0 missing, elapsed time: 37.702\n",
      "Imputing row 4601/16067 with 0 missing, elapsed time: 37.703\n",
      "Imputing row 4701/16067 with 0 missing, elapsed time: 37.705\n",
      "Imputing row 4801/16067 with 0 missing, elapsed time: 37.706\n",
      "Imputing row 4901/16067 with 1 missing, elapsed time: 37.708\n",
      "Imputing row 5001/16067 with 0 missing, elapsed time: 37.708\n",
      "Imputing row 5101/16067 with 0 missing, elapsed time: 37.709\n",
      "Imputing row 5201/16067 with 0 missing, elapsed time: 37.711\n",
      "Imputing row 5301/16067 with 0 missing, elapsed time: 37.712\n",
      "Imputing row 5401/16067 with 0 missing, elapsed time: 37.714\n",
      "Imputing row 5501/16067 with 0 missing, elapsed time: 37.715\n",
      "Imputing row 5601/16067 with 0 missing, elapsed time: 37.716\n",
      "Imputing row 5701/16067 with 0 missing, elapsed time: 37.717\n",
      "Imputing row 5801/16067 with 0 missing, elapsed time: 37.718\n",
      "Imputing row 5901/16067 with 0 missing, elapsed time: 37.719\n",
      "Imputing row 6001/16067 with 0 missing, elapsed time: 37.720\n",
      "Imputing row 6101/16067 with 0 missing, elapsed time: 37.722\n",
      "Imputing row 6201/16067 with 0 missing, elapsed time: 37.723\n",
      "Imputing row 6301/16067 with 0 missing, elapsed time: 37.725\n",
      "Imputing row 6401/16067 with 0 missing, elapsed time: 37.726\n",
      "Imputing row 6501/16067 with 1 missing, elapsed time: 37.727\n",
      "Imputing row 6601/16067 with 0 missing, elapsed time: 37.728\n",
      "Imputing row 6701/16067 with 0 missing, elapsed time: 37.730\n",
      "Imputing row 6801/16067 with 0 missing, elapsed time: 37.731\n",
      "Imputing row 6901/16067 with 0 missing, elapsed time: 37.733\n",
      "Imputing row 7001/16067 with 0 missing, elapsed time: 37.734\n",
      "Imputing row 7101/16067 with 0 missing, elapsed time: 37.735\n",
      "Imputing row 7201/16067 with 0 missing, elapsed time: 37.736\n",
      "Imputing row 7301/16067 with 0 missing, elapsed time: 37.737\n",
      "Imputing row 7401/16067 with 0 missing, elapsed time: 37.739\n",
      "Imputing row 7501/16067 with 0 missing, elapsed time: 37.740\n",
      "Imputing row 7601/16067 with 0 missing, elapsed time: 37.741\n",
      "Imputing row 7701/16067 with 0 missing, elapsed time: 37.743\n",
      "Imputing row 7801/16067 with 0 missing, elapsed time: 37.745\n",
      "Imputing row 7901/16067 with 1 missing, elapsed time: 37.746\n",
      "Imputing row 8001/16067 with 0 missing, elapsed time: 37.747\n",
      "Imputing row 8101/16067 with 0 missing, elapsed time: 37.749\n",
      "Imputing row 8201/16067 with 0 missing, elapsed time: 37.750\n",
      "Imputing row 8301/16067 with 0 missing, elapsed time: 37.751\n",
      "Imputing row 8401/16067 with 0 missing, elapsed time: 37.753\n",
      "Imputing row 8501/16067 with 0 missing, elapsed time: 37.754\n",
      "Imputing row 8601/16067 with 0 missing, elapsed time: 37.756\n",
      "Imputing row 8701/16067 with 0 missing, elapsed time: 37.756\n",
      "Imputing row 8801/16067 with 0 missing, elapsed time: 37.758\n",
      "Imputing row 8901/16067 with 0 missing, elapsed time: 37.759\n",
      "Imputing row 9001/16067 with 0 missing, elapsed time: 37.760\n",
      "Imputing row 9101/16067 with 0 missing, elapsed time: 37.761\n",
      "Imputing row 9201/16067 with 0 missing, elapsed time: 37.763\n",
      "Imputing row 9301/16067 with 0 missing, elapsed time: 37.764\n",
      "Imputing row 9401/16067 with 0 missing, elapsed time: 37.765\n",
      "Imputing row 9501/16067 with 0 missing, elapsed time: 37.766\n",
      "Imputing row 9601/16067 with 1 missing, elapsed time: 37.767\n",
      "Imputing row 9701/16067 with 0 missing, elapsed time: 37.768\n",
      "Imputing row 9801/16067 with 0 missing, elapsed time: 37.769\n",
      "Imputing row 9901/16067 with 0 missing, elapsed time: 37.770\n",
      "Imputing row 10001/16067 with 1 missing, elapsed time: 37.772\n",
      "Imputing row 10101/16067 with 1 missing, elapsed time: 37.773\n",
      "Imputing row 10201/16067 with 0 missing, elapsed time: 37.775\n",
      "Imputing row 10301/16067 with 0 missing, elapsed time: 37.776\n",
      "Imputing row 10401/16067 with 0 missing, elapsed time: 37.777\n",
      "Imputing row 10501/16067 with 0 missing, elapsed time: 37.778\n",
      "Imputing row 10601/16067 with 0 missing, elapsed time: 37.780\n",
      "Imputing row 10701/16067 with 0 missing, elapsed time: 37.781\n",
      "Imputing row 10801/16067 with 0 missing, elapsed time: 37.782\n",
      "Imputing row 10901/16067 with 0 missing, elapsed time: 37.784\n",
      "Imputing row 11001/16067 with 0 missing, elapsed time: 37.785\n",
      "Imputing row 11101/16067 with 0 missing, elapsed time: 37.786\n",
      "Imputing row 11201/16067 with 0 missing, elapsed time: 37.787\n",
      "Imputing row 11301/16067 with 1 missing, elapsed time: 37.788\n",
      "Imputing row 11401/16067 with 0 missing, elapsed time: 37.789\n",
      "Imputing row 11501/16067 with 0 missing, elapsed time: 37.791\n",
      "Imputing row 11601/16067 with 0 missing, elapsed time: 37.792\n",
      "Imputing row 11701/16067 with 0 missing, elapsed time: 37.793\n",
      "Imputing row 11801/16067 with 0 missing, elapsed time: 37.794\n",
      "Imputing row 11901/16067 with 0 missing, elapsed time: 37.796\n",
      "Imputing row 12001/16067 with 0 missing, elapsed time: 37.797\n",
      "Imputing row 12101/16067 with 0 missing, elapsed time: 37.799\n",
      "Imputing row 12201/16067 with 0 missing, elapsed time: 37.800\n",
      "Imputing row 12301/16067 with 0 missing, elapsed time: 37.801\n",
      "Imputing row 12401/16067 with 0 missing, elapsed time: 37.803\n",
      "Imputing row 12501/16067 with 0 missing, elapsed time: 37.804\n",
      "Imputing row 12601/16067 with 0 missing, elapsed time: 37.805\n",
      "Imputing row 12701/16067 with 0 missing, elapsed time: 37.806\n",
      "Imputing row 12801/16067 with 0 missing, elapsed time: 37.807\n",
      "Imputing row 12901/16067 with 0 missing, elapsed time: 37.808\n",
      "Imputing row 13001/16067 with 0 missing, elapsed time: 37.810\n",
      "Imputing row 13101/16067 with 0 missing, elapsed time: 37.812\n",
      "Imputing row 13201/16067 with 0 missing, elapsed time: 37.813\n",
      "Imputing row 13301/16067 with 0 missing, elapsed time: 37.814\n",
      "Imputing row 13401/16067 with 0 missing, elapsed time: 37.815\n",
      "Imputing row 13501/16067 with 0 missing, elapsed time: 37.816\n",
      "Imputing row 13601/16067 with 0 missing, elapsed time: 37.818\n",
      "Imputing row 13701/16067 with 0 missing, elapsed time: 37.819\n"
     ]
    },
    {
     "name": "stdout",
     "output_type": "stream",
     "text": [
      "Imputing row 13801/16067 with 0 missing, elapsed time: 37.821\n",
      "Imputing row 13901/16067 with 0 missing, elapsed time: 37.823\n",
      "Imputing row 14001/16067 with 0 missing, elapsed time: 37.825\n",
      "Imputing row 14101/16067 with 0 missing, elapsed time: 37.826\n",
      "Imputing row 14201/16067 with 0 missing, elapsed time: 37.828\n",
      "Imputing row 14301/16067 with 0 missing, elapsed time: 37.829\n",
      "Imputing row 14401/16067 with 0 missing, elapsed time: 37.830\n",
      "Imputing row 14501/16067 with 0 missing, elapsed time: 37.831\n",
      "Imputing row 14601/16067 with 0 missing, elapsed time: 37.833\n",
      "Imputing row 14701/16067 with 0 missing, elapsed time: 37.835\n",
      "Imputing row 14801/16067 with 1 missing, elapsed time: 37.836\n",
      "Imputing row 14901/16067 with 0 missing, elapsed time: 37.837\n",
      "Imputing row 15001/16067 with 0 missing, elapsed time: 37.839\n",
      "Imputing row 15101/16067 with 1 missing, elapsed time: 37.841\n",
      "Imputing row 15201/16067 with 1 missing, elapsed time: 37.842\n",
      "Imputing row 15301/16067 with 0 missing, elapsed time: 37.843\n",
      "Imputing row 15401/16067 with 1 missing, elapsed time: 37.844\n",
      "Imputing row 15501/16067 with 0 missing, elapsed time: 37.845\n",
      "Imputing row 15601/16067 with 1 missing, elapsed time: 37.847\n",
      "Imputing row 15701/16067 with 0 missing, elapsed time: 37.848\n",
      "Imputing row 15801/16067 with 0 missing, elapsed time: 37.851\n",
      "Imputing row 15901/16067 with 1 missing, elapsed time: 37.852\n",
      "Imputing row 16001/16067 with 0 missing, elapsed time: 37.854\n"
     ]
    },
    {
     "data": {
      "text/plain": [
       "0"
      ]
     },
     "execution_count": 46,
     "metadata": {},
     "output_type": "execute_result"
    }
   ],
   "source": [
    "train_cab.fare_amount.isna().sum()\n",
    "df=train_cab.drop('pickup_datetime',axis=1)\n",
    "df=pd.DataFrame(KNN(k=5).fit_transform(df),columns=df.columns)\n",
    "train_cab.fare_amount=df.fare_amount\n",
    "train_cab.fare_amount.isna().sum()"
   ]
  },
  {
   "cell_type": "code",
   "execution_count": 47,
   "metadata": {},
   "outputs": [
    {
     "data": {
      "text/plain": [
       "8.707288230534637"
      ]
     },
     "execution_count": 47,
     "metadata": {},
     "output_type": "execute_result"
    }
   ],
   "source": [
    "(1399/16067)*100\n"
   ]
  },
  {
   "cell_type": "code",
   "execution_count": 48,
   "metadata": {},
   "outputs": [
    {
     "data": {
      "text/html": [
       "<div>\n",
       "<style scoped>\n",
       "    .dataframe tbody tr th:only-of-type {\n",
       "        vertical-align: middle;\n",
       "    }\n",
       "\n",
       "    .dataframe tbody tr th {\n",
       "        vertical-align: top;\n",
       "    }\n",
       "\n",
       "    .dataframe thead th {\n",
       "        text-align: right;\n",
       "    }\n",
       "</style>\n",
       "<table border=\"1\" class=\"dataframe\">\n",
       "  <thead>\n",
       "    <tr style=\"text-align: right;\">\n",
       "      <th></th>\n",
       "      <th>fare_amount</th>\n",
       "      <th>pickup_datetime</th>\n",
       "      <th>pickup_longitude</th>\n",
       "      <th>pickup_latitude</th>\n",
       "      <th>dropoff_longitude</th>\n",
       "      <th>dropoff_latitude</th>\n",
       "      <th>passenger_count</th>\n",
       "    </tr>\n",
       "  </thead>\n",
       "  <tbody>\n",
       "    <tr>\n",
       "      <th>0</th>\n",
       "      <td>4.500000</td>\n",
       "      <td>2009-06-15 17:26:21+00:00</td>\n",
       "      <td>-73.844311</td>\n",
       "      <td>40.721319</td>\n",
       "      <td>-73.841610</td>\n",
       "      <td>40.712278</td>\n",
       "      <td>1.0</td>\n",
       "    </tr>\n",
       "    <tr>\n",
       "      <th>1</th>\n",
       "      <td>16.900000</td>\n",
       "      <td>2010-01-05 16:52:16+00:00</td>\n",
       "      <td>-74.016048</td>\n",
       "      <td>40.711303</td>\n",
       "      <td>-73.979268</td>\n",
       "      <td>40.782004</td>\n",
       "      <td>1.0</td>\n",
       "    </tr>\n",
       "    <tr>\n",
       "      <th>2</th>\n",
       "      <td>5.700000</td>\n",
       "      <td>2011-08-18 00:35:00+00:00</td>\n",
       "      <td>-73.982738</td>\n",
       "      <td>40.761270</td>\n",
       "      <td>-73.991242</td>\n",
       "      <td>40.750562</td>\n",
       "      <td>2.0</td>\n",
       "    </tr>\n",
       "    <tr>\n",
       "      <th>3</th>\n",
       "      <td>7.700000</td>\n",
       "      <td>2012-04-21 04:30:42+00:00</td>\n",
       "      <td>-73.987130</td>\n",
       "      <td>40.733143</td>\n",
       "      <td>-73.991567</td>\n",
       "      <td>40.758092</td>\n",
       "      <td>1.0</td>\n",
       "    </tr>\n",
       "    <tr>\n",
       "      <th>4</th>\n",
       "      <td>5.300000</td>\n",
       "      <td>2010-03-09 07:51:00+00:00</td>\n",
       "      <td>-73.968095</td>\n",
       "      <td>40.768008</td>\n",
       "      <td>-73.956655</td>\n",
       "      <td>40.783762</td>\n",
       "      <td>1.0</td>\n",
       "    </tr>\n",
       "    <tr>\n",
       "      <th>5</th>\n",
       "      <td>12.100000</td>\n",
       "      <td>2011-01-06 09:50:45+00:00</td>\n",
       "      <td>-74.000964</td>\n",
       "      <td>40.731630</td>\n",
       "      <td>-73.972892</td>\n",
       "      <td>40.758233</td>\n",
       "      <td>1.0</td>\n",
       "    </tr>\n",
       "    <tr>\n",
       "      <th>6</th>\n",
       "      <td>7.500000</td>\n",
       "      <td>2012-11-20 20:35:00+00:00</td>\n",
       "      <td>-73.980002</td>\n",
       "      <td>40.751662</td>\n",
       "      <td>-73.973802</td>\n",
       "      <td>40.764842</td>\n",
       "      <td>1.0</td>\n",
       "    </tr>\n",
       "    <tr>\n",
       "      <th>7</th>\n",
       "      <td>16.500000</td>\n",
       "      <td>2012-01-04 17:22:00+00:00</td>\n",
       "      <td>-73.951300</td>\n",
       "      <td>40.774138</td>\n",
       "      <td>-73.990095</td>\n",
       "      <td>40.751048</td>\n",
       "      <td>1.0</td>\n",
       "    </tr>\n",
       "    <tr>\n",
       "      <th>8</th>\n",
       "      <td>6.144661</td>\n",
       "      <td>2012-12-03 13:10:00+00:00</td>\n",
       "      <td>-74.006462</td>\n",
       "      <td>40.726713</td>\n",
       "      <td>-73.993078</td>\n",
       "      <td>40.731628</td>\n",
       "      <td>1.0</td>\n",
       "    </tr>\n",
       "    <tr>\n",
       "      <th>9</th>\n",
       "      <td>8.900000</td>\n",
       "      <td>2009-09-02 01:11:00+00:00</td>\n",
       "      <td>-73.980658</td>\n",
       "      <td>40.733873</td>\n",
       "      <td>-73.991540</td>\n",
       "      <td>40.758138</td>\n",
       "      <td>2.0</td>\n",
       "    </tr>\n",
       "  </tbody>\n",
       "</table>\n",
       "</div>"
      ],
      "text/plain": [
       "   fare_amount           pickup_datetime  pickup_longitude  pickup_latitude  \\\n",
       "0     4.500000 2009-06-15 17:26:21+00:00        -73.844311        40.721319   \n",
       "1    16.900000 2010-01-05 16:52:16+00:00        -74.016048        40.711303   \n",
       "2     5.700000 2011-08-18 00:35:00+00:00        -73.982738        40.761270   \n",
       "3     7.700000 2012-04-21 04:30:42+00:00        -73.987130        40.733143   \n",
       "4     5.300000 2010-03-09 07:51:00+00:00        -73.968095        40.768008   \n",
       "5    12.100000 2011-01-06 09:50:45+00:00        -74.000964        40.731630   \n",
       "6     7.500000 2012-11-20 20:35:00+00:00        -73.980002        40.751662   \n",
       "7    16.500000 2012-01-04 17:22:00+00:00        -73.951300        40.774138   \n",
       "8     6.144661 2012-12-03 13:10:00+00:00        -74.006462        40.726713   \n",
       "9     8.900000 2009-09-02 01:11:00+00:00        -73.980658        40.733873   \n",
       "\n",
       "   dropoff_longitude  dropoff_latitude  passenger_count  \n",
       "0         -73.841610         40.712278              1.0  \n",
       "1         -73.979268         40.782004              1.0  \n",
       "2         -73.991242         40.750562              2.0  \n",
       "3         -73.991567         40.758092              1.0  \n",
       "4         -73.956655         40.783762              1.0  \n",
       "5         -73.972892         40.758233              1.0  \n",
       "6         -73.973802         40.764842              1.0  \n",
       "7         -73.990095         40.751048              1.0  \n",
       "8         -73.993078         40.731628              1.0  \n",
       "9         -73.991540         40.758138              2.0  "
      ]
     },
     "execution_count": 48,
     "metadata": {},
     "output_type": "execute_result"
    }
   ],
   "source": [
    "train_cab.head(10)"
   ]
  },
  {
   "cell_type": "code",
   "execution_count": 49,
   "metadata": {},
   "outputs": [
    {
     "name": "stdout",
     "output_type": "stream",
     "text": [
      "-73.9668385 -73.992156 0.025317499999999882 -74.03013225 -73.92886225\n"
     ]
    }
   ],
   "source": [
    "# outliers analysis for 3rd column\n",
    "q75=np.percentile(train_cab.pickup_longitude,75)\n",
    "q25=np.percentile(train_cab.pickup_longitude,25)\n",
    "iqr=q75-q25\n",
    "min=q25-(iqr*1.5)\n",
    "max=q75+(iqr*1.5)\n",
    "print(q75,q25,iqr,min,max)\n"
   ]
  },
  {
   "cell_type": "code",
   "execution_count": 50,
   "metadata": {},
   "outputs": [
    {
     "data": {
      "text/plain": [
       "19"
      ]
     },
     "execution_count": 50,
     "metadata": {},
     "output_type": "execute_result"
    }
   ],
   "source": [
    "len(train_cab.loc[train_cab['pickup_longitude'] < min])"
   ]
  },
  {
   "cell_type": "code",
   "execution_count": 51,
   "metadata": {},
   "outputs": [
    {
     "data": {
      "text/plain": [
       "1095"
      ]
     },
     "execution_count": 51,
     "metadata": {},
     "output_type": "execute_result"
    }
   ],
   "source": [
    "len(train_cab.loc[train_cab['pickup_longitude']>max])"
   ]
  },
  {
   "cell_type": "code",
   "execution_count": 52,
   "metadata": {},
   "outputs": [
    {
     "data": {
      "text/plain": [
       "105     -74.035839\n",
       "649     -74.438233\n",
       "1335    -74.429332\n",
       "1494    -74.105395\n",
       "2346    -74.086412\n",
       "4291    -74.031268\n",
       "7096    -74.042958\n",
       "7635    -74.102257\n",
       "9090    -74.133710\n",
       "9775    -74.039047\n",
       "10524   -74.181602\n",
       "11964   -74.089848\n",
       "12173   -74.129877\n",
       "12934   -74.076830\n",
       "12940   -74.229138\n",
       "13736   -74.064055\n",
       "13756   -74.063010\n",
       "13836   -74.072833\n",
       "14136   -74.041883\n",
       "Name: pickup_longitude, dtype: float64"
      ]
     },
     "execution_count": 52,
     "metadata": {},
     "output_type": "execute_result"
    }
   ],
   "source": [
    "train_cab.loc[train_cab['pickup_longitude'] < min,'pickup_longitude']"
   ]
  },
  {
   "cell_type": "code",
   "execution_count": 53,
   "metadata": {},
   "outputs": [],
   "source": [
    "train_cab.loc[train_cab['pickup_longitude'] < min,'pickup_longitude']=np.nan\n",
    "train_cab.loc[train_cab['pickup_longitude'] > max,'pickup_longitude']=np.nan\n"
   ]
  },
  {
   "cell_type": "code",
   "execution_count": 54,
   "metadata": {},
   "outputs": [
    {
     "data": {
      "text/plain": [
       "Series([], Name: pickup_longitude, dtype: float64)"
      ]
     },
     "execution_count": 54,
     "metadata": {},
     "output_type": "execute_result"
    }
   ],
   "source": [
    "train_cab.loc[train_cab['pickup_longitude'] < min,'pickup_longitude']"
   ]
  },
  {
   "cell_type": "code",
   "execution_count": 55,
   "metadata": {},
   "outputs": [
    {
     "name": "stdout",
     "output_type": "stream",
     "text": [
      "Imputing row 1/16067 with 1 missing, elapsed time: 42.943\n",
      "Imputing row 101/16067 with 0 missing, elapsed time: 42.945\n",
      "Imputing row 201/16067 with 0 missing, elapsed time: 42.946\n",
      "Imputing row 301/16067 with 1 missing, elapsed time: 42.947\n",
      "Imputing row 401/16067 with 0 missing, elapsed time: 42.949\n",
      "Imputing row 501/16067 with 0 missing, elapsed time: 42.950\n",
      "Imputing row 601/16067 with 0 missing, elapsed time: 42.951\n",
      "Imputing row 701/16067 with 0 missing, elapsed time: 42.952\n",
      "Imputing row 801/16067 with 0 missing, elapsed time: 42.953\n",
      "Imputing row 901/16067 with 0 missing, elapsed time: 42.954\n",
      "Imputing row 1001/16067 with 0 missing, elapsed time: 42.956\n",
      "Imputing row 1101/16067 with 0 missing, elapsed time: 42.957\n",
      "Imputing row 1201/16067 with 0 missing, elapsed time: 42.958\n",
      "Imputing row 1301/16067 with 0 missing, elapsed time: 42.959\n",
      "Imputing row 1401/16067 with 0 missing, elapsed time: 42.961\n",
      "Imputing row 1501/16067 with 0 missing, elapsed time: 42.962\n",
      "Imputing row 1601/16067 with 0 missing, elapsed time: 42.963\n",
      "Imputing row 1701/16067 with 0 missing, elapsed time: 42.965\n",
      "Imputing row 1801/16067 with 0 missing, elapsed time: 42.966\n",
      "Imputing row 1901/16067 with 0 missing, elapsed time: 42.967\n",
      "Imputing row 2001/16067 with 0 missing, elapsed time: 42.968\n",
      "Imputing row 2101/16067 with 0 missing, elapsed time: 42.969\n",
      "Imputing row 2201/16067 with 0 missing, elapsed time: 42.970\n",
      "Imputing row 2301/16067 with 0 missing, elapsed time: 42.971\n",
      "Imputing row 2401/16067 with 0 missing, elapsed time: 42.973\n",
      "Imputing row 2501/16067 with 0 missing, elapsed time: 42.974\n",
      "Imputing row 2601/16067 with 0 missing, elapsed time: 42.975\n",
      "Imputing row 2701/16067 with 0 missing, elapsed time: 42.976\n",
      "Imputing row 2801/16067 with 0 missing, elapsed time: 42.977\n",
      "Imputing row 2901/16067 with 0 missing, elapsed time: 42.979\n",
      "Imputing row 3001/16067 with 1 missing, elapsed time: 42.980\n",
      "Imputing row 3101/16067 with 0 missing, elapsed time: 42.981\n",
      "Imputing row 3201/16067 with 0 missing, elapsed time: 42.982\n",
      "Imputing row 3301/16067 with 1 missing, elapsed time: 42.983\n",
      "Imputing row 3401/16067 with 0 missing, elapsed time: 42.985\n",
      "Imputing row 3501/16067 with 0 missing, elapsed time: 42.986\n",
      "Imputing row 3601/16067 with 0 missing, elapsed time: 42.987\n",
      "Imputing row 3701/16067 with 0 missing, elapsed time: 42.988\n",
      "Imputing row 3801/16067 with 0 missing, elapsed time: 42.989\n",
      "Imputing row 3901/16067 with 0 missing, elapsed time: 42.991\n",
      "Imputing row 4001/16067 with 0 missing, elapsed time: 42.992\n",
      "Imputing row 4101/16067 with 0 missing, elapsed time: 42.994\n",
      "Imputing row 4201/16067 with 0 missing, elapsed time: 42.995\n",
      "Imputing row 4301/16067 with 0 missing, elapsed time: 42.996\n",
      "Imputing row 4401/16067 with 0 missing, elapsed time: 42.998\n",
      "Imputing row 4501/16067 with 0 missing, elapsed time: 42.999\n",
      "Imputing row 4601/16067 with 1 missing, elapsed time: 43.001\n",
      "Imputing row 4701/16067 with 0 missing, elapsed time: 43.002\n",
      "Imputing row 4801/16067 with 0 missing, elapsed time: 43.003\n",
      "Imputing row 4901/16067 with 1 missing, elapsed time: 43.004\n",
      "Imputing row 5001/16067 with 0 missing, elapsed time: 43.006\n",
      "Imputing row 5101/16067 with 0 missing, elapsed time: 43.007\n",
      "Imputing row 5201/16067 with 0 missing, elapsed time: 43.008\n",
      "Imputing row 5301/16067 with 0 missing, elapsed time: 43.009\n",
      "Imputing row 5401/16067 with 0 missing, elapsed time: 43.010\n",
      "Imputing row 5501/16067 with 0 missing, elapsed time: 43.011\n",
      "Imputing row 5601/16067 with 0 missing, elapsed time: 43.013\n",
      "Imputing row 5701/16067 with 0 missing, elapsed time: 43.014\n",
      "Imputing row 5801/16067 with 0 missing, elapsed time: 43.015\n",
      "Imputing row 5901/16067 with 0 missing, elapsed time: 43.016\n",
      "Imputing row 6001/16067 with 0 missing, elapsed time: 43.017\n",
      "Imputing row 6101/16067 with 0 missing, elapsed time: 43.019\n",
      "Imputing row 6201/16067 with 0 missing, elapsed time: 43.020\n",
      "Imputing row 6301/16067 with 0 missing, elapsed time: 43.021\n",
      "Imputing row 6401/16067 with 0 missing, elapsed time: 43.023\n",
      "Imputing row 6501/16067 with 0 missing, elapsed time: 43.024\n",
      "Imputing row 6601/16067 with 0 missing, elapsed time: 43.025\n",
      "Imputing row 6701/16067 with 0 missing, elapsed time: 43.026\n",
      "Imputing row 6801/16067 with 0 missing, elapsed time: 43.028\n",
      "Imputing row 6901/16067 with 0 missing, elapsed time: 43.029\n",
      "Imputing row 7001/16067 with 0 missing, elapsed time: 43.029\n",
      "Imputing row 7101/16067 with 0 missing, elapsed time: 43.031\n",
      "Imputing row 7201/16067 with 0 missing, elapsed time: 43.032\n",
      "Imputing row 7301/16067 with 0 missing, elapsed time: 43.033\n",
      "Imputing row 7401/16067 with 0 missing, elapsed time: 43.034\n",
      "Imputing row 7501/16067 with 0 missing, elapsed time: 43.036\n",
      "Imputing row 7601/16067 with 0 missing, elapsed time: 43.037\n",
      "Imputing row 7701/16067 with 0 missing, elapsed time: 43.038\n",
      "Imputing row 7801/16067 with 0 missing, elapsed time: 43.040\n",
      "Imputing row 7901/16067 with 1 missing, elapsed time: 43.040\n",
      "Imputing row 8001/16067 with 0 missing, elapsed time: 43.041\n",
      "Imputing row 8101/16067 with 0 missing, elapsed time: 43.043\n",
      "Imputing row 8201/16067 with 0 missing, elapsed time: 43.044\n",
      "Imputing row 8301/16067 with 0 missing, elapsed time: 43.045\n",
      "Imputing row 8401/16067 with 0 missing, elapsed time: 43.046\n",
      "Imputing row 8501/16067 with 0 missing, elapsed time: 43.048\n",
      "Imputing row 8601/16067 with 0 missing, elapsed time: 43.049\n",
      "Imputing row 8701/16067 with 0 missing, elapsed time: 43.050\n",
      "Imputing row 8801/16067 with 0 missing, elapsed time: 43.051\n",
      "Imputing row 8901/16067 with 0 missing, elapsed time: 43.052\n",
      "Imputing row 9001/16067 with 0 missing, elapsed time: 43.053\n",
      "Imputing row 9101/16067 with 0 missing, elapsed time: 43.054\n",
      "Imputing row 9201/16067 with 0 missing, elapsed time: 43.055\n",
      "Imputing row 9301/16067 with 0 missing, elapsed time: 43.056\n",
      "Imputing row 9401/16067 with 0 missing, elapsed time: 43.057\n",
      "Imputing row 9501/16067 with 0 missing, elapsed time: 43.057\n",
      "Imputing row 9601/16067 with 1 missing, elapsed time: 43.058\n",
      "Imputing row 9701/16067 with 1 missing, elapsed time: 43.059\n",
      "Imputing row 9801/16067 with 0 missing, elapsed time: 43.061\n",
      "Imputing row 9901/16067 with 0 missing, elapsed time: 43.062\n",
      "Imputing row 10001/16067 with 0 missing, elapsed time: 43.063\n",
      "Imputing row 10101/16067 with 0 missing, elapsed time: 43.064\n",
      "Imputing row 10201/16067 with 0 missing, elapsed time: 43.065\n",
      "Imputing row 10301/16067 with 0 missing, elapsed time: 43.066\n",
      "Imputing row 10401/16067 with 0 missing, elapsed time: 43.068\n",
      "Imputing row 10501/16067 with 0 missing, elapsed time: 43.069\n",
      "Imputing row 10601/16067 with 0 missing, elapsed time: 43.070\n",
      "Imputing row 10701/16067 with 0 missing, elapsed time: 43.071\n",
      "Imputing row 10801/16067 with 0 missing, elapsed time: 43.071\n",
      "Imputing row 10901/16067 with 0 missing, elapsed time: 43.072\n",
      "Imputing row 11001/16067 with 0 missing, elapsed time: 43.073\n",
      "Imputing row 11101/16067 with 0 missing, elapsed time: 43.074\n",
      "Imputing row 11201/16067 with 0 missing, elapsed time: 43.075\n",
      "Imputing row 11301/16067 with 0 missing, elapsed time: 43.077\n",
      "Imputing row 11401/16067 with 0 missing, elapsed time: 43.077\n",
      "Imputing row 11501/16067 with 0 missing, elapsed time: 43.079\n",
      "Imputing row 11601/16067 with 0 missing, elapsed time: 43.080\n",
      "Imputing row 11701/16067 with 0 missing, elapsed time: 43.081\n",
      "Imputing row 11801/16067 with 0 missing, elapsed time: 43.081\n",
      "Imputing row 11901/16067 with 0 missing, elapsed time: 43.082\n",
      "Imputing row 12001/16067 with 0 missing, elapsed time: 43.083\n",
      "Imputing row 12101/16067 with 0 missing, elapsed time: 43.084\n",
      "Imputing row 12201/16067 with 0 missing, elapsed time: 43.085\n",
      "Imputing row 12301/16067 with 1 missing, elapsed time: 43.086\n",
      "Imputing row 12401/16067 with 0 missing, elapsed time: 43.087\n",
      "Imputing row 12501/16067 with 0 missing, elapsed time: 43.089\n",
      "Imputing row 12601/16067 with 0 missing, elapsed time: 43.089\n",
      "Imputing row 12701/16067 with 0 missing, elapsed time: 43.090\n",
      "Imputing row 12801/16067 with 0 missing, elapsed time: 43.092\n",
      "Imputing row 12901/16067 with 0 missing, elapsed time: 43.093\n",
      "Imputing row 13001/16067 with 0 missing, elapsed time: 43.095\n",
      "Imputing row 13101/16067 with 0 missing, elapsed time: 43.096\n",
      "Imputing row 13201/16067 with 0 missing, elapsed time: 43.097\n",
      "Imputing row 13301/16067 with 0 missing, elapsed time: 43.098\n",
      "Imputing row 13401/16067 with 0 missing, elapsed time: 43.099\n",
      "Imputing row 13501/16067 with 0 missing, elapsed time: 43.100\n",
      "Imputing row 13601/16067 with 0 missing, elapsed time: 43.102\n",
      "Imputing row 13701/16067 with 0 missing, elapsed time: 43.104\n",
      "Imputing row 13801/16067 with 0 missing, elapsed time: 43.105\n",
      "Imputing row 13901/16067 with 0 missing, elapsed time: 43.106\n",
      "Imputing row 14001/16067 with 0 missing, elapsed time: 43.107\n",
      "Imputing row 14101/16067 with 0 missing, elapsed time: 43.109\n",
      "Imputing row 14201/16067 with 1 missing, elapsed time: 43.110\n",
      "Imputing row 14301/16067 with 0 missing, elapsed time: 43.111\n",
      "Imputing row 14401/16067 with 0 missing, elapsed time: 43.112\n",
      "Imputing row 14501/16067 with 0 missing, elapsed time: 43.113\n",
      "Imputing row 14601/16067 with 0 missing, elapsed time: 43.115\n",
      "Imputing row 14701/16067 with 0 missing, elapsed time: 43.115\n",
      "Imputing row 14801/16067 with 1 missing, elapsed time: 43.117\n",
      "Imputing row 14901/16067 with 0 missing, elapsed time: 43.118\n",
      "Imputing row 15001/16067 with 0 missing, elapsed time: 43.118\n"
     ]
    },
    {
     "name": "stdout",
     "output_type": "stream",
     "text": [
      "Imputing row 15101/16067 with 0 missing, elapsed time: 43.121\n",
      "Imputing row 15201/16067 with 0 missing, elapsed time: 43.122\n",
      "Imputing row 15301/16067 with 0 missing, elapsed time: 43.124\n",
      "Imputing row 15401/16067 with 1 missing, elapsed time: 43.125\n",
      "Imputing row 15501/16067 with 0 missing, elapsed time: 43.126\n",
      "Imputing row 15601/16067 with 1 missing, elapsed time: 43.128\n",
      "Imputing row 15701/16067 with 0 missing, elapsed time: 43.129\n",
      "Imputing row 15801/16067 with 0 missing, elapsed time: 43.130\n",
      "Imputing row 15901/16067 with 1 missing, elapsed time: 43.131\n",
      "Imputing row 16001/16067 with 0 missing, elapsed time: 43.132\n"
     ]
    },
    {
     "data": {
      "text/plain": [
       "0"
      ]
     },
     "execution_count": 55,
     "metadata": {},
     "output_type": "execute_result"
    }
   ],
   "source": [
    "train_cab.fare_amount.isna().sum()\n",
    "df=train_cab.drop('pickup_datetime',axis=1)\n",
    "df=pd.DataFrame(KNN(k=5).fit_transform(df),columns=df.columns)\n",
    "train_cab.pickup_longitude=df.pickup_longitude\n",
    "train_cab.pickup_longitude.isna().sum()"
   ]
  },
  {
   "cell_type": "code",
   "execution_count": 56,
   "metadata": {},
   "outputs": [
    {
     "name": "stdout",
     "output_type": "stream",
     "text": [
      "-73.96801325 -73.99250075 0.024487500000006435 -74.02923200000001 -73.93128199999998\n",
      "Imputing row 1/9914 with 0 missing, elapsed time: 13.391\n",
      "Imputing row 101/9914 with 0 missing, elapsed time: 13.393\n",
      "Imputing row 201/9914 with 0 missing, elapsed time: 13.395\n",
      "Imputing row 301/9914 with 0 missing, elapsed time: 13.396\n",
      "Imputing row 401/9914 with 0 missing, elapsed time: 13.398\n",
      "Imputing row 501/9914 with 0 missing, elapsed time: 13.400\n",
      "Imputing row 601/9914 with 0 missing, elapsed time: 13.401\n",
      "Imputing row 701/9914 with 0 missing, elapsed time: 13.402\n",
      "Imputing row 801/9914 with 0 missing, elapsed time: 13.404\n",
      "Imputing row 901/9914 with 0 missing, elapsed time: 13.405\n",
      "Imputing row 1001/9914 with 0 missing, elapsed time: 13.407\n",
      "Imputing row 1101/9914 with 0 missing, elapsed time: 13.408\n",
      "Imputing row 1201/9914 with 0 missing, elapsed time: 13.410\n",
      "Imputing row 1301/9914 with 0 missing, elapsed time: 13.412\n",
      "Imputing row 1401/9914 with 0 missing, elapsed time: 13.414\n",
      "Imputing row 1501/9914 with 0 missing, elapsed time: 13.415\n",
      "Imputing row 1601/9914 with 0 missing, elapsed time: 13.417\n",
      "Imputing row 1701/9914 with 0 missing, elapsed time: 13.418\n",
      "Imputing row 1801/9914 with 0 missing, elapsed time: 13.420\n",
      "Imputing row 1901/9914 with 0 missing, elapsed time: 13.422\n",
      "Imputing row 2001/9914 with 0 missing, elapsed time: 13.423\n",
      "Imputing row 2101/9914 with 0 missing, elapsed time: 13.425\n",
      "Imputing row 2201/9914 with 0 missing, elapsed time: 13.427\n",
      "Imputing row 2301/9914 with 0 missing, elapsed time: 13.429\n",
      "Imputing row 2401/9914 with 0 missing, elapsed time: 13.431\n",
      "Imputing row 2501/9914 with 0 missing, elapsed time: 13.434\n",
      "Imputing row 2601/9914 with 1 missing, elapsed time: 13.435\n",
      "Imputing row 2701/9914 with 0 missing, elapsed time: 13.437\n",
      "Imputing row 2801/9914 with 0 missing, elapsed time: 13.439\n",
      "Imputing row 2901/9914 with 0 missing, elapsed time: 13.441\n",
      "Imputing row 3001/9914 with 0 missing, elapsed time: 13.442\n",
      "Imputing row 3101/9914 with 0 missing, elapsed time: 13.444\n",
      "Imputing row 3201/9914 with 0 missing, elapsed time: 13.446\n",
      "Imputing row 3301/9914 with 0 missing, elapsed time: 13.447\n",
      "Imputing row 3401/9914 with 0 missing, elapsed time: 13.448\n",
      "Imputing row 3501/9914 with 0 missing, elapsed time: 13.449\n",
      "Imputing row 3601/9914 with 1 missing, elapsed time: 13.451\n",
      "Imputing row 3701/9914 with 0 missing, elapsed time: 13.452\n",
      "Imputing row 3801/9914 with 0 missing, elapsed time: 13.453\n",
      "Imputing row 3901/9914 with 0 missing, elapsed time: 13.454\n",
      "Imputing row 4001/9914 with 0 missing, elapsed time: 13.455\n",
      "Imputing row 4101/9914 with 0 missing, elapsed time: 13.456\n",
      "Imputing row 4201/9914 with 0 missing, elapsed time: 13.458\n",
      "Imputing row 4301/9914 with 0 missing, elapsed time: 13.459\n",
      "Imputing row 4401/9914 with 0 missing, elapsed time: 13.460\n",
      "Imputing row 4501/9914 with 0 missing, elapsed time: 13.462\n",
      "Imputing row 4601/9914 with 0 missing, elapsed time: 13.463\n",
      "Imputing row 4701/9914 with 0 missing, elapsed time: 13.463\n",
      "Imputing row 4801/9914 with 0 missing, elapsed time: 13.464\n",
      "Imputing row 4901/9914 with 0 missing, elapsed time: 13.465\n",
      "Imputing row 5001/9914 with 0 missing, elapsed time: 13.466\n",
      "Imputing row 5101/9914 with 0 missing, elapsed time: 13.467\n",
      "Imputing row 5201/9914 with 0 missing, elapsed time: 13.468\n",
      "Imputing row 5301/9914 with 0 missing, elapsed time: 13.469\n",
      "Imputing row 5401/9914 with 0 missing, elapsed time: 13.470\n",
      "Imputing row 5501/9914 with 1 missing, elapsed time: 13.471\n",
      "Imputing row 5601/9914 with 0 missing, elapsed time: 13.473\n",
      "Imputing row 5701/9914 with 0 missing, elapsed time: 13.473\n",
      "Imputing row 5801/9914 with 0 missing, elapsed time: 13.474\n",
      "Imputing row 5901/9914 with 1 missing, elapsed time: 13.477\n",
      "Imputing row 6001/9914 with 0 missing, elapsed time: 13.480\n",
      "Imputing row 6101/9914 with 0 missing, elapsed time: 13.481\n",
      "Imputing row 6201/9914 with 0 missing, elapsed time: 13.482\n",
      "Imputing row 6301/9914 with 0 missing, elapsed time: 13.485\n",
      "Imputing row 6401/9914 with 0 missing, elapsed time: 13.487\n",
      "Imputing row 6501/9914 with 0 missing, elapsed time: 13.488\n",
      "Imputing row 6601/9914 with 0 missing, elapsed time: 13.490\n",
      "Imputing row 6701/9914 with 0 missing, elapsed time: 13.490\n",
      "Imputing row 6801/9914 with 0 missing, elapsed time: 13.491\n",
      "Imputing row 6901/9914 with 0 missing, elapsed time: 13.492\n",
      "Imputing row 7001/9914 with 1 missing, elapsed time: 13.493\n",
      "Imputing row 7101/9914 with 0 missing, elapsed time: 13.494\n",
      "Imputing row 7201/9914 with 0 missing, elapsed time: 13.495\n",
      "Imputing row 7301/9914 with 0 missing, elapsed time: 13.497\n",
      "Imputing row 7401/9914 with 0 missing, elapsed time: 13.498\n",
      "Imputing row 7501/9914 with 0 missing, elapsed time: 13.499\n",
      "Imputing row 7601/9914 with 0 missing, elapsed time: 13.500\n",
      "Imputing row 7701/9914 with 0 missing, elapsed time: 13.501\n",
      "Imputing row 7801/9914 with 0 missing, elapsed time: 13.502\n",
      "Imputing row 7901/9914 with 0 missing, elapsed time: 13.502\n",
      "Imputing row 8001/9914 with 0 missing, elapsed time: 13.503\n",
      "Imputing row 8101/9914 with 0 missing, elapsed time: 13.504\n",
      "Imputing row 8201/9914 with 0 missing, elapsed time: 13.505\n",
      "Imputing row 8301/9914 with 0 missing, elapsed time: 13.506\n",
      "Imputing row 8401/9914 with 0 missing, elapsed time: 13.507\n",
      "Imputing row 8501/9914 with 0 missing, elapsed time: 13.508\n",
      "Imputing row 8601/9914 with 0 missing, elapsed time: 13.509\n",
      "Imputing row 8701/9914 with 0 missing, elapsed time: 13.511\n",
      "Imputing row 8801/9914 with 0 missing, elapsed time: 13.512\n",
      "Imputing row 8901/9914 with 0 missing, elapsed time: 13.514\n",
      "Imputing row 9001/9914 with 0 missing, elapsed time: 13.517\n",
      "Imputing row 9101/9914 with 0 missing, elapsed time: 13.519\n",
      "Imputing row 9201/9914 with 0 missing, elapsed time: 13.520\n",
      "Imputing row 9301/9914 with 0 missing, elapsed time: 13.522\n",
      "Imputing row 9401/9914 with 0 missing, elapsed time: 13.523\n",
      "Imputing row 9501/9914 with 0 missing, elapsed time: 13.524\n",
      "Imputing row 9601/9914 with 1 missing, elapsed time: 13.525\n",
      "Imputing row 9701/9914 with 0 missing, elapsed time: 13.526\n",
      "Imputing row 9801/9914 with 0 missing, elapsed time: 13.526\n",
      "Imputing row 9901/9914 with 0 missing, elapsed time: 13.527\n"
     ]
    },
    {
     "data": {
      "text/plain": [
       "0"
      ]
     },
     "execution_count": 56,
     "metadata": {},
     "output_type": "execute_result"
    }
   ],
   "source": [
    "#outlier analysis for test data  for pickup_longitude column\n",
    "q75=np.percentile(test_cab.pickup_longitude,75)\n",
    "q25=np.percentile(test_cab.pickup_longitude,25)\n",
    "iqr=q75-q25\n",
    "min=q25-(iqr*1.5)\n",
    "max=q75+(iqr*1.5)\n",
    "print(q75,q25,iqr,min,max)\n",
    "\n",
    "test_cab.loc[test_cab['pickup_longitude'] < min,'pickup_longitude']=np.nan\n",
    "test_cab.loc[test_cab['pickup_longitude'] > max,'pickup_longitude']=np.nan\n",
    "\n",
    "test_cab.pickup_longitude.isna().sum()\n",
    "df=test_cab.drop('pickup_datetime',axis=1)\n",
    "df=pd.DataFrame(KNN(k=5).fit_transform(df),columns=df.columns)\n",
    "test_cab.pickup_longitude=df.pickup_longitude\n",
    "test_cab.pickup_longitude.isna().sum()\n"
   ]
  },
  {
   "cell_type": "code",
   "execution_count": 57,
   "metadata": {},
   "outputs": [
    {
     "name": "stdout",
     "output_type": "stream",
     "text": [
      "40.76711275 40.73612525 0.030987500000001944 40.689644 40.81359400000001\n",
      "Imputing row 1/9914 with 0 missing, elapsed time: 14.684\n",
      "Imputing row 101/9914 with 0 missing, elapsed time: 14.684\n",
      "Imputing row 201/9914 with 0 missing, elapsed time: 14.685\n",
      "Imputing row 301/9914 with 0 missing, elapsed time: 14.686\n",
      "Imputing row 401/9914 with 0 missing, elapsed time: 14.687\n",
      "Imputing row 501/9914 with 0 missing, elapsed time: 14.687\n",
      "Imputing row 601/9914 with 0 missing, elapsed time: 14.688\n",
      "Imputing row 701/9914 with 0 missing, elapsed time: 14.689\n",
      "Imputing row 801/9914 with 0 missing, elapsed time: 14.689\n",
      "Imputing row 901/9914 with 0 missing, elapsed time: 14.690\n",
      "Imputing row 1001/9914 with 0 missing, elapsed time: 14.691\n",
      "Imputing row 1101/9914 with 0 missing, elapsed time: 14.692\n",
      "Imputing row 1201/9914 with 0 missing, elapsed time: 14.692\n",
      "Imputing row 1301/9914 with 0 missing, elapsed time: 14.693\n",
      "Imputing row 1401/9914 with 0 missing, elapsed time: 14.694\n",
      "Imputing row 1501/9914 with 0 missing, elapsed time: 14.695\n",
      "Imputing row 1601/9914 with 0 missing, elapsed time: 14.696\n",
      "Imputing row 1701/9914 with 0 missing, elapsed time: 14.696\n",
      "Imputing row 1801/9914 with 0 missing, elapsed time: 14.696\n",
      "Imputing row 1901/9914 with 0 missing, elapsed time: 14.697\n",
      "Imputing row 2001/9914 with 0 missing, elapsed time: 14.698\n",
      "Imputing row 2101/9914 with 0 missing, elapsed time: 14.699\n",
      "Imputing row 2201/9914 with 0 missing, elapsed time: 14.700\n",
      "Imputing row 2301/9914 with 0 missing, elapsed time: 14.701\n",
      "Imputing row 2401/9914 with 0 missing, elapsed time: 14.701\n",
      "Imputing row 2501/9914 with 0 missing, elapsed time: 14.702\n",
      "Imputing row 2601/9914 with 0 missing, elapsed time: 14.703\n",
      "Imputing row 2701/9914 with 0 missing, elapsed time: 14.703\n",
      "Imputing row 2801/9914 with 0 missing, elapsed time: 14.704\n",
      "Imputing row 2901/9914 with 0 missing, elapsed time: 14.705\n",
      "Imputing row 3001/9914 with 0 missing, elapsed time: 14.706\n",
      "Imputing row 3101/9914 with 0 missing, elapsed time: 14.706\n",
      "Imputing row 3201/9914 with 1 missing, elapsed time: 14.707\n",
      "Imputing row 3301/9914 with 0 missing, elapsed time: 14.708\n",
      "Imputing row 3401/9914 with 0 missing, elapsed time: 14.708\n",
      "Imputing row 3501/9914 with 0 missing, elapsed time: 14.709\n",
      "Imputing row 3601/9914 with 1 missing, elapsed time: 14.710\n",
      "Imputing row 3701/9914 with 0 missing, elapsed time: 14.710\n",
      "Imputing row 3801/9914 with 0 missing, elapsed time: 14.711\n",
      "Imputing row 3901/9914 with 0 missing, elapsed time: 14.712\n",
      "Imputing row 4001/9914 with 0 missing, elapsed time: 14.712\n",
      "Imputing row 4101/9914 with 0 missing, elapsed time: 14.713\n",
      "Imputing row 4201/9914 with 0 missing, elapsed time: 14.714\n",
      "Imputing row 4301/9914 with 0 missing, elapsed time: 14.714\n",
      "Imputing row 4401/9914 with 0 missing, elapsed time: 14.715\n",
      "Imputing row 4501/9914 with 0 missing, elapsed time: 14.716\n",
      "Imputing row 4601/9914 with 0 missing, elapsed time: 14.716\n",
      "Imputing row 4701/9914 with 0 missing, elapsed time: 14.717\n",
      "Imputing row 4801/9914 with 0 missing, elapsed time: 14.717\n",
      "Imputing row 4901/9914 with 1 missing, elapsed time: 14.718\n",
      "Imputing row 5001/9914 with 0 missing, elapsed time: 14.719\n",
      "Imputing row 5101/9914 with 0 missing, elapsed time: 14.719\n",
      "Imputing row 5201/9914 with 0 missing, elapsed time: 14.720\n",
      "Imputing row 5301/9914 with 0 missing, elapsed time: 14.721\n",
      "Imputing row 5401/9914 with 0 missing, elapsed time: 14.722\n",
      "Imputing row 5501/9914 with 0 missing, elapsed time: 14.723\n",
      "Imputing row 5601/9914 with 0 missing, elapsed time: 14.724\n",
      "Imputing row 5701/9914 with 0 missing, elapsed time: 14.725\n",
      "Imputing row 5801/9914 with 0 missing, elapsed time: 14.726\n",
      "Imputing row 5901/9914 with 1 missing, elapsed time: 14.727\n",
      "Imputing row 6001/9914 with 0 missing, elapsed time: 14.728\n",
      "Imputing row 6101/9914 with 0 missing, elapsed time: 14.729\n",
      "Imputing row 6201/9914 with 0 missing, elapsed time: 14.729\n",
      "Imputing row 6301/9914 with 0 missing, elapsed time: 14.730\n",
      "Imputing row 6401/9914 with 0 missing, elapsed time: 14.731\n",
      "Imputing row 6501/9914 with 0 missing, elapsed time: 14.731\n",
      "Imputing row 6601/9914 with 0 missing, elapsed time: 14.732\n",
      "Imputing row 6701/9914 with 0 missing, elapsed time: 14.732\n",
      "Imputing row 6801/9914 with 0 missing, elapsed time: 14.733\n",
      "Imputing row 6901/9914 with 0 missing, elapsed time: 14.733\n",
      "Imputing row 7001/9914 with 1 missing, elapsed time: 14.734\n",
      "Imputing row 7101/9914 with 0 missing, elapsed time: 14.734\n",
      "Imputing row 7201/9914 with 0 missing, elapsed time: 14.735\n",
      "Imputing row 7301/9914 with 0 missing, elapsed time: 14.735\n",
      "Imputing row 7401/9914 with 0 missing, elapsed time: 14.736\n",
      "Imputing row 7501/9914 with 0 missing, elapsed time: 14.737\n",
      "Imputing row 7601/9914 with 0 missing, elapsed time: 14.738\n",
      "Imputing row 7701/9914 with 0 missing, elapsed time: 14.738\n",
      "Imputing row 7801/9914 with 0 missing, elapsed time: 14.738\n",
      "Imputing row 7901/9914 with 0 missing, elapsed time: 14.739\n",
      "Imputing row 8001/9914 with 0 missing, elapsed time: 14.740\n",
      "Imputing row 8101/9914 with 0 missing, elapsed time: 14.740\n",
      "Imputing row 8201/9914 with 0 missing, elapsed time: 14.741\n",
      "Imputing row 8301/9914 with 0 missing, elapsed time: 14.742\n",
      "Imputing row 8401/9914 with 0 missing, elapsed time: 14.743\n",
      "Imputing row 8501/9914 with 0 missing, elapsed time: 14.744\n",
      "Imputing row 8601/9914 with 0 missing, elapsed time: 14.744\n",
      "Imputing row 8701/9914 with 0 missing, elapsed time: 14.745\n",
      "Imputing row 8801/9914 with 0 missing, elapsed time: 14.746\n",
      "Imputing row 8901/9914 with 0 missing, elapsed time: 14.746\n",
      "Imputing row 9001/9914 with 0 missing, elapsed time: 14.747\n",
      "Imputing row 9101/9914 with 0 missing, elapsed time: 14.748\n",
      "Imputing row 9201/9914 with 0 missing, elapsed time: 14.748\n",
      "Imputing row 9301/9914 with 0 missing, elapsed time: 14.749\n",
      "Imputing row 9401/9914 with 0 missing, elapsed time: 14.750\n",
      "Imputing row 9501/9914 with 0 missing, elapsed time: 14.750\n",
      "Imputing row 9601/9914 with 0 missing, elapsed time: 14.751\n",
      "Imputing row 9701/9914 with 0 missing, elapsed time: 14.752\n",
      "Imputing row 9801/9914 with 0 missing, elapsed time: 14.752\n",
      "Imputing row 9901/9914 with 0 missing, elapsed time: 14.753\n"
     ]
    },
    {
     "data": {
      "text/plain": [
       "0"
      ]
     },
     "execution_count": 57,
     "metadata": {},
     "output_type": "execute_result"
    }
   ],
   "source": [
    "#outlier analysis for test data  for pickup_latitude column\n",
    "q75=np.percentile(test_cab.pickup_latitude,75)\n",
    "q25=np.percentile(test_cab.pickup_latitude,25)\n",
    "iqr=q75-q25\n",
    "min=q25-(iqr*1.5)\n",
    "max=q75+(iqr*1.5)\n",
    "print(q75,q25,iqr,min,max)\n",
    "\n",
    "test_cab.loc[test_cab['pickup_latitude'] < min,'pickup_latitude']=np.nan\n",
    "test_cab.loc[test_cab['pickup_latitude'] > max,'pickup_latitude']=np.nan\n",
    "\n",
    "test_cab.pickup_latitude.isna().sum()\n",
    "df=test_cab.drop('pickup_datetime',axis=1)\n",
    "df=pd.DataFrame(KNN(k=5).fit_transform(df),columns=df.columns)\n",
    "test_cab.pickup_latitude=df.pickup_latitude\n",
    "test_cab.pickup_latitude.isna().sum()\n"
   ]
  },
  {
   "cell_type": "code",
   "execution_count": 58,
   "metadata": {},
   "outputs": [
    {
     "name": "stdout",
     "output_type": "stream",
     "text": [
      "-73.96405924999999 -73.99124675 0.0271875000000108 -74.03202800000003 -73.92327799999998\n",
      "Imputing row 1/9914 with 0 missing, elapsed time: 13.112\n",
      "Imputing row 101/9914 with 0 missing, elapsed time: 13.112\n",
      "Imputing row 201/9914 with 0 missing, elapsed time: 13.113\n",
      "Imputing row 301/9914 with 0 missing, elapsed time: 13.114\n",
      "Imputing row 401/9914 with 0 missing, elapsed time: 13.115\n",
      "Imputing row 501/9914 with 0 missing, elapsed time: 13.116\n",
      "Imputing row 601/9914 with 0 missing, elapsed time: 13.117\n",
      "Imputing row 701/9914 with 0 missing, elapsed time: 13.118\n",
      "Imputing row 801/9914 with 0 missing, elapsed time: 13.118\n",
      "Imputing row 901/9914 with 0 missing, elapsed time: 13.119\n",
      "Imputing row 1001/9914 with 0 missing, elapsed time: 13.120\n",
      "Imputing row 1101/9914 with 0 missing, elapsed time: 13.121\n",
      "Imputing row 1201/9914 with 0 missing, elapsed time: 13.122\n",
      "Imputing row 1301/9914 with 0 missing, elapsed time: 13.123\n",
      "Imputing row 1401/9914 with 0 missing, elapsed time: 13.124\n",
      "Imputing row 1501/9914 with 0 missing, elapsed time: 13.125\n",
      "Imputing row 1601/9914 with 0 missing, elapsed time: 13.126\n",
      "Imputing row 1701/9914 with 0 missing, elapsed time: 13.126\n",
      "Imputing row 1801/9914 with 0 missing, elapsed time: 13.127\n",
      "Imputing row 1901/9914 with 0 missing, elapsed time: 13.129\n",
      "Imputing row 2001/9914 with 0 missing, elapsed time: 13.130\n",
      "Imputing row 2101/9914 with 1 missing, elapsed time: 13.131\n",
      "Imputing row 2201/9914 with 0 missing, elapsed time: 13.131\n",
      "Imputing row 2301/9914 with 0 missing, elapsed time: 13.132\n",
      "Imputing row 2401/9914 with 0 missing, elapsed time: 13.133\n",
      "Imputing row 2501/9914 with 0 missing, elapsed time: 13.134\n",
      "Imputing row 2601/9914 with 0 missing, elapsed time: 13.134\n",
      "Imputing row 2701/9914 with 0 missing, elapsed time: 13.135\n",
      "Imputing row 2801/9914 with 0 missing, elapsed time: 13.136\n",
      "Imputing row 2901/9914 with 0 missing, elapsed time: 13.137\n",
      "Imputing row 3001/9914 with 0 missing, elapsed time: 13.138\n",
      "Imputing row 3101/9914 with 0 missing, elapsed time: 13.139\n",
      "Imputing row 3201/9914 with 0 missing, elapsed time: 13.140\n",
      "Imputing row 3301/9914 with 0 missing, elapsed time: 13.140\n",
      "Imputing row 3401/9914 with 0 missing, elapsed time: 13.141\n",
      "Imputing row 3501/9914 with 0 missing, elapsed time: 13.142\n",
      "Imputing row 3601/9914 with 0 missing, elapsed time: 13.143\n",
      "Imputing row 3701/9914 with 0 missing, elapsed time: 13.144\n",
      "Imputing row 3801/9914 with 0 missing, elapsed time: 13.145\n",
      "Imputing row 3901/9914 with 0 missing, elapsed time: 13.145\n",
      "Imputing row 4001/9914 with 0 missing, elapsed time: 13.146\n",
      "Imputing row 4101/9914 with 0 missing, elapsed time: 13.147\n",
      "Imputing row 4201/9914 with 0 missing, elapsed time: 13.148\n",
      "Imputing row 4301/9914 with 0 missing, elapsed time: 13.148\n",
      "Imputing row 4401/9914 with 0 missing, elapsed time: 13.149\n",
      "Imputing row 4501/9914 with 0 missing, elapsed time: 13.150\n",
      "Imputing row 4601/9914 with 0 missing, elapsed time: 13.151\n",
      "Imputing row 4701/9914 with 0 missing, elapsed time: 13.152\n",
      "Imputing row 4801/9914 with 0 missing, elapsed time: 13.153\n",
      "Imputing row 4901/9914 with 0 missing, elapsed time: 13.154\n",
      "Imputing row 5001/9914 with 0 missing, elapsed time: 13.154\n",
      "Imputing row 5101/9914 with 0 missing, elapsed time: 13.155\n",
      "Imputing row 5201/9914 with 0 missing, elapsed time: 13.156\n",
      "Imputing row 5301/9914 with 0 missing, elapsed time: 13.157\n",
      "Imputing row 5401/9914 with 0 missing, elapsed time: 13.158\n",
      "Imputing row 5501/9914 with 0 missing, elapsed time: 13.159\n",
      "Imputing row 5601/9914 with 1 missing, elapsed time: 13.160\n",
      "Imputing row 5701/9914 with 0 missing, elapsed time: 13.160\n",
      "Imputing row 5801/9914 with 1 missing, elapsed time: 13.161\n",
      "Imputing row 5901/9914 with 1 missing, elapsed time: 13.162\n",
      "Imputing row 6001/9914 with 0 missing, elapsed time: 13.163\n",
      "Imputing row 6101/9914 with 1 missing, elapsed time: 13.164\n",
      "Imputing row 6201/9914 with 0 missing, elapsed time: 13.165\n",
      "Imputing row 6301/9914 with 0 missing, elapsed time: 13.166\n",
      "Imputing row 6401/9914 with 0 missing, elapsed time: 13.166\n",
      "Imputing row 6501/9914 with 0 missing, elapsed time: 13.167\n",
      "Imputing row 6601/9914 with 0 missing, elapsed time: 13.168\n",
      "Imputing row 6701/9914 with 0 missing, elapsed time: 13.168\n",
      "Imputing row 6801/9914 with 0 missing, elapsed time: 13.169\n",
      "Imputing row 6901/9914 with 0 missing, elapsed time: 13.170\n",
      "Imputing row 7001/9914 with 0 missing, elapsed time: 13.171\n",
      "Imputing row 7101/9914 with 0 missing, elapsed time: 13.172\n",
      "Imputing row 7201/9914 with 0 missing, elapsed time: 13.173\n",
      "Imputing row 7301/9914 with 0 missing, elapsed time: 13.174\n",
      "Imputing row 7401/9914 with 0 missing, elapsed time: 13.175\n",
      "Imputing row 7501/9914 with 0 missing, elapsed time: 13.175\n",
      "Imputing row 7601/9914 with 0 missing, elapsed time: 13.176\n",
      "Imputing row 7701/9914 with 1 missing, elapsed time: 13.177\n",
      "Imputing row 7801/9914 with 0 missing, elapsed time: 13.178\n",
      "Imputing row 7901/9914 with 0 missing, elapsed time: 13.179\n",
      "Imputing row 8001/9914 with 0 missing, elapsed time: 13.180\n",
      "Imputing row 8101/9914 with 0 missing, elapsed time: 13.180\n",
      "Imputing row 8201/9914 with 0 missing, elapsed time: 13.181\n",
      "Imputing row 8301/9914 with 0 missing, elapsed time: 13.182\n",
      "Imputing row 8401/9914 with 0 missing, elapsed time: 13.183\n",
      "Imputing row 8501/9914 with 0 missing, elapsed time: 13.184\n",
      "Imputing row 8601/9914 with 0 missing, elapsed time: 13.184\n",
      "Imputing row 8701/9914 with 0 missing, elapsed time: 13.185\n",
      "Imputing row 8801/9914 with 0 missing, elapsed time: 13.186\n",
      "Imputing row 8901/9914 with 0 missing, elapsed time: 13.186\n",
      "Imputing row 9001/9914 with 0 missing, elapsed time: 13.187\n",
      "Imputing row 9101/9914 with 1 missing, elapsed time: 13.188\n",
      "Imputing row 9201/9914 with 0 missing, elapsed time: 13.190\n",
      "Imputing row 9301/9914 with 0 missing, elapsed time: 13.191\n",
      "Imputing row 9401/9914 with 0 missing, elapsed time: 13.191\n",
      "Imputing row 9501/9914 with 0 missing, elapsed time: 13.191\n",
      "Imputing row 9601/9914 with 0 missing, elapsed time: 13.192\n",
      "Imputing row 9701/9914 with 1 missing, elapsed time: 13.193\n",
      "Imputing row 9801/9914 with 0 missing, elapsed time: 13.195\n",
      "Imputing row 9901/9914 with 0 missing, elapsed time: 13.196\n"
     ]
    },
    {
     "data": {
      "text/plain": [
       "0"
      ]
     },
     "execution_count": 58,
     "metadata": {},
     "output_type": "execute_result"
    }
   ],
   "source": [
    "#outlier analysis for test data  for dropoff_longitude column\n",
    "q75=np.percentile(test_cab.dropoff_longitude,75)\n",
    "q25=np.percentile(test_cab.dropoff_longitude,25)\n",
    "iqr=q75-q25\n",
    "min=q25-(iqr*1.5)\n",
    "max=q75+(iqr*1.5)\n",
    "print(q75,q25,iqr,min,max)\n",
    "\n",
    "test_cab.loc[test_cab['dropoff_longitude'] < min,'dropoff_longitude']=np.nan\n",
    "test_cab.loc[test_cab['dropoff_longitude'] > max,'dropoff_longitude']=np.nan\n",
    "\n",
    "test_cab.dropoff_longitude.isna().sum()\n",
    "df=test_cab.drop('pickup_datetime',axis=1)\n",
    "df=pd.DataFrame(KNN(k=5).fit_transform(df),columns=df.columns)\n",
    "test_cab.dropoff_longitude=df.dropoff_longitude\n",
    "test_cab.dropoff_longitude.isna().sum()\n"
   ]
  },
  {
   "cell_type": "code",
   "execution_count": 59,
   "metadata": {},
   "outputs": [
    {
     "name": "stdout",
     "output_type": "stream",
     "text": [
      "40.76875725 40.735254499999996 0.0335027500000038 40.68500037499999 40.819011375\n",
      "Imputing row 1/9914 with 0 missing, elapsed time: 13.109\n",
      "Imputing row 101/9914 with 0 missing, elapsed time: 13.110\n",
      "Imputing row 201/9914 with 0 missing, elapsed time: 13.111\n",
      "Imputing row 301/9914 with 0 missing, elapsed time: 13.112\n",
      "Imputing row 401/9914 with 0 missing, elapsed time: 13.112\n",
      "Imputing row 501/9914 with 0 missing, elapsed time: 13.113\n",
      "Imputing row 601/9914 with 0 missing, elapsed time: 13.114\n",
      "Imputing row 701/9914 with 0 missing, elapsed time: 13.115\n",
      "Imputing row 801/9914 with 0 missing, elapsed time: 13.116\n",
      "Imputing row 901/9914 with 0 missing, elapsed time: 13.116\n",
      "Imputing row 1001/9914 with 0 missing, elapsed time: 13.117\n",
      "Imputing row 1101/9914 with 0 missing, elapsed time: 13.118\n",
      "Imputing row 1201/9914 with 0 missing, elapsed time: 13.119\n",
      "Imputing row 1301/9914 with 0 missing, elapsed time: 13.120\n",
      "Imputing row 1401/9914 with 0 missing, elapsed time: 13.120\n",
      "Imputing row 1501/9914 with 0 missing, elapsed time: 13.121\n",
      "Imputing row 1601/9914 with 0 missing, elapsed time: 13.122\n",
      "Imputing row 1701/9914 with 0 missing, elapsed time: 13.123\n",
      "Imputing row 1801/9914 with 0 missing, elapsed time: 13.124\n",
      "Imputing row 1901/9914 with 0 missing, elapsed time: 13.125\n",
      "Imputing row 2001/9914 with 0 missing, elapsed time: 13.126\n",
      "Imputing row 2101/9914 with 0 missing, elapsed time: 13.127\n",
      "Imputing row 2201/9914 with 0 missing, elapsed time: 13.128\n",
      "Imputing row 2301/9914 with 0 missing, elapsed time: 13.128\n",
      "Imputing row 2401/9914 with 0 missing, elapsed time: 13.129\n",
      "Imputing row 2501/9914 with 0 missing, elapsed time: 13.130\n",
      "Imputing row 2601/9914 with 0 missing, elapsed time: 13.131\n",
      "Imputing row 2701/9914 with 0 missing, elapsed time: 13.132\n",
      "Imputing row 2801/9914 with 0 missing, elapsed time: 13.132\n",
      "Imputing row 2901/9914 with 0 missing, elapsed time: 13.133\n",
      "Imputing row 3001/9914 with 0 missing, elapsed time: 13.134\n",
      "Imputing row 3101/9914 with 0 missing, elapsed time: 13.134\n",
      "Imputing row 3201/9914 with 0 missing, elapsed time: 13.135\n",
      "Imputing row 3301/9914 with 0 missing, elapsed time: 13.136\n",
      "Imputing row 3401/9914 with 0 missing, elapsed time: 13.137\n",
      "Imputing row 3501/9914 with 0 missing, elapsed time: 13.138\n",
      "Imputing row 3601/9914 with 0 missing, elapsed time: 13.139\n",
      "Imputing row 3701/9914 with 0 missing, elapsed time: 13.139\n",
      "Imputing row 3801/9914 with 0 missing, elapsed time: 13.140\n",
      "Imputing row 3901/9914 with 0 missing, elapsed time: 13.141\n",
      "Imputing row 4001/9914 with 0 missing, elapsed time: 13.142\n",
      "Imputing row 4101/9914 with 0 missing, elapsed time: 13.142\n",
      "Imputing row 4201/9914 with 0 missing, elapsed time: 13.143\n",
      "Imputing row 4301/9914 with 0 missing, elapsed time: 13.144\n",
      "Imputing row 4401/9914 with 0 missing, elapsed time: 13.144\n",
      "Imputing row 4501/9914 with 0 missing, elapsed time: 13.145\n",
      "Imputing row 4601/9914 with 0 missing, elapsed time: 13.145\n",
      "Imputing row 4701/9914 with 0 missing, elapsed time: 13.146\n",
      "Imputing row 4801/9914 with 0 missing, elapsed time: 13.147\n",
      "Imputing row 4901/9914 with 0 missing, elapsed time: 13.148\n",
      "Imputing row 5001/9914 with 0 missing, elapsed time: 13.149\n",
      "Imputing row 5101/9914 with 0 missing, elapsed time: 13.149\n",
      "Imputing row 5201/9914 with 0 missing, elapsed time: 13.150\n",
      "Imputing row 5301/9914 with 0 missing, elapsed time: 13.151\n",
      "Imputing row 5401/9914 with 0 missing, elapsed time: 13.151\n",
      "Imputing row 5501/9914 with 0 missing, elapsed time: 13.152\n",
      "Imputing row 5601/9914 with 1 missing, elapsed time: 13.153\n",
      "Imputing row 5701/9914 with 0 missing, elapsed time: 13.154\n",
      "Imputing row 5801/9914 with 0 missing, elapsed time: 13.154\n",
      "Imputing row 5901/9914 with 1 missing, elapsed time: 13.155\n",
      "Imputing row 6001/9914 with 0 missing, elapsed time: 13.156\n",
      "Imputing row 6101/9914 with 0 missing, elapsed time: 13.156\n",
      "Imputing row 6201/9914 with 0 missing, elapsed time: 13.157\n",
      "Imputing row 6301/9914 with 0 missing, elapsed time: 13.158\n",
      "Imputing row 6401/9914 with 0 missing, elapsed time: 13.159\n",
      "Imputing row 6501/9914 with 0 missing, elapsed time: 13.160\n",
      "Imputing row 6601/9914 with 0 missing, elapsed time: 13.161\n",
      "Imputing row 6701/9914 with 0 missing, elapsed time: 13.161\n",
      "Imputing row 6801/9914 with 0 missing, elapsed time: 13.162\n",
      "Imputing row 6901/9914 with 0 missing, elapsed time: 13.163\n",
      "Imputing row 7001/9914 with 0 missing, elapsed time: 13.164\n",
      "Imputing row 7101/9914 with 0 missing, elapsed time: 13.164\n",
      "Imputing row 7201/9914 with 0 missing, elapsed time: 13.165\n",
      "Imputing row 7301/9914 with 0 missing, elapsed time: 13.166\n",
      "Imputing row 7401/9914 with 0 missing, elapsed time: 13.167\n",
      "Imputing row 7501/9914 with 0 missing, elapsed time: 13.168\n",
      "Imputing row 7601/9914 with 0 missing, elapsed time: 13.168\n",
      "Imputing row 7701/9914 with 0 missing, elapsed time: 13.169\n",
      "Imputing row 7801/9914 with 0 missing, elapsed time: 13.170\n",
      "Imputing row 7901/9914 with 0 missing, elapsed time: 13.171\n",
      "Imputing row 8001/9914 with 0 missing, elapsed time: 13.171\n",
      "Imputing row 8101/9914 with 0 missing, elapsed time: 13.172\n",
      "Imputing row 8201/9914 with 0 missing, elapsed time: 13.173\n",
      "Imputing row 8301/9914 with 0 missing, elapsed time: 13.174\n",
      "Imputing row 8401/9914 with 0 missing, elapsed time: 13.175\n",
      "Imputing row 8501/9914 with 0 missing, elapsed time: 13.176\n",
      "Imputing row 8601/9914 with 0 missing, elapsed time: 13.176\n",
      "Imputing row 8701/9914 with 0 missing, elapsed time: 13.177\n",
      "Imputing row 8801/9914 with 0 missing, elapsed time: 13.177\n",
      "Imputing row 8901/9914 with 0 missing, elapsed time: 13.178\n",
      "Imputing row 9001/9914 with 0 missing, elapsed time: 13.179\n",
      "Imputing row 9101/9914 with 0 missing, elapsed time: 13.180\n",
      "Imputing row 9201/9914 with 0 missing, elapsed time: 13.180\n",
      "Imputing row 9301/9914 with 0 missing, elapsed time: 13.182\n",
      "Imputing row 9401/9914 with 0 missing, elapsed time: 13.182\n",
      "Imputing row 9501/9914 with 0 missing, elapsed time: 13.183\n",
      "Imputing row 9601/9914 with 0 missing, elapsed time: 13.184\n",
      "Imputing row 9701/9914 with 1 missing, elapsed time: 13.185\n",
      "Imputing row 9801/9914 with 0 missing, elapsed time: 13.186\n",
      "Imputing row 9901/9914 with 0 missing, elapsed time: 13.186\n"
     ]
    },
    {
     "data": {
      "text/plain": [
       "0"
      ]
     },
     "execution_count": 59,
     "metadata": {},
     "output_type": "execute_result"
    }
   ],
   "source": [
    "#outlier analysis for test data  for dropoff_latitude column\n",
    "q75=np.percentile(test_cab.dropoff_latitude,75)\n",
    "q25=np.percentile(test_cab.dropoff_latitude,25)\n",
    "iqr=q75-q25\n",
    "min=q25-(iqr*1.5)\n",
    "max=q75+(iqr*1.5)\n",
    "print(q75,q25,iqr,min,max)\n",
    "\n",
    "test_cab.loc[test_cab['dropoff_latitude'] < min,'dropoff_latitude']=np.nan\n",
    "test_cab.loc[test_cab['dropoff_latitude'] > max,'dropoff_latitude']=np.nan\n",
    "\n",
    "test_cab.dropoff_latitude.isna().sum()\n",
    "df=test_cab.drop('pickup_datetime',axis=1)\n",
    "df=pd.DataFrame(KNN(k=5).fit_transform(df),columns=df.columns)\n",
    "test_cab.dropoff_latitude=df.dropoff_latitude\n",
    "test_cab.dropoff_latitude.isna().sum()"
   ]
  },
  {
   "cell_type": "code",
   "execution_count": 60,
   "metadata": {},
   "outputs": [
    {
     "name": "stdout",
     "output_type": "stream",
     "text": [
      "40.76738088 40.7349275 0.032453379999999754 40.686247429999995 40.816060949999994\n"
     ]
    }
   ],
   "source": [
    "# removing outliers\n",
    "q75=np.percentile(train_cab.pickup_latitude,75)\n",
    "q25=np.percentile(train_cab.pickup_latitude,25)\n",
    "iqr=q75-q25\n",
    "min=q25-(iqr*1.5)\n",
    "max=q75+(iqr*1.5)\n",
    "print(q75,q25,iqr,min,max)"
   ]
  },
  {
   "cell_type": "code",
   "execution_count": 61,
   "metadata": {},
   "outputs": [
    {
     "data": {
      "text/plain": [
       "705"
      ]
     },
     "execution_count": 61,
     "metadata": {},
     "output_type": "execute_result"
    }
   ],
   "source": [
    "len(train_cab.loc[train_cab['pickup_latitude'] < min])"
   ]
  },
  {
   "cell_type": "code",
   "execution_count": 62,
   "metadata": {},
   "outputs": [
    {
     "data": {
      "text/plain": [
       "86"
      ]
     },
     "execution_count": 62,
     "metadata": {},
     "output_type": "execute_result"
    }
   ],
   "source": [
    "len(train_cab.loc[train_cab['pickup_latitude']>max])"
   ]
  },
  {
   "cell_type": "code",
   "execution_count": 63,
   "metadata": {
    "scrolled": true
   },
   "outputs": [
    {
     "data": {
      "text/plain": [
       "11        0.000000\n",
       "15        0.000000\n",
       "26        0.000000\n",
       "124       0.000000\n",
       "131      40.676052\n",
       "154      40.680558\n",
       "192       0.000000\n",
       "233       0.000000\n",
       "251      40.647040\n",
       "273       0.000000\n",
       "286      40.645007\n",
       "320      40.645265\n",
       "354      40.682950\n",
       "357       0.000000\n",
       "376       0.000000\n",
       "387       0.000000\n",
       "437      40.643705\n",
       "472       0.000000\n",
       "498       0.000000\n",
       "503      40.624708\n",
       "510      40.644272\n",
       "540       0.000000\n",
       "542       0.000000\n",
       "552      40.646382\n",
       "568       0.000000\n",
       "582      40.647295\n",
       "616      40.657058\n",
       "622      40.645412\n",
       "660       0.000000\n",
       "676      40.655194\n",
       "           ...    \n",
       "15422    40.645995\n",
       "15490    40.638730\n",
       "15495    40.644886\n",
       "15508    40.643799\n",
       "15517    40.641025\n",
       "15551    40.648567\n",
       "15599    40.644780\n",
       "15648     0.000000\n",
       "15665     0.000000\n",
       "15699    40.676007\n",
       "15703    40.646999\n",
       "15710    40.645088\n",
       "15743    40.646868\n",
       "15764     0.000000\n",
       "15783     0.000000\n",
       "15795    40.646662\n",
       "15809    40.681536\n",
       "15895    40.647485\n",
       "15900    40.644745\n",
       "15906    40.616788\n",
       "15911     0.000000\n",
       "15919     0.000000\n",
       "15920     0.000000\n",
       "15929     0.000000\n",
       "15937     0.000000\n",
       "15973    40.645207\n",
       "15975    40.648660\n",
       "16014     0.000000\n",
       "16023    40.644730\n",
       "16056     0.000000\n",
       "Name: pickup_latitude, Length: 705, dtype: float64"
      ]
     },
     "execution_count": 63,
     "metadata": {},
     "output_type": "execute_result"
    }
   ],
   "source": [
    "train_cab.loc[train_cab['pickup_latitude'] < min,'pickup_latitude']"
   ]
  },
  {
   "cell_type": "code",
   "execution_count": 64,
   "metadata": {
    "scrolled": true
   },
   "outputs": [
    {
     "data": {
      "text/plain": [
       "84       40.828531\n",
       "649      40.993260\n",
       "836      40.818232\n",
       "997      40.837712\n",
       "1147     40.857380\n",
       "1206     40.817698\n",
       "1245     40.822925\n",
       "1483     41.032490\n",
       "1684     41.366138\n",
       "1798     40.838981\n",
       "1984     40.819957\n",
       "2047     40.820032\n",
       "2107     40.841443\n",
       "2346     40.841982\n",
       "2432     40.835497\n",
       "2478     40.837120\n",
       "2918     40.839893\n",
       "3065     40.819887\n",
       "3075     41.366138\n",
       "3394     40.956018\n",
       "3587     40.850443\n",
       "3620     40.818771\n",
       "3969     40.819690\n",
       "3989     40.820277\n",
       "4004     40.876747\n",
       "4023     40.826708\n",
       "4196     40.822327\n",
       "4313     40.865160\n",
       "4458     40.840073\n",
       "4487     41.366138\n",
       "           ...    \n",
       "9474     40.820353\n",
       "9506     40.825505\n",
       "9704     40.825754\n",
       "9808     41.366138\n",
       "9840     40.835837\n",
       "9877     40.828563\n",
       "9921     40.822890\n",
       "9927     40.850190\n",
       "9960     40.840880\n",
       "9992     40.818798\n",
       "10688    41.366138\n",
       "10834    40.820267\n",
       "11021    40.826661\n",
       "11187    41.035688\n",
       "11366    40.866375\n",
       "11463    40.858017\n",
       "11834    40.821627\n",
       "12224    40.835782\n",
       "12268    40.816764\n",
       "12841    40.817783\n",
       "12934    40.876620\n",
       "13101    40.819939\n",
       "13175    40.829168\n",
       "13390    40.829539\n",
       "14047    40.833988\n",
       "14367    41.366138\n",
       "14620    40.837050\n",
       "14732    40.832095\n",
       "15352    40.821483\n",
       "15694    40.818390\n",
       "Name: pickup_latitude, Length: 86, dtype: float64"
      ]
     },
     "execution_count": 64,
     "metadata": {},
     "output_type": "execute_result"
    }
   ],
   "source": [
    "train_cab.loc[train_cab['pickup_latitude'] > max,'pickup_latitude']"
   ]
  },
  {
   "cell_type": "code",
   "execution_count": 65,
   "metadata": {},
   "outputs": [
    {
     "data": {
      "text/plain": [
       "401.083332"
      ]
     },
     "execution_count": 65,
     "metadata": {},
     "output_type": "execute_result"
    }
   ],
   "source": [
    "train_cab['pickup_latitude'].max()"
   ]
  },
  {
   "cell_type": "code",
   "execution_count": 66,
   "metadata": {},
   "outputs": [
    {
     "data": {
      "text/plain": [
       "40.815984"
      ]
     },
     "execution_count": 66,
     "metadata": {},
     "output_type": "execute_result"
    }
   ],
   "source": [
    "train_cab.loc[train_cab['pickup_latitude'] < min,'pickup_latitude']=np.nan\n",
    "train_cab.loc[train_cab['pickup_latitude'] > max,'pickup_latitude']=np.nan\n",
    "train_cab['pickup_latitude'].max()"
   ]
  },
  {
   "cell_type": "code",
   "execution_count": 67,
   "metadata": {},
   "outputs": [
    {
     "data": {
      "text/plain": [
       "Series([], Name: pickup_latitude, dtype: float64)"
      ]
     },
     "execution_count": 67,
     "metadata": {},
     "output_type": "execute_result"
    }
   ],
   "source": [
    "train_cab.loc[train_cab['pickup_latitude'] < min,'pickup_latitude']"
   ]
  },
  {
   "cell_type": "code",
   "execution_count": 68,
   "metadata": {},
   "outputs": [
    {
     "name": "stdout",
     "output_type": "stream",
     "text": [
      "Imputing row 1/16067 with 0 missing, elapsed time: 37.786\n",
      "Imputing row 101/16067 with 0 missing, elapsed time: 37.788\n",
      "Imputing row 201/16067 with 0 missing, elapsed time: 37.789\n",
      "Imputing row 301/16067 with 0 missing, elapsed time: 37.790\n",
      "Imputing row 401/16067 with 0 missing, elapsed time: 37.791\n",
      "Imputing row 501/16067 with 0 missing, elapsed time: 37.792\n",
      "Imputing row 601/16067 with 0 missing, elapsed time: 37.793\n",
      "Imputing row 701/16067 with 0 missing, elapsed time: 37.794\n",
      "Imputing row 801/16067 with 0 missing, elapsed time: 37.795\n",
      "Imputing row 901/16067 with 0 missing, elapsed time: 37.796\n",
      "Imputing row 1001/16067 with 0 missing, elapsed time: 37.797\n",
      "Imputing row 1101/16067 with 0 missing, elapsed time: 37.798\n",
      "Imputing row 1201/16067 with 0 missing, elapsed time: 37.799\n",
      "Imputing row 1301/16067 with 0 missing, elapsed time: 37.799\n",
      "Imputing row 1401/16067 with 0 missing, elapsed time: 37.800\n",
      "Imputing row 1501/16067 with 0 missing, elapsed time: 37.801\n",
      "Imputing row 1601/16067 with 0 missing, elapsed time: 37.803\n",
      "Imputing row 1701/16067 with 0 missing, elapsed time: 37.804\n",
      "Imputing row 1801/16067 with 0 missing, elapsed time: 37.805\n",
      "Imputing row 1901/16067 with 0 missing, elapsed time: 37.805\n",
      "Imputing row 2001/16067 with 0 missing, elapsed time: 37.806\n",
      "Imputing row 2101/16067 with 0 missing, elapsed time: 37.807\n",
      "Imputing row 2201/16067 with 0 missing, elapsed time: 37.809\n",
      "Imputing row 2301/16067 with 0 missing, elapsed time: 37.810\n",
      "Imputing row 2401/16067 with 0 missing, elapsed time: 37.811\n",
      "Imputing row 2501/16067 with 0 missing, elapsed time: 37.813\n",
      "Imputing row 2601/16067 with 0 missing, elapsed time: 37.815\n",
      "Imputing row 2701/16067 with 0 missing, elapsed time: 37.816\n",
      "Imputing row 2801/16067 with 0 missing, elapsed time: 37.817\n",
      "Imputing row 2901/16067 with 0 missing, elapsed time: 37.819\n",
      "Imputing row 3001/16067 with 1 missing, elapsed time: 37.820\n",
      "Imputing row 3101/16067 with 0 missing, elapsed time: 37.822\n",
      "Imputing row 3201/16067 with 0 missing, elapsed time: 37.824\n",
      "Imputing row 3301/16067 with 0 missing, elapsed time: 37.826\n",
      "Imputing row 3401/16067 with 0 missing, elapsed time: 37.828\n",
      "Imputing row 3501/16067 with 0 missing, elapsed time: 37.829\n",
      "Imputing row 3601/16067 with 0 missing, elapsed time: 37.831\n",
      "Imputing row 3701/16067 with 0 missing, elapsed time: 37.832\n",
      "Imputing row 3801/16067 with 0 missing, elapsed time: 37.834\n",
      "Imputing row 3901/16067 with 0 missing, elapsed time: 37.835\n",
      "Imputing row 4001/16067 with 0 missing, elapsed time: 37.837\n",
      "Imputing row 4101/16067 with 0 missing, elapsed time: 37.838\n",
      "Imputing row 4201/16067 with 0 missing, elapsed time: 37.839\n",
      "Imputing row 4301/16067 with 0 missing, elapsed time: 37.840\n",
      "Imputing row 4401/16067 with 0 missing, elapsed time: 37.842\n",
      "Imputing row 4501/16067 with 0 missing, elapsed time: 37.844\n",
      "Imputing row 4601/16067 with 1 missing, elapsed time: 37.846\n",
      "Imputing row 4701/16067 with 0 missing, elapsed time: 37.847\n",
      "Imputing row 4801/16067 with 1 missing, elapsed time: 37.849\n",
      "Imputing row 4901/16067 with 1 missing, elapsed time: 37.851\n",
      "Imputing row 5001/16067 with 0 missing, elapsed time: 37.853\n",
      "Imputing row 5101/16067 with 0 missing, elapsed time: 37.854\n",
      "Imputing row 5201/16067 with 0 missing, elapsed time: 37.856\n",
      "Imputing row 5301/16067 with 0 missing, elapsed time: 37.857\n",
      "Imputing row 5401/16067 with 0 missing, elapsed time: 37.859\n",
      "Imputing row 5501/16067 with 0 missing, elapsed time: 37.861\n",
      "Imputing row 5601/16067 with 0 missing, elapsed time: 37.863\n",
      "Imputing row 5701/16067 with 0 missing, elapsed time: 37.865\n",
      "Imputing row 5801/16067 with 0 missing, elapsed time: 37.867\n",
      "Imputing row 5901/16067 with 0 missing, elapsed time: 37.868\n",
      "Imputing row 6001/16067 with 0 missing, elapsed time: 37.870\n",
      "Imputing row 6101/16067 with 0 missing, elapsed time: 37.872\n",
      "Imputing row 6201/16067 with 0 missing, elapsed time: 37.874\n",
      "Imputing row 6301/16067 with 0 missing, elapsed time: 37.875\n",
      "Imputing row 6401/16067 with 0 missing, elapsed time: 37.877\n",
      "Imputing row 6501/16067 with 0 missing, elapsed time: 37.878\n",
      "Imputing row 6601/16067 with 0 missing, elapsed time: 37.879\n",
      "Imputing row 6701/16067 with 0 missing, elapsed time: 37.881\n",
      "Imputing row 6801/16067 with 0 missing, elapsed time: 37.882\n",
      "Imputing row 6901/16067 with 0 missing, elapsed time: 37.883\n",
      "Imputing row 7001/16067 with 0 missing, elapsed time: 37.884\n",
      "Imputing row 7101/16067 with 0 missing, elapsed time: 37.886\n",
      "Imputing row 7201/16067 with 0 missing, elapsed time: 37.887\n",
      "Imputing row 7301/16067 with 0 missing, elapsed time: 37.889\n",
      "Imputing row 7401/16067 with 0 missing, elapsed time: 37.890\n",
      "Imputing row 7501/16067 with 0 missing, elapsed time: 37.891\n",
      "Imputing row 7601/16067 with 0 missing, elapsed time: 37.893\n",
      "Imputing row 7701/16067 with 0 missing, elapsed time: 37.894\n",
      "Imputing row 7801/16067 with 0 missing, elapsed time: 37.895\n",
      "Imputing row 7901/16067 with 1 missing, elapsed time: 37.896\n",
      "Imputing row 8001/16067 with 0 missing, elapsed time: 37.897\n",
      "Imputing row 8101/16067 with 0 missing, elapsed time: 37.898\n",
      "Imputing row 8201/16067 with 0 missing, elapsed time: 37.899\n",
      "Imputing row 8301/16067 with 0 missing, elapsed time: 37.900\n",
      "Imputing row 8401/16067 with 0 missing, elapsed time: 37.901\n",
      "Imputing row 8501/16067 with 0 missing, elapsed time: 37.902\n",
      "Imputing row 8601/16067 with 0 missing, elapsed time: 37.904\n",
      "Imputing row 8701/16067 with 0 missing, elapsed time: 37.905\n",
      "Imputing row 8801/16067 with 0 missing, elapsed time: 37.906\n",
      "Imputing row 8901/16067 with 0 missing, elapsed time: 37.907\n",
      "Imputing row 9001/16067 with 0 missing, elapsed time: 37.908\n",
      "Imputing row 9101/16067 with 0 missing, elapsed time: 37.909\n",
      "Imputing row 9201/16067 with 0 missing, elapsed time: 37.910\n",
      "Imputing row 9301/16067 with 0 missing, elapsed time: 37.911\n",
      "Imputing row 9401/16067 with 0 missing, elapsed time: 37.912\n",
      "Imputing row 9501/16067 with 0 missing, elapsed time: 37.913\n",
      "Imputing row 9601/16067 with 1 missing, elapsed time: 37.914\n",
      "Imputing row 9701/16067 with 0 missing, elapsed time: 37.915\n",
      "Imputing row 9801/16067 with 0 missing, elapsed time: 37.916\n",
      "Imputing row 9901/16067 with 0 missing, elapsed time: 37.918\n",
      "Imputing row 10001/16067 with 0 missing, elapsed time: 37.919\n",
      "Imputing row 10101/16067 with 0 missing, elapsed time: 37.920\n",
      "Imputing row 10201/16067 with 0 missing, elapsed time: 37.921\n",
      "Imputing row 10301/16067 with 0 missing, elapsed time: 37.922\n",
      "Imputing row 10401/16067 with 0 missing, elapsed time: 37.923\n",
      "Imputing row 10501/16067 with 0 missing, elapsed time: 37.924\n",
      "Imputing row 10601/16067 with 0 missing, elapsed time: 37.925\n",
      "Imputing row 10701/16067 with 0 missing, elapsed time: 37.926\n",
      "Imputing row 10801/16067 with 0 missing, elapsed time: 37.927\n",
      "Imputing row 10901/16067 with 0 missing, elapsed time: 37.928\n",
      "Imputing row 11001/16067 with 0 missing, elapsed time: 37.929\n",
      "Imputing row 11101/16067 with 0 missing, elapsed time: 37.930\n",
      "Imputing row 11201/16067 with 0 missing, elapsed time: 37.931\n",
      "Imputing row 11301/16067 with 0 missing, elapsed time: 37.932\n",
      "Imputing row 11401/16067 with 0 missing, elapsed time: 37.933\n",
      "Imputing row 11501/16067 with 0 missing, elapsed time: 37.934\n",
      "Imputing row 11601/16067 with 0 missing, elapsed time: 37.935\n",
      "Imputing row 11701/16067 with 0 missing, elapsed time: 37.936\n",
      "Imputing row 11801/16067 with 0 missing, elapsed time: 37.938\n",
      "Imputing row 11901/16067 with 0 missing, elapsed time: 37.939\n",
      "Imputing row 12001/16067 with 0 missing, elapsed time: 37.940\n",
      "Imputing row 12101/16067 with 0 missing, elapsed time: 37.941\n",
      "Imputing row 12201/16067 with 0 missing, elapsed time: 37.942\n",
      "Imputing row 12301/16067 with 1 missing, elapsed time: 37.943\n",
      "Imputing row 12401/16067 with 0 missing, elapsed time: 37.944\n",
      "Imputing row 12501/16067 with 0 missing, elapsed time: 37.945\n",
      "Imputing row 12601/16067 with 0 missing, elapsed time: 37.945\n",
      "Imputing row 12701/16067 with 0 missing, elapsed time: 37.946\n",
      "Imputing row 12801/16067 with 0 missing, elapsed time: 37.947\n",
      "Imputing row 12901/16067 with 0 missing, elapsed time: 37.948\n",
      "Imputing row 13001/16067 with 0 missing, elapsed time: 37.950\n",
      "Imputing row 13101/16067 with 0 missing, elapsed time: 37.951\n",
      "Imputing row 13201/16067 with 0 missing, elapsed time: 37.952\n",
      "Imputing row 13301/16067 with 0 missing, elapsed time: 37.953\n",
      "Imputing row 13401/16067 with 0 missing, elapsed time: 37.954\n",
      "Imputing row 13501/16067 with 0 missing, elapsed time: 37.956\n",
      "Imputing row 13601/16067 with 0 missing, elapsed time: 37.957\n",
      "Imputing row 13701/16067 with 0 missing, elapsed time: 37.958\n",
      "Imputing row 13801/16067 with 0 missing, elapsed time: 37.959\n",
      "Imputing row 13901/16067 with 0 missing, elapsed time: 37.960\n",
      "Imputing row 14001/16067 with 0 missing, elapsed time: 37.961\n",
      "Imputing row 14101/16067 with 0 missing, elapsed time: 37.962\n",
      "Imputing row 14201/16067 with 0 missing, elapsed time: 37.963\n",
      "Imputing row 14301/16067 with 0 missing, elapsed time: 37.964\n"
     ]
    },
    {
     "name": "stdout",
     "output_type": "stream",
     "text": [
      "Imputing row 14401/16067 with 0 missing, elapsed time: 37.966\n",
      "Imputing row 14501/16067 with 0 missing, elapsed time: 37.967\n",
      "Imputing row 14601/16067 with 0 missing, elapsed time: 37.967\n",
      "Imputing row 14701/16067 with 0 missing, elapsed time: 37.968\n",
      "Imputing row 14801/16067 with 1 missing, elapsed time: 37.969\n",
      "Imputing row 14901/16067 with 0 missing, elapsed time: 37.970\n",
      "Imputing row 15001/16067 with 0 missing, elapsed time: 37.971\n",
      "Imputing row 15101/16067 with 0 missing, elapsed time: 37.972\n",
      "Imputing row 15201/16067 with 0 missing, elapsed time: 37.973\n",
      "Imputing row 15301/16067 with 0 missing, elapsed time: 37.974\n",
      "Imputing row 15401/16067 with 1 missing, elapsed time: 37.975\n",
      "Imputing row 15501/16067 with 0 missing, elapsed time: 37.976\n",
      "Imputing row 15601/16067 with 0 missing, elapsed time: 37.977\n",
      "Imputing row 15701/16067 with 0 missing, elapsed time: 37.978\n",
      "Imputing row 15801/16067 with 0 missing, elapsed time: 37.979\n",
      "Imputing row 15901/16067 with 1 missing, elapsed time: 37.980\n",
      "Imputing row 16001/16067 with 0 missing, elapsed time: 37.981\n"
     ]
    },
    {
     "data": {
      "text/plain": [
       "0"
      ]
     },
     "execution_count": 68,
     "metadata": {},
     "output_type": "execute_result"
    }
   ],
   "source": [
    "train_cab.fare_amount.isna().sum()\n",
    "df=train_cab.drop('pickup_datetime',axis=1)\n",
    "df=pd.DataFrame(KNN(k=5).fit_transform(df),columns=df.columns)\n",
    "train_cab.pickup_latitude=df.pickup_latitude\n",
    "train_cab.pickup_latitude.isna().sum()"
   ]
  },
  {
   "cell_type": "code",
   "execution_count": 69,
   "metadata": {},
   "outputs": [
    {
     "name": "stdout",
     "output_type": "stream",
     "text": [
      "40.768013499999995 40.734651 0.03336249999999552 40.684607250000006 40.81805724999999\n"
     ]
    }
   ],
   "source": [
    "# removing outliers\n",
    "q75=np.percentile(train_cab.dropoff_latitude,75)\n",
    "q25=np.percentile(train_cab.dropoff_latitude,25)\n",
    "iqr=q75-q25\n",
    "min=q25-(iqr*1.5)\n",
    "max=q75+(iqr*1.5)\n",
    "print(q75,q25,iqr,min,max)"
   ]
  },
  {
   "cell_type": "code",
   "execution_count": 70,
   "metadata": {},
   "outputs": [
    {
     "data": {
      "text/plain": [
       "766"
      ]
     },
     "execution_count": 70,
     "metadata": {},
     "output_type": "execute_result"
    }
   ],
   "source": [
    "len(train_cab.loc[train_cab['dropoff_latitude'] < min])"
   ]
  },
  {
   "cell_type": "code",
   "execution_count": 71,
   "metadata": {},
   "outputs": [
    {
     "data": {
      "text/plain": [
       "241"
      ]
     },
     "execution_count": 71,
     "metadata": {},
     "output_type": "execute_result"
    }
   ],
   "source": [
    "len(train_cab.loc[train_cab['dropoff_latitude'] > max])"
   ]
  },
  {
   "cell_type": "code",
   "execution_count": 72,
   "metadata": {},
   "outputs": [
    {
     "data": {
      "text/plain": [
       "41.366138"
      ]
     },
     "execution_count": 72,
     "metadata": {},
     "output_type": "execute_result"
    }
   ],
   "source": [
    "train_cab['dropoff_latitude'].max()"
   ]
  },
  {
   "cell_type": "code",
   "execution_count": 73,
   "metadata": {},
   "outputs": [],
   "source": [
    "\n",
    "train_cab.loc[train_cab['dropoff_latitude'] < min,'dropoff_latitude']=np.nan\n",
    "train_cab.loc[train_cab['dropoff_latitude'] > max,'dropoff_latitude']=np.nan"
   ]
  },
  {
   "cell_type": "code",
   "execution_count": 74,
   "metadata": {},
   "outputs": [
    {
     "name": "stdout",
     "output_type": "stream",
     "text": [
      "Imputing row 1/16067 with 0 missing, elapsed time: 39.731\n",
      "Imputing row 101/16067 with 0 missing, elapsed time: 39.733\n",
      "Imputing row 201/16067 with 0 missing, elapsed time: 39.735\n",
      "Imputing row 301/16067 with 0 missing, elapsed time: 39.736\n",
      "Imputing row 401/16067 with 0 missing, elapsed time: 39.737\n",
      "Imputing row 501/16067 with 0 missing, elapsed time: 39.738\n",
      "Imputing row 601/16067 with 0 missing, elapsed time: 39.740\n",
      "Imputing row 701/16067 with 0 missing, elapsed time: 39.741\n",
      "Imputing row 801/16067 with 0 missing, elapsed time: 39.742\n",
      "Imputing row 901/16067 with 0 missing, elapsed time: 39.743\n",
      "Imputing row 1001/16067 with 0 missing, elapsed time: 39.744\n",
      "Imputing row 1101/16067 with 0 missing, elapsed time: 39.745\n",
      "Imputing row 1201/16067 with 0 missing, elapsed time: 39.747\n",
      "Imputing row 1301/16067 with 0 missing, elapsed time: 39.748\n",
      "Imputing row 1401/16067 with 0 missing, elapsed time: 39.749\n",
      "Imputing row 1501/16067 with 0 missing, elapsed time: 39.751\n",
      "Imputing row 1601/16067 with 0 missing, elapsed time: 39.752\n",
      "Imputing row 1701/16067 with 0 missing, elapsed time: 39.753\n",
      "Imputing row 1801/16067 with 0 missing, elapsed time: 39.754\n",
      "Imputing row 1901/16067 with 0 missing, elapsed time: 39.755\n",
      "Imputing row 2001/16067 with 1 missing, elapsed time: 39.757\n",
      "Imputing row 2101/16067 with 0 missing, elapsed time: 39.758\n",
      "Imputing row 2201/16067 with 0 missing, elapsed time: 39.759\n",
      "Imputing row 2301/16067 with 0 missing, elapsed time: 39.760\n",
      "Imputing row 2401/16067 with 0 missing, elapsed time: 39.761\n",
      "Imputing row 2501/16067 with 0 missing, elapsed time: 39.762\n",
      "Imputing row 2601/16067 with 0 missing, elapsed time: 39.763\n",
      "Imputing row 2701/16067 with 0 missing, elapsed time: 39.764\n",
      "Imputing row 2801/16067 with 0 missing, elapsed time: 39.766\n",
      "Imputing row 2901/16067 with 0 missing, elapsed time: 39.768\n",
      "Imputing row 3001/16067 with 0 missing, elapsed time: 39.771\n",
      "Imputing row 3101/16067 with 0 missing, elapsed time: 39.772\n",
      "Imputing row 3201/16067 with 0 missing, elapsed time: 39.775\n",
      "Imputing row 3301/16067 with 0 missing, elapsed time: 39.776\n",
      "Imputing row 3401/16067 with 0 missing, elapsed time: 39.778\n",
      "Imputing row 3501/16067 with 0 missing, elapsed time: 39.780\n",
      "Imputing row 3601/16067 with 0 missing, elapsed time: 39.782\n",
      "Imputing row 3701/16067 with 0 missing, elapsed time: 39.784\n",
      "Imputing row 3801/16067 with 0 missing, elapsed time: 39.785\n",
      "Imputing row 3901/16067 with 0 missing, elapsed time: 39.787\n",
      "Imputing row 4001/16067 with 0 missing, elapsed time: 39.789\n",
      "Imputing row 4101/16067 with 0 missing, elapsed time: 39.791\n",
      "Imputing row 4201/16067 with 0 missing, elapsed time: 39.792\n",
      "Imputing row 4301/16067 with 0 missing, elapsed time: 39.794\n",
      "Imputing row 4401/16067 with 0 missing, elapsed time: 39.795\n",
      "Imputing row 4501/16067 with 0 missing, elapsed time: 39.797\n",
      "Imputing row 4601/16067 with 1 missing, elapsed time: 39.799\n",
      "Imputing row 4701/16067 with 0 missing, elapsed time: 39.801\n",
      "Imputing row 4801/16067 with 1 missing, elapsed time: 39.804\n",
      "Imputing row 4901/16067 with 1 missing, elapsed time: 39.805\n",
      "Imputing row 5001/16067 with 0 missing, elapsed time: 39.807\n",
      "Imputing row 5101/16067 with 0 missing, elapsed time: 39.808\n",
      "Imputing row 5201/16067 with 0 missing, elapsed time: 39.811\n",
      "Imputing row 5301/16067 with 0 missing, elapsed time: 39.812\n",
      "Imputing row 5401/16067 with 0 missing, elapsed time: 39.813\n",
      "Imputing row 5501/16067 with 0 missing, elapsed time: 39.815\n",
      "Imputing row 5601/16067 with 0 missing, elapsed time: 39.817\n",
      "Imputing row 5701/16067 with 0 missing, elapsed time: 39.819\n",
      "Imputing row 5801/16067 with 0 missing, elapsed time: 39.821\n",
      "Imputing row 5901/16067 with 0 missing, elapsed time: 39.822\n",
      "Imputing row 6001/16067 with 0 missing, elapsed time: 39.825\n",
      "Imputing row 6101/16067 with 0 missing, elapsed time: 39.827\n",
      "Imputing row 6201/16067 with 0 missing, elapsed time: 39.829\n",
      "Imputing row 6301/16067 with 0 missing, elapsed time: 39.831\n",
      "Imputing row 6401/16067 with 0 missing, elapsed time: 39.832\n",
      "Imputing row 6501/16067 with 0 missing, elapsed time: 39.833\n",
      "Imputing row 6601/16067 with 0 missing, elapsed time: 39.835\n",
      "Imputing row 6701/16067 with 0 missing, elapsed time: 39.836\n",
      "Imputing row 6801/16067 with 0 missing, elapsed time: 39.838\n",
      "Imputing row 6901/16067 with 0 missing, elapsed time: 39.839\n",
      "Imputing row 7001/16067 with 0 missing, elapsed time: 39.840\n",
      "Imputing row 7101/16067 with 0 missing, elapsed time: 39.842\n",
      "Imputing row 7201/16067 with 0 missing, elapsed time: 39.843\n",
      "Imputing row 7301/16067 with 0 missing, elapsed time: 39.843\n",
      "Imputing row 7401/16067 with 0 missing, elapsed time: 39.844\n",
      "Imputing row 7501/16067 with 0 missing, elapsed time: 39.846\n",
      "Imputing row 7601/16067 with 0 missing, elapsed time: 39.847\n",
      "Imputing row 7701/16067 with 0 missing, elapsed time: 39.847\n",
      "Imputing row 7801/16067 with 0 missing, elapsed time: 39.849\n",
      "Imputing row 7901/16067 with 0 missing, elapsed time: 39.850\n",
      "Imputing row 8001/16067 with 0 missing, elapsed time: 39.851\n",
      "Imputing row 8101/16067 with 0 missing, elapsed time: 39.852\n",
      "Imputing row 8201/16067 with 0 missing, elapsed time: 39.853\n",
      "Imputing row 8301/16067 with 0 missing, elapsed time: 39.854\n",
      "Imputing row 8401/16067 with 0 missing, elapsed time: 39.855\n",
      "Imputing row 8501/16067 with 0 missing, elapsed time: 39.856\n",
      "Imputing row 8601/16067 with 0 missing, elapsed time: 39.857\n",
      "Imputing row 8701/16067 with 0 missing, elapsed time: 39.859\n",
      "Imputing row 8801/16067 with 0 missing, elapsed time: 39.860\n",
      "Imputing row 8901/16067 with 0 missing, elapsed time: 39.861\n",
      "Imputing row 9001/16067 with 0 missing, elapsed time: 39.862\n",
      "Imputing row 9101/16067 with 0 missing, elapsed time: 39.863\n",
      "Imputing row 9201/16067 with 0 missing, elapsed time: 39.864\n",
      "Imputing row 9301/16067 with 0 missing, elapsed time: 39.865\n",
      "Imputing row 9401/16067 with 0 missing, elapsed time: 39.866\n",
      "Imputing row 9501/16067 with 0 missing, elapsed time: 39.867\n",
      "Imputing row 9601/16067 with 1 missing, elapsed time: 39.868\n",
      "Imputing row 9701/16067 with 0 missing, elapsed time: 39.870\n",
      "Imputing row 9801/16067 with 0 missing, elapsed time: 39.871\n",
      "Imputing row 9901/16067 with 0 missing, elapsed time: 39.872\n",
      "Imputing row 10001/16067 with 1 missing, elapsed time: 39.874\n",
      "Imputing row 10101/16067 with 0 missing, elapsed time: 39.875\n",
      "Imputing row 10201/16067 with 0 missing, elapsed time: 39.876\n",
      "Imputing row 10301/16067 with 0 missing, elapsed time: 39.877\n",
      "Imputing row 10401/16067 with 0 missing, elapsed time: 39.878\n",
      "Imputing row 10501/16067 with 0 missing, elapsed time: 39.879\n",
      "Imputing row 10601/16067 with 0 missing, elapsed time: 39.880\n",
      "Imputing row 10701/16067 with 0 missing, elapsed time: 39.881\n",
      "Imputing row 10801/16067 with 0 missing, elapsed time: 39.882\n",
      "Imputing row 10901/16067 with 0 missing, elapsed time: 39.882\n",
      "Imputing row 11001/16067 with 0 missing, elapsed time: 39.883\n",
      "Imputing row 11101/16067 with 0 missing, elapsed time: 39.884\n",
      "Imputing row 11201/16067 with 0 missing, elapsed time: 39.885\n",
      "Imputing row 11301/16067 with 1 missing, elapsed time: 39.886\n",
      "Imputing row 11401/16067 with 0 missing, elapsed time: 39.888\n",
      "Imputing row 11501/16067 with 0 missing, elapsed time: 39.889\n",
      "Imputing row 11601/16067 with 0 missing, elapsed time: 39.890\n",
      "Imputing row 11701/16067 with 0 missing, elapsed time: 39.892\n",
      "Imputing row 11801/16067 with 0 missing, elapsed time: 39.893\n",
      "Imputing row 11901/16067 with 0 missing, elapsed time: 39.894\n",
      "Imputing row 12001/16067 with 0 missing, elapsed time: 39.894\n",
      "Imputing row 12101/16067 with 0 missing, elapsed time: 39.896\n",
      "Imputing row 12201/16067 with 0 missing, elapsed time: 39.897\n",
      "Imputing row 12301/16067 with 1 missing, elapsed time: 39.898\n",
      "Imputing row 12401/16067 with 0 missing, elapsed time: 39.900\n",
      "Imputing row 12501/16067 with 0 missing, elapsed time: 39.902\n",
      "Imputing row 12601/16067 with 0 missing, elapsed time: 39.904\n",
      "Imputing row 12701/16067 with 0 missing, elapsed time: 39.906\n",
      "Imputing row 12801/16067 with 0 missing, elapsed time: 39.908\n",
      "Imputing row 12901/16067 with 0 missing, elapsed time: 39.910\n",
      "Imputing row 13001/16067 with 0 missing, elapsed time: 39.913\n",
      "Imputing row 13101/16067 with 0 missing, elapsed time: 39.915\n",
      "Imputing row 13201/16067 with 0 missing, elapsed time: 39.919\n",
      "Imputing row 13301/16067 with 0 missing, elapsed time: 39.925\n",
      "Imputing row 13401/16067 with 0 missing, elapsed time: 39.927\n",
      "Imputing row 13501/16067 with 0 missing, elapsed time: 39.929\n",
      "Imputing row 13601/16067 with 0 missing, elapsed time: 39.930\n",
      "Imputing row 13701/16067 with 0 missing, elapsed time: 39.931\n",
      "Imputing row 13801/16067 with 0 missing, elapsed time: 39.933\n",
      "Imputing row 13901/16067 with 0 missing, elapsed time: 39.934\n",
      "Imputing row 14001/16067 with 0 missing, elapsed time: 39.936\n",
      "Imputing row 14101/16067 with 0 missing, elapsed time: 39.938\n",
      "Imputing row 14201/16067 with 0 missing, elapsed time: 39.940\n",
      "Imputing row 14301/16067 with 0 missing, elapsed time: 39.943\n",
      "Imputing row 14401/16067 with 0 missing, elapsed time: 39.945\n",
      "Imputing row 14501/16067 with 0 missing, elapsed time: 39.946\n",
      "Imputing row 14601/16067 with 0 missing, elapsed time: 39.947\n",
      "Imputing row 14701/16067 with 0 missing, elapsed time: 39.948\n",
      "Imputing row 14801/16067 with 0 missing, elapsed time: 39.949\n",
      "Imputing row 14901/16067 with 0 missing, elapsed time: 39.950\n",
      "Imputing row 15001/16067 with 0 missing, elapsed time: 39.951\n",
      "Imputing row 15101/16067 with 0 missing, elapsed time: 39.954\n",
      "Imputing row 15201/16067 with 0 missing, elapsed time: 39.955\n",
      "Imputing row 15301/16067 with 1 missing, elapsed time: 39.960\n",
      "Imputing row 15401/16067 with 1 missing, elapsed time: 39.962\n",
      "Imputing row 15501/16067 with 0 missing, elapsed time: 39.964\n",
      "Imputing row 15601/16067 with 0 missing, elapsed time: 39.965\n",
      "Imputing row 15701/16067 with 0 missing, elapsed time: 39.967\n",
      "Imputing row 15801/16067 with 0 missing, elapsed time: 39.968\n",
      "Imputing row 15901/16067 with 0 missing, elapsed time: 39.971\n",
      "Imputing row 16001/16067 with 0 missing, elapsed time: 39.973\n"
     ]
    },
    {
     "data": {
      "text/plain": [
       "0"
      ]
     },
     "execution_count": 74,
     "metadata": {},
     "output_type": "execute_result"
    }
   ],
   "source": [
    "train_cab.fare_amount.isna().sum()\n",
    "df=train_cab.drop('pickup_datetime',axis=1)\n",
    "df=pd.DataFrame(KNN(k=5).fit_transform(df),columns=df.columns)\n",
    "train_cab.dropoff_latitude=df.dropoff_latitude\n",
    "train_cab.dropoff_latitude.isna().sum()"
   ]
  },
  {
   "cell_type": "code",
   "execution_count": 75,
   "metadata": {},
   "outputs": [
    {
     "name": "stdout",
     "output_type": "stream",
     "text": [
      "-73.9636425 -73.991182 0.027539499999988948 -74.03249124999998 -73.92233325000002\n"
     ]
    }
   ],
   "source": [
    "# removing outliers\n",
    "q75=np.percentile(train_cab.dropoff_longitude,75)\n",
    "q25=np.percentile(train_cab.dropoff_longitude,25)\n",
    "iqr=q75-q25\n",
    "min=q25-(iqr*1.5)\n",
    "max=q75+(iqr*1.5)\n",
    "print(q75,q25,iqr,min,max)"
   ]
  },
  {
   "cell_type": "code",
   "execution_count": 76,
   "metadata": {},
   "outputs": [
    {
     "data": {
      "text/plain": [
       "42"
      ]
     },
     "execution_count": 76,
     "metadata": {},
     "output_type": "execute_result"
    }
   ],
   "source": [
    "len(train_cab.loc[train_cab['dropoff_longitude'] < min])"
   ]
  },
  {
   "cell_type": "code",
   "execution_count": 77,
   "metadata": {},
   "outputs": [
    {
     "data": {
      "text/plain": [
       "1132"
      ]
     },
     "execution_count": 77,
     "metadata": {},
     "output_type": "execute_result"
    }
   ],
   "source": [
    "len(train_cab.loc[train_cab['dropoff_longitude'] > max])"
   ]
  },
  {
   "cell_type": "code",
   "execution_count": 78,
   "metadata": {},
   "outputs": [],
   "source": [
    "train_cab.loc[train_cab['dropoff_longitude'] < min,'dropoff_longitude']=np.nan\n",
    "train_cab.loc[train_cab['dropoff_longitude'] > max,'dropoff_longitude']=np.nan"
   ]
  },
  {
   "cell_type": "code",
   "execution_count": 79,
   "metadata": {},
   "outputs": [
    {
     "data": {
      "text/plain": [
       "Series([], Name: dropoff_longitude, dtype: float64)"
      ]
     },
     "execution_count": 79,
     "metadata": {},
     "output_type": "execute_result"
    }
   ],
   "source": [
    "train_cab.loc[train_cab['dropoff_longitude'] < min,'dropoff_longitude']"
   ]
  },
  {
   "cell_type": "code",
   "execution_count": 80,
   "metadata": {},
   "outputs": [
    {
     "name": "stdout",
     "output_type": "stream",
     "text": [
      "Imputing row 1/16067 with 1 missing, elapsed time: 39.247\n",
      "Imputing row 101/16067 with 0 missing, elapsed time: 39.250\n",
      "Imputing row 201/16067 with 0 missing, elapsed time: 39.251\n",
      "Imputing row 301/16067 with 1 missing, elapsed time: 39.253\n",
      "Imputing row 401/16067 with 0 missing, elapsed time: 39.254\n",
      "Imputing row 501/16067 with 0 missing, elapsed time: 39.256\n",
      "Imputing row 601/16067 with 0 missing, elapsed time: 39.257\n",
      "Imputing row 701/16067 with 0 missing, elapsed time: 39.259\n",
      "Imputing row 801/16067 with 0 missing, elapsed time: 39.260\n",
      "Imputing row 901/16067 with 0 missing, elapsed time: 39.261\n",
      "Imputing row 1001/16067 with 0 missing, elapsed time: 39.262\n",
      "Imputing row 1101/16067 with 0 missing, elapsed time: 39.264\n",
      "Imputing row 1201/16067 with 0 missing, elapsed time: 39.265\n",
      "Imputing row 1301/16067 with 0 missing, elapsed time: 39.266\n",
      "Imputing row 1401/16067 with 0 missing, elapsed time: 39.267\n",
      "Imputing row 1501/16067 with 0 missing, elapsed time: 39.268\n",
      "Imputing row 1601/16067 with 0 missing, elapsed time: 39.269\n",
      "Imputing row 1701/16067 with 0 missing, elapsed time: 39.271\n",
      "Imputing row 1801/16067 with 0 missing, elapsed time: 39.272\n",
      "Imputing row 1901/16067 with 0 missing, elapsed time: 39.274\n",
      "Imputing row 2001/16067 with 0 missing, elapsed time: 39.275\n",
      "Imputing row 2101/16067 with 0 missing, elapsed time: 39.276\n",
      "Imputing row 2201/16067 with 0 missing, elapsed time: 39.277\n",
      "Imputing row 2301/16067 with 0 missing, elapsed time: 39.278\n",
      "Imputing row 2401/16067 with 0 missing, elapsed time: 39.278\n",
      "Imputing row 2501/16067 with 0 missing, elapsed time: 39.280\n",
      "Imputing row 2601/16067 with 0 missing, elapsed time: 39.281\n",
      "Imputing row 2701/16067 with 0 missing, elapsed time: 39.282\n",
      "Imputing row 2801/16067 with 0 missing, elapsed time: 39.283\n",
      "Imputing row 2901/16067 with 0 missing, elapsed time: 39.284\n",
      "Imputing row 3001/16067 with 0 missing, elapsed time: 39.285\n",
      "Imputing row 3101/16067 with 0 missing, elapsed time: 39.286\n",
      "Imputing row 3201/16067 with 0 missing, elapsed time: 39.287\n",
      "Imputing row 3301/16067 with 0 missing, elapsed time: 39.287\n",
      "Imputing row 3401/16067 with 0 missing, elapsed time: 39.289\n",
      "Imputing row 3501/16067 with 0 missing, elapsed time: 39.290\n",
      "Imputing row 3601/16067 with 0 missing, elapsed time: 39.290\n",
      "Imputing row 3701/16067 with 0 missing, elapsed time: 39.292\n",
      "Imputing row 3801/16067 with 0 missing, elapsed time: 39.293\n",
      "Imputing row 3901/16067 with 0 missing, elapsed time: 39.295\n",
      "Imputing row 4001/16067 with 0 missing, elapsed time: 39.296\n",
      "Imputing row 4101/16067 with 0 missing, elapsed time: 39.298\n",
      "Imputing row 4201/16067 with 0 missing, elapsed time: 39.299\n",
      "Imputing row 4301/16067 with 0 missing, elapsed time: 39.300\n",
      "Imputing row 4401/16067 with 0 missing, elapsed time: 39.302\n",
      "Imputing row 4501/16067 with 0 missing, elapsed time: 39.305\n",
      "Imputing row 4601/16067 with 1 missing, elapsed time: 39.306\n",
      "Imputing row 4701/16067 with 0 missing, elapsed time: 39.308\n",
      "Imputing row 4801/16067 with 0 missing, elapsed time: 39.309\n",
      "Imputing row 4901/16067 with 1 missing, elapsed time: 39.311\n",
      "Imputing row 5001/16067 with 0 missing, elapsed time: 39.312\n",
      "Imputing row 5101/16067 with 0 missing, elapsed time: 39.313\n",
      "Imputing row 5201/16067 with 0 missing, elapsed time: 39.315\n",
      "Imputing row 5301/16067 with 0 missing, elapsed time: 39.316\n",
      "Imputing row 5401/16067 with 0 missing, elapsed time: 39.317\n",
      "Imputing row 5501/16067 with 0 missing, elapsed time: 39.319\n",
      "Imputing row 5601/16067 with 0 missing, elapsed time: 39.320\n",
      "Imputing row 5701/16067 with 0 missing, elapsed time: 39.322\n",
      "Imputing row 5801/16067 with 0 missing, elapsed time: 39.323\n",
      "Imputing row 5901/16067 with 0 missing, elapsed time: 39.324\n",
      "Imputing row 6001/16067 with 0 missing, elapsed time: 39.326\n",
      "Imputing row 6101/16067 with 0 missing, elapsed time: 39.328\n",
      "Imputing row 6201/16067 with 0 missing, elapsed time: 39.329\n",
      "Imputing row 6301/16067 with 0 missing, elapsed time: 39.331\n",
      "Imputing row 6401/16067 with 0 missing, elapsed time: 39.332\n",
      "Imputing row 6501/16067 with 0 missing, elapsed time: 39.333\n",
      "Imputing row 6601/16067 with 0 missing, elapsed time: 39.334\n",
      "Imputing row 6701/16067 with 0 missing, elapsed time: 39.336\n",
      "Imputing row 6801/16067 with 0 missing, elapsed time: 39.338\n",
      "Imputing row 6901/16067 with 0 missing, elapsed time: 39.339\n",
      "Imputing row 7001/16067 with 0 missing, elapsed time: 39.340\n",
      "Imputing row 7101/16067 with 0 missing, elapsed time: 39.342\n",
      "Imputing row 7201/16067 with 0 missing, elapsed time: 39.344\n",
      "Imputing row 7301/16067 with 0 missing, elapsed time: 39.345\n",
      "Imputing row 7401/16067 with 0 missing, elapsed time: 39.347\n",
      "Imputing row 7501/16067 with 0 missing, elapsed time: 39.348\n",
      "Imputing row 7601/16067 with 0 missing, elapsed time: 39.350\n",
      "Imputing row 7701/16067 with 0 missing, elapsed time: 39.351\n",
      "Imputing row 7801/16067 with 0 missing, elapsed time: 39.353\n",
      "Imputing row 7901/16067 with 0 missing, elapsed time: 39.354\n",
      "Imputing row 8001/16067 with 0 missing, elapsed time: 39.355\n",
      "Imputing row 8101/16067 with 0 missing, elapsed time: 39.356\n",
      "Imputing row 8201/16067 with 0 missing, elapsed time: 39.358\n",
      "Imputing row 8301/16067 with 0 missing, elapsed time: 39.359\n",
      "Imputing row 8401/16067 with 0 missing, elapsed time: 39.361\n",
      "Imputing row 8501/16067 with 0 missing, elapsed time: 39.362\n",
      "Imputing row 8601/16067 with 0 missing, elapsed time: 39.363\n",
      "Imputing row 8701/16067 with 0 missing, elapsed time: 39.364\n",
      "Imputing row 8801/16067 with 0 missing, elapsed time: 39.365\n",
      "Imputing row 8901/16067 with 0 missing, elapsed time: 39.366\n",
      "Imputing row 9001/16067 with 0 missing, elapsed time: 39.368\n",
      "Imputing row 9101/16067 with 0 missing, elapsed time: 39.369\n",
      "Imputing row 9201/16067 with 0 missing, elapsed time: 39.370\n",
      "Imputing row 9301/16067 with 0 missing, elapsed time: 39.371\n",
      "Imputing row 9401/16067 with 0 missing, elapsed time: 39.372\n",
      "Imputing row 9501/16067 with 0 missing, elapsed time: 39.373\n",
      "Imputing row 9601/16067 with 1 missing, elapsed time: 39.374\n",
      "Imputing row 9701/16067 with 1 missing, elapsed time: 39.375\n",
      "Imputing row 9801/16067 with 0 missing, elapsed time: 39.377\n",
      "Imputing row 9901/16067 with 0 missing, elapsed time: 39.378\n",
      "Imputing row 10001/16067 with 1 missing, elapsed time: 39.379\n",
      "Imputing row 10101/16067 with 0 missing, elapsed time: 39.380\n",
      "Imputing row 10201/16067 with 0 missing, elapsed time: 39.382\n",
      "Imputing row 10301/16067 with 0 missing, elapsed time: 39.383\n",
      "Imputing row 10401/16067 with 0 missing, elapsed time: 39.384\n",
      "Imputing row 10501/16067 with 0 missing, elapsed time: 39.386\n",
      "Imputing row 10601/16067 with 0 missing, elapsed time: 39.387\n",
      "Imputing row 10701/16067 with 0 missing, elapsed time: 39.388\n",
      "Imputing row 10801/16067 with 0 missing, elapsed time: 39.389\n",
      "Imputing row 10901/16067 with 0 missing, elapsed time: 39.390\n",
      "Imputing row 11001/16067 with 0 missing, elapsed time: 39.391\n",
      "Imputing row 11101/16067 with 0 missing, elapsed time: 39.392\n",
      "Imputing row 11201/16067 with 0 missing, elapsed time: 39.393\n",
      "Imputing row 11301/16067 with 1 missing, elapsed time: 39.394\n",
      "Imputing row 11401/16067 with 0 missing, elapsed time: 39.396\n",
      "Imputing row 11501/16067 with 0 missing, elapsed time: 39.397\n",
      "Imputing row 11601/16067 with 0 missing, elapsed time: 39.399\n",
      "Imputing row 11701/16067 with 0 missing, elapsed time: 39.400\n",
      "Imputing row 11801/16067 with 0 missing, elapsed time: 39.401\n",
      "Imputing row 11901/16067 with 0 missing, elapsed time: 39.403\n",
      "Imputing row 12001/16067 with 0 missing, elapsed time: 39.404\n",
      "Imputing row 12101/16067 with 0 missing, elapsed time: 39.405\n",
      "Imputing row 12201/16067 with 0 missing, elapsed time: 39.406\n",
      "Imputing row 12301/16067 with 1 missing, elapsed time: 39.408\n",
      "Imputing row 12401/16067 with 0 missing, elapsed time: 39.409\n",
      "Imputing row 12501/16067 with 0 missing, elapsed time: 39.411\n",
      "Imputing row 12601/16067 with 0 missing, elapsed time: 39.412\n",
      "Imputing row 12701/16067 with 0 missing, elapsed time: 39.413\n",
      "Imputing row 12801/16067 with 0 missing, elapsed time: 39.414\n",
      "Imputing row 12901/16067 with 0 missing, elapsed time: 39.415\n",
      "Imputing row 13001/16067 with 0 missing, elapsed time: 39.416\n",
      "Imputing row 13101/16067 with 0 missing, elapsed time: 39.418\n",
      "Imputing row 13201/16067 with 0 missing, elapsed time: 39.419\n",
      "Imputing row 13301/16067 with 0 missing, elapsed time: 39.420\n",
      "Imputing row 13401/16067 with 0 missing, elapsed time: 39.422\n",
      "Imputing row 13501/16067 with 0 missing, elapsed time: 39.423\n",
      "Imputing row 13601/16067 with 0 missing, elapsed time: 39.425\n",
      "Imputing row 13701/16067 with 0 missing, elapsed time: 39.426\n"
     ]
    },
    {
     "name": "stdout",
     "output_type": "stream",
     "text": [
      "Imputing row 13801/16067 with 0 missing, elapsed time: 39.429\n",
      "Imputing row 13901/16067 with 0 missing, elapsed time: 39.430\n",
      "Imputing row 14001/16067 with 0 missing, elapsed time: 39.431\n",
      "Imputing row 14101/16067 with 0 missing, elapsed time: 39.432\n",
      "Imputing row 14201/16067 with 0 missing, elapsed time: 39.434\n",
      "Imputing row 14301/16067 with 0 missing, elapsed time: 39.437\n",
      "Imputing row 14401/16067 with 0 missing, elapsed time: 39.439\n",
      "Imputing row 14501/16067 with 0 missing, elapsed time: 39.440\n",
      "Imputing row 14601/16067 with 0 missing, elapsed time: 39.442\n",
      "Imputing row 14701/16067 with 0 missing, elapsed time: 39.444\n",
      "Imputing row 14801/16067 with 0 missing, elapsed time: 39.446\n",
      "Imputing row 14901/16067 with 0 missing, elapsed time: 39.447\n",
      "Imputing row 15001/16067 with 0 missing, elapsed time: 39.449\n",
      "Imputing row 15101/16067 with 0 missing, elapsed time: 39.451\n",
      "Imputing row 15201/16067 with 1 missing, elapsed time: 39.453\n",
      "Imputing row 15301/16067 with 0 missing, elapsed time: 39.455\n",
      "Imputing row 15401/16067 with 1 missing, elapsed time: 39.456\n",
      "Imputing row 15501/16067 with 0 missing, elapsed time: 39.459\n",
      "Imputing row 15601/16067 with 0 missing, elapsed time: 39.460\n",
      "Imputing row 15701/16067 with 0 missing, elapsed time: 39.462\n",
      "Imputing row 15801/16067 with 0 missing, elapsed time: 39.464\n",
      "Imputing row 15901/16067 with 0 missing, elapsed time: 39.465\n",
      "Imputing row 16001/16067 with 0 missing, elapsed time: 39.467\n"
     ]
    },
    {
     "data": {
      "text/plain": [
       "0"
      ]
     },
     "execution_count": 80,
     "metadata": {},
     "output_type": "execute_result"
    }
   ],
   "source": [
    "train_cab.fare_amount.isna().sum()\n",
    "df=train_cab.drop('pickup_datetime',axis=1)\n",
    "df=pd.DataFrame(KNN(k=5).fit_transform(df),columns=df.columns)\n",
    "train_cab.dropoff_longitude=df.dropoff_longitude\n",
    "train_cab.dropoff_longitude.isna().sum()"
   ]
  },
  {
   "cell_type": "code",
   "execution_count": 81,
   "metadata": {},
   "outputs": [
    {
     "data": {
      "text/plain": [
       "0"
      ]
     },
     "execution_count": 81,
     "metadata": {},
     "output_type": "execute_result"
    }
   ],
   "source": [
    "# column 6 is a passenger count which is a categorical variable so and has values from 1to 6\n",
    "min=1\n",
    "max=6\n",
    "len(train_cab.loc[train_cab['passenger_count'] < min])\n",
    "len(train_cab.loc[train_cab['passenger_count'] >= max])\n",
    "train_cab.loc[train_cab['passenger_count'] < min,'passenger_count']=np.nan\n",
    "train_cab.loc[train_cab['passenger_count'] > max,'passenger_count']=np.nan\n",
    "train_cab.passenger_count.describe()\n",
    "train_cab['passenger_count']=train_cab['passenger_count'].fillna(train_cab['passenger_count'].median())\n",
    "sum(train_cab.passenger_count.isna())"
   ]
  },
  {
   "cell_type": "code",
   "execution_count": 82,
   "metadata": {},
   "outputs": [
    {
     "data": {
      "text/plain": [
       "5488"
      ]
     },
     "execution_count": 82,
     "metadata": {},
     "output_type": "execute_result"
    }
   ],
   "source": [
    "1132+42+241+766+86+705+1095+19+1399+3"
   ]
  },
  {
   "cell_type": "code",
   "execution_count": 83,
   "metadata": {},
   "outputs": [
    {
     "data": {
      "text/plain": [
       "34.15696769776561"
      ]
     },
     "execution_count": 83,
     "metadata": {},
     "output_type": "execute_result"
    }
   ],
   "source": [
    "(5488/16067)*100\n"
   ]
  },
  {
   "cell_type": "code",
   "execution_count": 84,
   "metadata": {},
   "outputs": [
    {
     "name": "stdout",
     "output_type": "stream",
     "text": [
      "<class 'pandas.core.frame.DataFrame'>\n",
      "RangeIndex: 16067 entries, 0 to 16066\n",
      "Data columns (total 7 columns):\n",
      "fare_amount          16067 non-null float64\n",
      "pickup_datetime      16067 non-null datetime64[ns, UTC]\n",
      "pickup_longitude     16067 non-null float64\n",
      "pickup_latitude      16067 non-null float64\n",
      "dropoff_longitude    16067 non-null float64\n",
      "dropoff_latitude     16067 non-null float64\n",
      "passenger_count      16067 non-null float64\n",
      "dtypes: datetime64[ns, UTC](1), float64(6)\n",
      "memory usage: 878.7 KB\n"
     ]
    }
   ],
   "source": [
    "train_cab.info()"
   ]
  },
  {
   "cell_type": "code",
   "execution_count": 85,
   "metadata": {},
   "outputs": [
    {
     "data": {
      "image/png": "[encoded data removed]",
      "text/plain": [
       "<Figure size 1440x720 with 1 Axes>"
      ]
     },
     "metadata": {},
     "output_type": "display_data"
    }
   ],
   "source": [
    "\n",
    "plt.figure(figsize=(20,10))\n",
    "plt.xlim(0,100)\n",
    "_ = sns.boxplot(x=train_cab['fare_amount'],y=train_cab['passenger_count'],data=train_cab,orient='h')\n",
    "plt.title('Boxplot of fare_amount w.r.t passenger_count')\n",
    "# plt.savefig('Boxplot of fare_amount w.r.t passenger_count.png')\n",
    "plt.show()"
   ]
  },
  {
   "cell_type": "code",
   "execution_count": 86,
   "metadata": {},
   "outputs": [
    {
     "data": {
      "text/html": [
       "<div>\n",
       "<style scoped>\n",
       "    .dataframe tbody tr th:only-of-type {\n",
       "        vertical-align: middle;\n",
       "    }\n",
       "\n",
       "    .dataframe tbody tr th {\n",
       "        vertical-align: top;\n",
       "    }\n",
       "\n",
       "    .dataframe thead th {\n",
       "        text-align: right;\n",
       "    }\n",
       "</style>\n",
       "<table border=\"1\" class=\"dataframe\">\n",
       "  <thead>\n",
       "    <tr style=\"text-align: right;\">\n",
       "      <th></th>\n",
       "      <th>fare_amount</th>\n",
       "      <th>pickup_longitude</th>\n",
       "      <th>pickup_latitude</th>\n",
       "      <th>dropoff_longitude</th>\n",
       "      <th>dropoff_latitude</th>\n",
       "      <th>passenger_count</th>\n",
       "    </tr>\n",
       "  </thead>\n",
       "  <tbody>\n",
       "    <tr>\n",
       "      <th>count</th>\n",
       "      <td>16067.000000</td>\n",
       "      <td>16067.000000</td>\n",
       "      <td>16067.000000</td>\n",
       "      <td>16067.000000</td>\n",
       "      <td>16067.000000</td>\n",
       "      <td>16067.000000</td>\n",
       "    </tr>\n",
       "    <tr>\n",
       "      <th>mean</th>\n",
       "      <td>9.371804</td>\n",
       "      <td>-73.981394</td>\n",
       "      <td>40.752855</td>\n",
       "      <td>-73.979539</td>\n",
       "      <td>40.752869</td>\n",
       "      <td>1.644258</td>\n",
       "    </tr>\n",
       "    <tr>\n",
       "      <th>std</th>\n",
       "      <td>4.430996</td>\n",
       "      <td>0.016218</td>\n",
       "      <td>0.021784</td>\n",
       "      <td>0.017691</td>\n",
       "      <td>0.023169</td>\n",
       "      <td>1.262019</td>\n",
       "    </tr>\n",
       "    <tr>\n",
       "      <th>min</th>\n",
       "      <td>0.000000</td>\n",
       "      <td>-74.023050</td>\n",
       "      <td>40.686509</td>\n",
       "      <td>-74.032153</td>\n",
       "      <td>40.684702</td>\n",
       "      <td>1.000000</td>\n",
       "    </tr>\n",
       "    <tr>\n",
       "      <th>25%</th>\n",
       "      <td>6.000000</td>\n",
       "      <td>-73.992595</td>\n",
       "      <td>40.738460</td>\n",
       "      <td>-73.991400</td>\n",
       "      <td>40.738680</td>\n",
       "      <td>1.000000</td>\n",
       "    </tr>\n",
       "    <tr>\n",
       "      <th>50%</th>\n",
       "      <td>8.180000</td>\n",
       "      <td>-73.982333</td>\n",
       "      <td>40.754256</td>\n",
       "      <td>-73.981137</td>\n",
       "      <td>40.754462</td>\n",
       "      <td>1.000000</td>\n",
       "    </tr>\n",
       "    <tr>\n",
       "      <th>75%</th>\n",
       "      <td>11.804377</td>\n",
       "      <td>-73.971131</td>\n",
       "      <td>40.767502</td>\n",
       "      <td>-73.968517</td>\n",
       "      <td>40.767758</td>\n",
       "      <td>2.000000</td>\n",
       "    </tr>\n",
       "    <tr>\n",
       "      <th>max</th>\n",
       "      <td>22.100000</td>\n",
       "      <td>-73.929230</td>\n",
       "      <td>40.815984</td>\n",
       "      <td>-73.922377</td>\n",
       "      <td>40.817875</td>\n",
       "      <td>6.000000</td>\n",
       "    </tr>\n",
       "  </tbody>\n",
       "</table>\n",
       "</div>"
      ],
      "text/plain": [
       "        fare_amount  pickup_longitude  pickup_latitude  dropoff_longitude  \\\n",
       "count  16067.000000      16067.000000     16067.000000       16067.000000   \n",
       "mean       9.371804        -73.981394        40.752855         -73.979539   \n",
       "std        4.430996          0.016218         0.021784           0.017691   \n",
       "min        0.000000        -74.023050        40.686509         -74.032153   \n",
       "25%        6.000000        -73.992595        40.738460         -73.991400   \n",
       "50%        8.180000        -73.982333        40.754256         -73.981137   \n",
       "75%       11.804377        -73.971131        40.767502         -73.968517   \n",
       "max       22.100000        -73.929230        40.815984         -73.922377   \n",
       "\n",
       "       dropoff_latitude  passenger_count  \n",
       "count      16067.000000     16067.000000  \n",
       "mean          40.752869         1.644258  \n",
       "std            0.023169         1.262019  \n",
       "min           40.684702         1.000000  \n",
       "25%           40.738680         1.000000  \n",
       "50%           40.754462         1.000000  \n",
       "75%           40.767758         2.000000  \n",
       "max           40.817875         6.000000  "
      ]
     },
     "execution_count": 86,
     "metadata": {},
     "output_type": "execute_result"
    }
   ],
   "source": [
    "train_cab.describe()"
   ]
  },
  {
   "cell_type": "code",
   "execution_count": 87,
   "metadata": {},
   "outputs": [
    {
     "data": {
      "text/html": [
       "<div>\n",
       "<style scoped>\n",
       "    .dataframe tbody tr th:only-of-type {\n",
       "        vertical-align: middle;\n",
       "    }\n",
       "\n",
       "    .dataframe tbody tr th {\n",
       "        vertical-align: top;\n",
       "    }\n",
       "\n",
       "    .dataframe thead th {\n",
       "        text-align: right;\n",
       "    }\n",
       "</style>\n",
       "<table border=\"1\" class=\"dataframe\">\n",
       "  <thead>\n",
       "    <tr style=\"text-align: right;\">\n",
       "      <th></th>\n",
       "      <th>pickup_longitude</th>\n",
       "      <th>pickup_latitude</th>\n",
       "      <th>dropoff_longitude</th>\n",
       "      <th>dropoff_latitude</th>\n",
       "      <th>passenger_count</th>\n",
       "    </tr>\n",
       "  </thead>\n",
       "  <tbody>\n",
       "    <tr>\n",
       "      <th>count</th>\n",
       "      <td>9914.000000</td>\n",
       "      <td>9914.000000</td>\n",
       "      <td>9914.000000</td>\n",
       "      <td>9914.000000</td>\n",
       "      <td>9914.000000</td>\n",
       "    </tr>\n",
       "    <tr>\n",
       "      <th>mean</th>\n",
       "      <td>-73.981509</td>\n",
       "      <td>40.752670</td>\n",
       "      <td>-73.978982</td>\n",
       "      <td>40.753223</td>\n",
       "      <td>1.671273</td>\n",
       "    </tr>\n",
       "    <tr>\n",
       "      <th>std</th>\n",
       "      <td>0.016387</td>\n",
       "      <td>0.021420</td>\n",
       "      <td>0.018328</td>\n",
       "      <td>0.023894</td>\n",
       "      <td>1.278747</td>\n",
       "    </tr>\n",
       "    <tr>\n",
       "      <th>min</th>\n",
       "      <td>-74.023050</td>\n",
       "      <td>40.689932</td>\n",
       "      <td>-74.030478</td>\n",
       "      <td>40.685062</td>\n",
       "      <td>1.000000</td>\n",
       "    </tr>\n",
       "    <tr>\n",
       "      <th>25%</th>\n",
       "      <td>-73.992819</td>\n",
       "      <td>40.737823</td>\n",
       "      <td>-73.991366</td>\n",
       "      <td>40.737757</td>\n",
       "      <td>1.000000</td>\n",
       "    </tr>\n",
       "    <tr>\n",
       "      <th>50%</th>\n",
       "      <td>-73.982805</td>\n",
       "      <td>40.753863</td>\n",
       "      <td>-73.980618</td>\n",
       "      <td>40.754981</td>\n",
       "      <td>1.000000</td>\n",
       "    </tr>\n",
       "    <tr>\n",
       "      <th>75%</th>\n",
       "      <td>-73.970710</td>\n",
       "      <td>40.767113</td>\n",
       "      <td>-73.967496</td>\n",
       "      <td>40.768865</td>\n",
       "      <td>2.000000</td>\n",
       "    </tr>\n",
       "    <tr>\n",
       "      <th>max</th>\n",
       "      <td>-73.931607</td>\n",
       "      <td>40.813253</td>\n",
       "      <td>-73.923325</td>\n",
       "      <td>40.818955</td>\n",
       "      <td>6.000000</td>\n",
       "    </tr>\n",
       "  </tbody>\n",
       "</table>\n",
       "</div>"
      ],
      "text/plain": [
       "       pickup_longitude  pickup_latitude  dropoff_longitude  dropoff_latitude  \\\n",
       "count       9914.000000      9914.000000        9914.000000       9914.000000   \n",
       "mean         -73.981509        40.752670         -73.978982         40.753223   \n",
       "std            0.016387         0.021420           0.018328          0.023894   \n",
       "min          -74.023050        40.689932         -74.030478         40.685062   \n",
       "25%          -73.992819        40.737823         -73.991366         40.737757   \n",
       "50%          -73.982805        40.753863         -73.980618         40.754981   \n",
       "75%          -73.970710        40.767113         -73.967496         40.768865   \n",
       "max          -73.931607        40.813253         -73.923325         40.818955   \n",
       "\n",
       "       passenger_count  \n",
       "count      9914.000000  \n",
       "mean          1.671273  \n",
       "std           1.278747  \n",
       "min           1.000000  \n",
       "25%           1.000000  \n",
       "50%           1.000000  \n",
       "75%           2.000000  \n",
       "max           6.000000  "
      ]
     },
     "execution_count": 87,
     "metadata": {},
     "output_type": "execute_result"
    }
   ],
   "source": [
    "test_cab.describe()"
   ]
  },
  {
   "cell_type": "code",
   "execution_count": 88,
   "metadata": {},
   "outputs": [],
   "source": [
    "#data is outlier and missing value free\n",
    "train_cab.to_csv('ntrain_cab.csv',index=False)\n",
    "test_cab.to_csv('ntest_cab.csv',index=False)"
   ]
  },
  {
   "cell_type": "markdown",
   "metadata": {},
   "source": [
    "# feature engineering on latitude and longitude and on datetime variables"
   ]
  },
  {
   "cell_type": "code",
   "execution_count": 89,
   "metadata": {},
   "outputs": [],
   "source": [
    "# for train_cab \n",
    "#train_cab['years']=train_cab.pickup_datetime.dt.year\n",
    "#train_cab['months']=train_cab.pickup_datetime.dt.month\n",
    "#train_cab['weekday']=train_cab.pickup_datetime.dt.weekday"
   ]
  },
  {
   "cell_type": "code",
   "execution_count": 90,
   "metadata": {},
   "outputs": [],
   "source": [
    "# Calculate distance the cab travelled from pickup and dropoff location using great_circle from geopy library\n",
    "data = [train_cab, test_cab]\n",
    "for i in data:\n",
    "    i['years']=i.pickup_datetime.dt.year\n",
    "    i['months']=i.pickup_datetime.dt.month\n",
    "    i['weekday']=i.pickup_datetime.dt.weekday\n",
    "    i['great_circle']=i.apply(lambda x: great_circle((x['pickup_latitude'],x['pickup_longitude']),(x['dropoff_latitude'],x['dropoff_longitude'])).miles, axis=1)\n",
    "    i['geodesic']=i.apply(lambda x: geodesic((x['pickup_latitude'],x['pickup_longitude']),(x['dropoff_latitude'],x['dropoff_longitude'])).miles, axis=1)"
   ]
  },
  {
   "cell_type": "code",
   "execution_count": 91,
   "metadata": {},
   "outputs": [
    {
     "data": {
      "text/html": [
       "<div>\n",
       "<style scoped>\n",
       "    .dataframe tbody tr th:only-of-type {\n",
       "        vertical-align: middle;\n",
       "    }\n",
       "\n",
       "    .dataframe tbody tr th {\n",
       "        vertical-align: top;\n",
       "    }\n",
       "\n",
       "    .dataframe thead th {\n",
       "        text-align: right;\n",
       "    }\n",
       "</style>\n",
       "<table border=\"1\" class=\"dataframe\">\n",
       "  <thead>\n",
       "    <tr style=\"text-align: right;\">\n",
       "      <th></th>\n",
       "      <th>pickup_datetime</th>\n",
       "      <th>pickup_longitude</th>\n",
       "      <th>pickup_latitude</th>\n",
       "      <th>dropoff_longitude</th>\n",
       "      <th>dropoff_latitude</th>\n",
       "      <th>passenger_count</th>\n",
       "      <th>years</th>\n",
       "      <th>months</th>\n",
       "      <th>weekday</th>\n",
       "      <th>great_circle</th>\n",
       "      <th>geodesic</th>\n",
       "    </tr>\n",
       "  </thead>\n",
       "  <tbody>\n",
       "    <tr>\n",
       "      <th>0</th>\n",
       "      <td>2015-01-27 13:08:24+00:00</td>\n",
       "      <td>-73.973320</td>\n",
       "      <td>40.763805</td>\n",
       "      <td>-73.981430</td>\n",
       "      <td>40.743835</td>\n",
       "      <td>1</td>\n",
       "      <td>2015</td>\n",
       "      <td>1</td>\n",
       "      <td>1</td>\n",
       "      <td>1.443609</td>\n",
       "      <td>1.442197</td>\n",
       "    </tr>\n",
       "    <tr>\n",
       "      <th>1</th>\n",
       "      <td>2015-01-27 13:08:24+00:00</td>\n",
       "      <td>-73.986862</td>\n",
       "      <td>40.719383</td>\n",
       "      <td>-73.998886</td>\n",
       "      <td>40.739201</td>\n",
       "      <td>1</td>\n",
       "      <td>2015</td>\n",
       "      <td>1</td>\n",
       "      <td>1</td>\n",
       "      <td>1.507047</td>\n",
       "      <td>1.506080</td>\n",
       "    </tr>\n",
       "    <tr>\n",
       "      <th>2</th>\n",
       "      <td>2011-10-08 11:53:44+00:00</td>\n",
       "      <td>-73.982524</td>\n",
       "      <td>40.751260</td>\n",
       "      <td>-73.979654</td>\n",
       "      <td>40.746139</td>\n",
       "      <td>1</td>\n",
       "      <td>2011</td>\n",
       "      <td>10</td>\n",
       "      <td>5</td>\n",
       "      <td>0.384398</td>\n",
       "      <td>0.384120</td>\n",
       "    </tr>\n",
       "    <tr>\n",
       "      <th>3</th>\n",
       "      <td>2012-12-01 21:12:12+00:00</td>\n",
       "      <td>-73.981160</td>\n",
       "      <td>40.767807</td>\n",
       "      <td>-73.990448</td>\n",
       "      <td>40.751635</td>\n",
       "      <td>1</td>\n",
       "      <td>2012</td>\n",
       "      <td>12</td>\n",
       "      <td>5</td>\n",
       "      <td>1.218531</td>\n",
       "      <td>1.217683</td>\n",
       "    </tr>\n",
       "    <tr>\n",
       "      <th>4</th>\n",
       "      <td>2012-12-01 21:12:12+00:00</td>\n",
       "      <td>-73.966046</td>\n",
       "      <td>40.789775</td>\n",
       "      <td>-73.988565</td>\n",
       "      <td>40.744427</td>\n",
       "      <td>1</td>\n",
       "      <td>2012</td>\n",
       "      <td>12</td>\n",
       "      <td>5</td>\n",
       "      <td>3.347519</td>\n",
       "      <td>3.344737</td>\n",
       "    </tr>\n",
       "  </tbody>\n",
       "</table>\n",
       "</div>"
      ],
      "text/plain": [
       "            pickup_datetime  pickup_longitude  pickup_latitude  \\\n",
       "0 2015-01-27 13:08:24+00:00        -73.973320        40.763805   \n",
       "1 2015-01-27 13:08:24+00:00        -73.986862        40.719383   \n",
       "2 2011-10-08 11:53:44+00:00        -73.982524        40.751260   \n",
       "3 2012-12-01 21:12:12+00:00        -73.981160        40.767807   \n",
       "4 2012-12-01 21:12:12+00:00        -73.966046        40.789775   \n",
       "\n",
       "   dropoff_longitude  dropoff_latitude  passenger_count  years  months  \\\n",
       "0         -73.981430         40.743835                1   2015       1   \n",
       "1         -73.998886         40.739201                1   2015       1   \n",
       "2         -73.979654         40.746139                1   2011      10   \n",
       "3         -73.990448         40.751635                1   2012      12   \n",
       "4         -73.988565         40.744427                1   2012      12   \n",
       "\n",
       "   weekday  great_circle  geodesic  \n",
       "0        1      1.443609  1.442197  \n",
       "1        1      1.507047  1.506080  \n",
       "2        5      0.384398  0.384120  \n",
       "3        5      1.218531  1.217683  \n",
       "4        5      3.347519  3.344737  "
      ]
     },
     "execution_count": 91,
     "metadata": {},
     "output_type": "execute_result"
    }
   ],
   "source": [
    "train_cab.head()\n",
    "test_cab.head()"
   ]
  },
  {
   "cell_type": "code",
   "execution_count": 92,
   "metadata": {},
   "outputs": [],
   "source": [
    "# for test_cab \n",
    "##test_cab['years']=test_cab.pickup_datetime.dt.year\n",
    "#test_cab['months']=test_cab.pickup_datetime.dt.month\n",
    "#test_cab['weekday']=test_cab.pickup_datetime.dt.weekday\n"
   ]
  },
  {
   "cell_type": "code",
   "execution_count": 93,
   "metadata": {},
   "outputs": [],
   "source": [
    "train_cab=train_cab.loc[:,['fare_amount', 'passenger_count', 'years',\n",
    "       'months', 'weekday', 'geodesic']]\n",
    "test_cab=test_cab.loc[:,['passenger_count', 'years',\n",
    "       'months', 'weekday', 'geodesic']]"
   ]
  },
  {
   "cell_type": "code",
   "execution_count": 94,
   "metadata": {},
   "outputs": [
    {
     "name": "stdout",
     "output_type": "stream",
     "text": [
      "   fare_amount  passenger_count  years  months  weekday  geodesic\n",
      "0          4.5              1.0   2009       6        0  0.825488\n",
      "1         16.9              1.0   2010       1        1  5.246511\n",
      "2          5.7              2.0   2011       8        3  0.863167\n",
      "3          7.7              1.0   2012       4        5  1.737223\n",
      "4          5.3              1.0   2010       3        1  1.241710\n",
      "   passenger_count  years  months  weekday  geodesic\n",
      "0                1   2015       1        1  1.442197\n",
      "1                1   2015       1        1  1.506080\n",
      "2                1   2011      10        5  0.384120\n",
      "3                1   2012      12        5  1.217683\n",
      "4                1   2012      12        5  3.344737\n"
     ]
    }
   ],
   "source": [
    "print(train_cab.head())\n",
    "print(test_cab.head())"
   ]
  },
  {
   "cell_type": "code",
   "execution_count": 95,
   "metadata": {},
   "outputs": [],
   "source": [
    "#data = [train_cab, test_cab]\n",
    "#for i in data:\n",
    "#    i['passenger_count']=i['passenger_count'].round().astype('object').astype('category',ordered=True)\n",
    "#    i['years']=i['years'].round().astype('object').astype('category',ordered=False)\n",
    "#    i['months']=i['months'].round().astype('object').astype('category',ordered=False)\n",
    "#    i['weekday']=i['weekday'].round().astype('object').astype('category',ordered=False)"
   ]
  },
  {
   "cell_type": "code",
   "execution_count": 96,
   "metadata": {},
   "outputs": [
    {
     "name": "stdout",
     "output_type": "stream",
     "text": [
      "<class 'pandas.core.frame.DataFrame'>\n",
      "RangeIndex: 16067 entries, 0 to 16066\n",
      "Data columns (total 6 columns):\n",
      "fare_amount        16067 non-null float64\n",
      "passenger_count    16067 non-null float64\n",
      "years              16067 non-null int64\n",
      "months             16067 non-null int64\n",
      "weekday            16067 non-null int64\n",
      "geodesic           16067 non-null float64\n",
      "dtypes: float64(3), int64(3)\n",
      "memory usage: 753.2 KB\n"
     ]
    }
   ],
   "source": [
    "train_cab.info()"
   ]
  },
  {
   "cell_type": "code",
   "execution_count": 97,
   "metadata": {},
   "outputs": [
    {
     "name": "stdout",
     "output_type": "stream",
     "text": [
      "<class 'pandas.core.frame.DataFrame'>\n",
      "RangeIndex: 9914 entries, 0 to 9913\n",
      "Data columns (total 5 columns):\n",
      "passenger_count    9914 non-null int64\n",
      "years              9914 non-null int64\n",
      "months             9914 non-null int64\n",
      "weekday            9914 non-null int64\n",
      "geodesic           9914 non-null float64\n",
      "dtypes: float64(1), int64(4)\n",
      "memory usage: 387.3 KB\n"
     ]
    }
   ],
   "source": [
    "test_cab.info()"
   ]
  },
  {
   "cell_type": "code",
   "execution_count": 98,
   "metadata": {},
   "outputs": [],
   "source": [
    "#data is outlier and missing value free\n",
    "train_cab.to_csv('nntrain_cab.csv',index=False)\n",
    "test_cab.to_csv('nntest_cab.csv',index=False)"
   ]
  },
  {
   "cell_type": "markdown",
   "metadata": {},
   "source": [
    "# implementing  model on the data"
   ]
  },
  {
   "cell_type": "code",
   "execution_count": 99,
   "metadata": {},
   "outputs": [
    {
     "data": {
      "text/html": [
       "<div>\n",
       "<style scoped>\n",
       "    .dataframe tbody tr th:only-of-type {\n",
       "        vertical-align: middle;\n",
       "    }\n",
       "\n",
       "    .dataframe tbody tr th {\n",
       "        vertical-align: top;\n",
       "    }\n",
       "\n",
       "    .dataframe thead th {\n",
       "        text-align: right;\n",
       "    }\n",
       "</style>\n",
       "<table border=\"1\" class=\"dataframe\">\n",
       "  <thead>\n",
       "    <tr style=\"text-align: right;\">\n",
       "      <th></th>\n",
       "      <th>fare_amount</th>\n",
       "      <th>passenger_count</th>\n",
       "      <th>years</th>\n",
       "      <th>months</th>\n",
       "      <th>weekday</th>\n",
       "      <th>geodesic</th>\n",
       "    </tr>\n",
       "  </thead>\n",
       "  <tbody>\n",
       "    <tr>\n",
       "      <th>0</th>\n",
       "      <td>4.5</td>\n",
       "      <td>1.0</td>\n",
       "      <td>2009</td>\n",
       "      <td>6</td>\n",
       "      <td>0</td>\n",
       "      <td>0.825488</td>\n",
       "    </tr>\n",
       "    <tr>\n",
       "      <th>1</th>\n",
       "      <td>16.9</td>\n",
       "      <td>1.0</td>\n",
       "      <td>2010</td>\n",
       "      <td>1</td>\n",
       "      <td>1</td>\n",
       "      <td>5.246511</td>\n",
       "    </tr>\n",
       "    <tr>\n",
       "      <th>2</th>\n",
       "      <td>5.7</td>\n",
       "      <td>2.0</td>\n",
       "      <td>2011</td>\n",
       "      <td>8</td>\n",
       "      <td>3</td>\n",
       "      <td>0.863167</td>\n",
       "    </tr>\n",
       "    <tr>\n",
       "      <th>3</th>\n",
       "      <td>7.7</td>\n",
       "      <td>1.0</td>\n",
       "      <td>2012</td>\n",
       "      <td>4</td>\n",
       "      <td>5</td>\n",
       "      <td>1.737223</td>\n",
       "    </tr>\n",
       "    <tr>\n",
       "      <th>4</th>\n",
       "      <td>5.3</td>\n",
       "      <td>1.0</td>\n",
       "      <td>2010</td>\n",
       "      <td>3</td>\n",
       "      <td>1</td>\n",
       "      <td>1.241710</td>\n",
       "    </tr>\n",
       "  </tbody>\n",
       "</table>\n",
       "</div>"
      ],
      "text/plain": [
       "   fare_amount  passenger_count  years  months  weekday  geodesic\n",
       "0          4.5              1.0   2009       6        0  0.825488\n",
       "1         16.9              1.0   2010       1        1  5.246511\n",
       "2          5.7              2.0   2011       8        3  0.863167\n",
       "3          7.7              1.0   2012       4        5  1.737223\n",
       "4          5.3              1.0   2010       3        1  1.241710"
      ]
     },
     "execution_count": 99,
     "metadata": {},
     "output_type": "execute_result"
    }
   ],
   "source": [
    "train_cab.head()"
   ]
  },
  {
   "cell_type": "code",
   "execution_count": 100,
   "metadata": {},
   "outputs": [],
   "source": [
    "#split data\n",
    "# divide the data\n",
    "train,test=train_test_split(train_cab,test_size=0.2)"
   ]
  },
  {
   "cell_type": "markdown",
   "metadata": {},
   "source": [
    "## linear regression"
   ]
  },
  {
   "cell_type": "code",
   "execution_count": 101,
   "metadata": {},
   "outputs": [],
   "source": [
    "model=sm.OLS(train.iloc[:,0],train.iloc[:,1:7]).fit()"
   ]
  },
  {
   "cell_type": "code",
   "execution_count": 102,
   "metadata": {},
   "outputs": [
    {
     "data": {
      "text/html": [
       "<table class=\"simpletable\">\n",
       "<caption>OLS Regression Results</caption>\n",
       "<tr>\n",
       "  <th>Dep. Variable:</th>       <td>fare_amount</td>   <th>  R-squared (uncentered):</th>      <td>   0.919</td> \n",
       "</tr>\n",
       "<tr>\n",
       "  <th>Model:</th>                   <td>OLS</td>       <th>  Adj. R-squared (uncentered):</th> <td>   0.919</td> \n",
       "</tr>\n",
       "<tr>\n",
       "  <th>Method:</th>             <td>Least Squares</td>  <th>  F-statistic:       </th>          <td>2.930e+04</td>\n",
       "</tr>\n",
       "<tr>\n",
       "  <th>Date:</th>             <td>Thu, 14 Nov 2019</td> <th>  Prob (F-statistic):</th>           <td>  0.00</td>  \n",
       "</tr>\n",
       "<tr>\n",
       "  <th>Time:</th>                 <td>21:31:31</td>     <th>  Log-Likelihood:    </th>          <td> -32113.</td> \n",
       "</tr>\n",
       "<tr>\n",
       "  <th>No. Observations:</th>      <td> 12853</td>      <th>  AIC:               </th>          <td>6.424e+04</td>\n",
       "</tr>\n",
       "<tr>\n",
       "  <th>Df Residuals:</th>          <td> 12848</td>      <th>  BIC:               </th>          <td>6.427e+04</td>\n",
       "</tr>\n",
       "<tr>\n",
       "  <th>Df Model:</th>              <td>     5</td>      <th>                     </th>              <td> </td>    \n",
       "</tr>\n",
       "<tr>\n",
       "  <th>Covariance Type:</th>      <td>nonrobust</td>    <th>                     </th>              <td> </td>    \n",
       "</tr>\n",
       "</table>\n",
       "<table class=\"simpletable\">\n",
       "<tr>\n",
       "         <td></td>            <th>coef</th>     <th>std err</th>      <th>t</th>      <th>P>|t|</th>  <th>[0.025</th>    <th>0.975]</th>  \n",
       "</tr>\n",
       "<tr>\n",
       "  <th>passenger_count</th> <td>    0.0210</td> <td>    0.021</td> <td>    1.015</td> <td> 0.310</td> <td>   -0.020</td> <td>    0.062</td>\n",
       "</tr>\n",
       "<tr>\n",
       "  <th>years</th>           <td>    0.0023</td> <td> 4.07e-05</td> <td>   55.498</td> <td> 0.000</td> <td>    0.002</td> <td>    0.002</td>\n",
       "</tr>\n",
       "<tr>\n",
       "  <th>months</th>          <td>    0.0292</td> <td>    0.008</td> <td>    3.880</td> <td> 0.000</td> <td>    0.014</td> <td>    0.044</td>\n",
       "</tr>\n",
       "<tr>\n",
       "  <th>weekday</th>         <td>   -0.0211</td> <td>    0.013</td> <td>   -1.601</td> <td> 0.109</td> <td>   -0.047</td> <td>    0.005</td>\n",
       "</tr>\n",
       "<tr>\n",
       "  <th>geodesic</th>        <td>    2.9672</td> <td>    0.023</td> <td>  127.360</td> <td> 0.000</td> <td>    2.921</td> <td>    3.013</td>\n",
       "</tr>\n",
       "</table>\n",
       "<table class=\"simpletable\">\n",
       "<tr>\n",
       "  <th>Omnibus:</th>       <td>3392.559</td> <th>  Durbin-Watson:     </th> <td>   2.016</td> \n",
       "</tr>\n",
       "<tr>\n",
       "  <th>Prob(Omnibus):</th>  <td> 0.000</td>  <th>  Jarque-Bera (JB):  </th> <td>10670.886</td>\n",
       "</tr>\n",
       "<tr>\n",
       "  <th>Skew:</th>           <td> 1.348</td>  <th>  Prob(JB):          </th> <td>    0.00</td> \n",
       "</tr>\n",
       "<tr>\n",
       "  <th>Kurtosis:</th>       <td> 6.558</td>  <th>  Cond. No.          </th> <td>1.81e+03</td> \n",
       "</tr>\n",
       "</table><br/><br/>Warnings:<br/>[1] Standard Errors assume that the covariance matrix of the errors is correctly specified.<br/>[2] The condition number is large, 1.81e+03. This might indicate that there are<br/>strong multicollinearity or other numerical problems."
      ],
      "text/plain": [
       "<class 'statsmodels.iolib.summary.Summary'>\n",
       "\"\"\"\n",
       "                                 OLS Regression Results                                \n",
       "=======================================================================================\n",
       "Dep. Variable:            fare_amount   R-squared (uncentered):                   0.919\n",
       "Model:                            OLS   Adj. R-squared (uncentered):              0.919\n",
       "Method:                 Least Squares   F-statistic:                          2.930e+04\n",
       "Date:                Thu, 14 Nov 2019   Prob (F-statistic):                        0.00\n",
       "Time:                        21:31:31   Log-Likelihood:                         -32113.\n",
       "No. Observations:               12853   AIC:                                  6.424e+04\n",
       "Df Residuals:                   12848   BIC:                                  6.427e+04\n",
       "Df Model:                           5                                                  \n",
       "Covariance Type:            nonrobust                                                  \n",
       "===================================================================================\n",
       "                      coef    std err          t      P>|t|      [0.025      0.975]\n",
       "-----------------------------------------------------------------------------------\n",
       "passenger_count     0.0210      0.021      1.015      0.310      -0.020       0.062\n",
       "years               0.0023   4.07e-05     55.498      0.000       0.002       0.002\n",
       "months              0.0292      0.008      3.880      0.000       0.014       0.044\n",
       "weekday            -0.0211      0.013     -1.601      0.109      -0.047       0.005\n",
       "geodesic            2.9672      0.023    127.360      0.000       2.921       3.013\n",
       "==============================================================================\n",
       "Omnibus:                     3392.559   Durbin-Watson:                   2.016\n",
       "Prob(Omnibus):                  0.000   Jarque-Bera (JB):            10670.886\n",
       "Skew:                           1.348   Prob(JB):                         0.00\n",
       "Kurtosis:                       6.558   Cond. No.                     1.81e+03\n",
       "==============================================================================\n",
       "\n",
       "Warnings:\n",
       "[1] Standard Errors assume that the covariance matrix of the errors is correctly specified.\n",
       "[2] The condition number is large, 1.81e+03. This might indicate that there are\n",
       "strong multicollinearity or other numerical problems.\n",
       "\"\"\""
      ]
     },
     "execution_count": 102,
     "metadata": {},
     "output_type": "execute_result"
    }
   ],
   "source": [
    "model.summary()"
   ]
  },
  {
   "cell_type": "code",
   "execution_count": 103,
   "metadata": {},
   "outputs": [],
   "source": [
    "prediction_lr=model.predict(test.iloc[:,1:7])"
   ]
  },
  {
   "cell_type": "code",
   "execution_count": 104,
   "metadata": {},
   "outputs": [],
   "source": [
    "def MAPE(y_true,y_pred):\n",
    "    mape = np.mean(np.abs((y_true-y_pred)/y_true))\n",
    "    return mape"
   ]
  },
  {
   "cell_type": "code",
   "execution_count": 105,
   "metadata": {},
   "outputs": [
    {
     "data": {
      "text/plain": [
       "0.2480631822270252"
      ]
     },
     "execution_count": 105,
     "metadata": {},
     "output_type": "execute_result"
    }
   ],
   "source": [
    "MAPE(test.iloc[:,0],prediction_lr)"
   ]
  },
  {
   "cell_type": "markdown",
   "metadata": {},
   "source": [
    "## decision tree"
   ]
  },
  {
   "cell_type": "code",
   "execution_count": 106,
   "metadata": {},
   "outputs": [],
   "source": [
    "#decision tree for regression\n",
    "fit_dt=DecisionTreeRegressor(max_depth=2).fit(train.iloc[:,1:7],train.iloc[:,0])"
   ]
  },
  {
   "cell_type": "code",
   "execution_count": 107,
   "metadata": {},
   "outputs": [],
   "source": [
    "#apply the model on test data\n",
    "prediction_dt=fit_dt.predict(test.iloc[:,1:7])"
   ]
  },
  {
   "cell_type": "code",
   "execution_count": 108,
   "metadata": {},
   "outputs": [],
   "source": [
    "# calculate mape\n",
    "def MAPE(y_true,y_pred):\n",
    "    mape=np.mean(np.abs((y_true-y_pred)/y_true))\n",
    "    return mape"
   ]
  },
  {
   "cell_type": "code",
   "execution_count": 109,
   "metadata": {},
   "outputs": [
    {
     "data": {
      "text/plain": [
       "0.2568809655936533"
      ]
     },
     "execution_count": 109,
     "metadata": {},
     "output_type": "execute_result"
    }
   ],
   "source": [
    "MAPE(test.iloc[:,0],prediction_dt)"
   ]
  },
  {
   "cell_type": "markdown",
   "metadata": {},
   "source": [
    "## random forest"
   ]
  },
  {
   "cell_type": "code",
   "execution_count": 110,
   "metadata": {},
   "outputs": [],
   "source": [
    " # create regressor object \n",
    "regressor = RandomForestRegressor(n_estimators = 100, random_state = 0) "
   ]
  },
  {
   "cell_type": "code",
   "execution_count": 111,
   "metadata": {},
   "outputs": [],
   "source": [
    "# fit the regressor with x and y data \n",
    "fit_rf=regressor.fit(train.iloc[:,1:7],train.iloc[:,0])   "
   ]
  },
  {
   "cell_type": "code",
   "execution_count": 112,
   "metadata": {},
   "outputs": [],
   "source": [
    "prediction_rf=fit_rf.predict(test.iloc[:,1:7])"
   ]
  },
  {
   "cell_type": "code",
   "execution_count": 113,
   "metadata": {},
   "outputs": [],
   "source": [
    "# calculate mape\n",
    "def MAPE(y_true,y_pred):\n",
    "    mape=np.mean(np.abs((y_true-y_pred)/y_true))\n",
    "    return mape"
   ]
  },
  {
   "cell_type": "code",
   "execution_count": 114,
   "metadata": {},
   "outputs": [
    {
     "data": {
      "text/plain": [
       "0.24747241866276673"
      ]
     },
     "execution_count": 114,
     "metadata": {},
     "output_type": "execute_result"
    }
   ],
   "source": [
    "MAPE(test.iloc[:,0],prediction_rf)"
   ]
  },
  {
   "cell_type": "markdown",
   "metadata": {},
   "source": [
    "# since model selection"
   ]
  },
  {
   "cell_type": "code",
   "execution_count": 115,
   "metadata": {},
   "outputs": [],
   "source": [
    "# since from mape error matrix we have 76% accuracy of linear regression mode\n",
    "#75% of decision tree \n",
    "#82% of random forest\n",
    "#so we will choose random forest as final model for deployment and hence use it in the test_cab.csv\n",
    "#predicting the value\n",
    "prediction_rf_test_cab=fit_rf.predict(test_cab)"
   ]
  },
  {
   "cell_type": "code",
   "execution_count": 121,
   "metadata": {},
   "outputs": [
    {
     "data": {
      "text/plain": [
       "array([ 8.90889402, 10.22898154,  4.63235117, ..., 12.65649454,\n",
       "       18.43470723,  8.33300326])"
      ]
     },
     "execution_count": 121,
     "metadata": {},
     "output_type": "execute_result"
    }
   ],
   "source": [
    "prediction_rf_test_cab"
   ]
  },
  {
   "cell_type": "code",
   "execution_count": 123,
   "metadata": {},
   "outputs": [
    {
     "ename": "NameError",
     "evalue": "name 'reg_all' is not defined",
     "output_type": "error",
     "traceback": [
      "\u001b[1;31m---------------------------------------------------------------------------\u001b[0m",
      "\u001b[1;31mNameError\u001b[0m                                 Traceback (most recent call last)",
      "\u001b[1;32m<ipython-input-123-8646a7f648ea>\u001b[0m in \u001b[0;36m<module>\u001b[1;34m\u001b[0m\n\u001b[1;32m----> 1\u001b[1;33m \u001b[0mreg_coef\u001b[0m \u001b[1;33m=\u001b[0m \u001b[0mreg_all\u001b[0m\u001b[1;33m.\u001b[0m\u001b[0mcoef_\u001b[0m\u001b[1;33m\u001b[0m\u001b[1;33m\u001b[0m\u001b[0m\n\u001b[0m\u001b[0;32m      2\u001b[0m \u001b[0mprint\u001b[0m\u001b[1;33m(\u001b[0m\u001b[0mreg_coef\u001b[0m\u001b[1;33m)\u001b[0m\u001b[1;33m\u001b[0m\u001b[1;33m\u001b[0m\u001b[0m\n\u001b[0;32m      3\u001b[0m \u001b[1;31m# Plot the coefficients\u001b[0m\u001b[1;33m\u001b[0m\u001b[1;33m\u001b[0m\u001b[1;33m\u001b[0m\u001b[0m\n\u001b[0;32m      4\u001b[0m \u001b[0mplt\u001b[0m\u001b[1;33m.\u001b[0m\u001b[0mfigure\u001b[0m\u001b[1;33m(\u001b[0m\u001b[0mfigsize\u001b[0m\u001b[1;33m=\u001b[0m\u001b[1;33m(\u001b[0m\u001b[1;36m15\u001b[0m\u001b[1;33m,\u001b[0m\u001b[1;36m5\u001b[0m\u001b[1;33m)\u001b[0m\u001b[1;33m)\u001b[0m\u001b[1;33m\u001b[0m\u001b[1;33m\u001b[0m\u001b[0m\n\u001b[0;32m      5\u001b[0m \u001b[0mplt\u001b[0m\u001b[1;33m.\u001b[0m\u001b[0mplot\u001b[0m\u001b[1;33m(\u001b[0m\u001b[0mrange\u001b[0m\u001b[1;33m(\u001b[0m\u001b[0mlen\u001b[0m\u001b[1;33m(\u001b[0m\u001b[0mtest\u001b[0m\u001b[1;33m.\u001b[0m\u001b[0mcolumns\u001b[0m\u001b[1;33m)\u001b[0m\u001b[1;33m)\u001b[0m\u001b[1;33m,\u001b[0m \u001b[0mreg_coef\u001b[0m\u001b[1;33m)\u001b[0m\u001b[1;33m\u001b[0m\u001b[1;33m\u001b[0m\u001b[0m\n",
      "\u001b[1;31mNameError\u001b[0m: name 'reg_all' is not defined"
     ]
    }
   ],
   "source": [
    "reg_coef = reg_all.coef_\n",
    "print(reg_coef)\n",
    "# Plot the coefficients\n",
    "plt.figure(figsize=(15,5))\n",
    "plt.plot(range(len(test.columns)), reg_coef)\n",
    "plt.xticks(range(len(test.columns)), test.columns.values, rotation=60)\n",
    "plt.margins(0.02)\n",
    "plt.savefig('linear coefficients')\n",
    "plt.show()"
   ]
  },
  {
   "cell_type": "markdown",
   "metadata": {},
   "source": [
    "## data visualisation"
   ]
  },
  {
   "cell_type": "code",
   "execution_count": 116,
   "metadata": {},
   "outputs": [
    {
     "data": {
      "text/plain": [
       "<matplotlib.axes._subplots.AxesSubplot at 0x1d22a2822b0>"
      ]
     },
     "execution_count": 116,
     "metadata": {},
     "output_type": "execute_result"
    },
    {
     "data": {
      "image/png": "[encoded data removed]",
      "text/plain": [
       "<Figure size 1080x504 with 1 Axes>"
      ]
     },
     "metadata": {},
     "output_type": "display_data"
    }
   ],
   "source": [
    "# Count plot on passenger count\n",
    "plt.figure(figsize=(15,7))\n",
    "sns.countplot(x=\"passenger_count\", data=train_cab)"
   ]
  },
  {
   "cell_type": "code",
   "execution_count": 117,
   "metadata": {},
   "outputs": [
    {
     "data": {
      "image/png": "[encoded data removed]",
      "text/plain": [
       "<Figure size 1080x504 with 1 Axes>"
      ]
     },
     "metadata": {},
     "output_type": "display_data"
    }
   ],
   "source": [
    "plt.figure(figsize=(15,7))\n",
    "plt.scatter(x=train_cab['passenger_count'], y=train_cab['fare_amount'], s=10)\n",
    "plt.xlabel('No. of Passengers')\n",
    "plt.ylabel('Fare')\n",
    "plt.show()"
   ]
  },
  {
   "cell_type": "code",
   "execution_count": 118,
   "metadata": {},
   "outputs": [
    {
     "data": {
      "text/plain": [
       "<matplotlib.axes._subplots.AxesSubplot at 0x1d22a2519b0>"
      ]
     },
     "execution_count": 118,
     "metadata": {},
     "output_type": "execute_result"
    },
    {
     "data": {
      "image/png": "[encoded data removed]",
      "text/plain": [
       "<Figure size 1080x504 with 1 Axes>"
      ]
     },
     "metadata": {},
     "output_type": "display_data"
    }
   ],
   "source": [
    "#impact of Day on the number of cab rides\n",
    "plt.figure(figsize=(15,7))\n",
    "sns.countplot(x=\"weekday\", data=train_cab)"
   ]
  },
  {
   "cell_type": "code",
   "execution_count": 119,
   "metadata": {},
   "outputs": [
    {
     "data": {
      "image/png": "[encoded data removed]",
      "text/plain": [
       "<Figure size 1080x504 with 1 Axes>"
      ]
     },
     "metadata": {},
     "output_type": "display_data"
    }
   ],
   "source": [
    "\n",
    "#Relationships between day and Fare\n",
    "plt.figure(figsize=(15,7))\n",
    "plt.scatter(x=train_cab['weekday'], y=train_cab['fare_amount'], s=10)\n",
    "plt.xlabel('day')\n",
    "plt.ylabel('Fare')\n",
    "plt.show()"
   ]
  },
  {
   "cell_type": "code",
   "execution_count": 120,
   "metadata": {},
   "outputs": [
    {
     "data": {
      "image/png": "[encoded data removed]",
      "text/plain": [
       "<Figure size 1080x504 with 1 Axes>"
      ]
     },
     "metadata": {},
     "output_type": "display_data"
    }
   ],
   "source": [
    "#Relationship between distance and fare \n",
    "plt.figure(figsize=(15,7))\n",
    "plt.scatter(x = train_cab['geodesic'],y = train_cab['fare_amount'],c = \"g\")\n",
    "plt.xlabel('Distance')\n",
    "plt.ylabel('Fare')\n",
    "plt.show()"
   ]
  }
 ],
 "metadata": {
  "kernelspec": {
   "display_name": "Python 3",
   "language": "python",
   "name": "python3"
  },
  "language_info": {
   "codemirror_mode": {
    "name": "ipython",
    "version": 3
   },
   "file_extension": ".py",
   "mimetype": "text/x-python",
   "name": "python",
   "nbconvert_exporter": "python",
   "pygments_lexer": "ipython3",
   "version": "3.7.3"
  }
 },
 "nbformat": 4,
 "nbformat_minor": 2
}
